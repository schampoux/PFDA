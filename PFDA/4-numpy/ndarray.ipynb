{
 "cells": [
  {
   "cell_type": "markdown",
   "id": "d792b6d2-c013-44ab-8486-3b64ea46f619",
   "metadata": {},
   "source": [
    "# Continuation from ndarray.py "
   ]
  },
  {
   "cell_type": "markdown",
   "id": "3c967693-5aec-406b-a40e-ecadee9e733f",
   "metadata": {},
   "source": [
    "If you want a copy of a slice from a `ndarray` you need to explicitly run `.copy()`"
   ]
  },
  {
   "cell_type": "code",
   "execution_count": 2,
   "id": "f0c83a9d-e58e-4e7e-b8c4-7e5571c5405f",
   "metadata": {},
   "outputs": [
    {
     "name": "stdout",
     "output_type": "stream",
     "text": [
      "[5 6 7]\n"
     ]
    }
   ],
   "source": [
    "import numpy as np \n",
    "arr = np.arange(10)\n",
    "arr_slice = arr[5:8].copy()\n",
    "print(arr_slice)"
   ]
  },
  {
   "cell_type": "markdown",
   "id": "e1cf9db1-4866-4c57-94f7-44790573fbb6",
   "metadata": {},
   "source": [
    "With higher dimensional slicing, you have more options. For example, a 2d array will contain 1d arrays at each index. "
   ]
  },
  {
   "cell_type": "code",
   "execution_count": 3,
   "id": "ec9041e2-e631-4321-8eb7-28066b187a98",
   "metadata": {},
   "outputs": [
    {
     "name": "stdout",
     "output_type": "stream",
     "text": [
      "2d array:\n",
      " [[1 2 3]\n",
      " [4 5 6]\n",
      " [7 8 9]]\n"
     ]
    }
   ],
   "source": [
    "arr2d = np.array([[1,2,3],[4,5,6],[7,8,9]])\n",
    "print(\"2d array:\\n\", arr2d)"
   ]
  },
  {
   "cell_type": "code",
   "execution_count": 4,
   "id": "1e1289f9-335b-4957-948a-be58fb18774a",
   "metadata": {},
   "outputs": [
    {
     "name": "stdout",
     "output_type": "stream",
     "text": [
      "[7 8 9]\n"
     ]
    }
   ],
   "source": [
    "print(arr2d[2])"
   ]
  },
  {
   "cell_type": "markdown",
   "id": "f1ee374a-643b-4cb7-9287-e4551973c28c",
   "metadata": {},
   "source": [
    "Access the second element from the second 1d array: \n"
   ]
  },
  {
   "cell_type": "code",
   "execution_count": 7,
   "id": "76bdbdac-f6b4-4c65-9423-82a301f434ff",
   "metadata": {},
   "outputs": [
    {
     "name": "stdout",
     "output_type": "stream",
     "text": [
      "9\n",
      "9\n"
     ]
    }
   ],
   "source": [
    "print(arr2d[2][2])\n",
    "\n",
    "# or \n",
    "\n",
    "print(arr2d[2, 2])"
   ]
  },
  {
   "cell_type": "markdown",
   "id": "bc8d30a6-dc7c-42cb-85a5-122f1e06c6d9",
   "metadata": {},
   "source": [
    "Note how we refer to the axes of the 2 dimensional array. \n",
    "- Axis 0 = rows,\n",
    "- Axis 1 = columns"
   ]
  },
  {
   "cell_type": "markdown",
   "id": "4c58ddaf-6d7e-4a25-89fe-22b3f74a00c6",
   "metadata": {},
   "source": [
    "In multidimensional arrays, if you omit later indeces when indexing (i.e. you dont specify a value for each dimension in the array when indexing), the result will be a lower dimensional array. "
   ]
  },
  {
   "cell_type": "code",
   "execution_count": 8,
   "id": "b5b75283-9c25-4dd4-87b2-17e99a7dfb86",
   "metadata": {},
   "outputs": [
    {
     "name": "stdout",
     "output_type": "stream",
     "text": [
      "3d array:\n",
      " [[[1 2 3]\n",
      "  [4 5 6]]\n",
      "\n",
      " [[1 2 3]\n",
      "  [4 5 6]]\n",
      "\n",
      " [[1 2 3]\n",
      "  [4 5 6]]]\n"
     ]
    }
   ],
   "source": [
    "arr3d = np.array([[[1,2,3],[4,5,6]], [[1,2,3],[4,5,6]], [[1,2,3],[4,5,6]]])\n",
    "print(\"3d array:\\n\", arr3d)"
   ]
  },
  {
   "cell_type": "code",
   "execution_count": 12,
   "id": "d466e202-a384-4872-8c80-54828b2638b0",
   "metadata": {},
   "outputs": [
    {
     "name": "stdout",
     "output_type": "stream",
     "text": [
      "Slicing 3d array:\n",
      "\n",
      " arr3d[0]\n",
      "\n",
      " [[1 2 3]\n",
      " [4 5 6]]\n"
     ]
    }
   ],
   "source": [
    "print(\"Indexing 3d array:\\n\\n\", \"arr3d[0]\\n\\n\", arr3d[0])"
   ]
  },
  {
   "cell_type": "markdown",
   "id": "6e71fad8-da12-4143-be1b-69f87c64880d",
   "metadata": {},
   "source": [
    "Just like in lower dimensions, both scalar values and arrays can be assigned to this view. **(we say view, because unless we explicitly make a copy, the subsection of the array that has been selected returns a view of the array)**"
   ]
  },
  {
   "cell_type": "markdown",
   "id": "09bbe5b8-e120-4c9d-a8c8-79b8ffde707c",
   "metadata": {},
   "source": [
    "## Indexing with Slices"
   ]
  },
  {
   "cell_type": "markdown",
   "id": "092f2eeb-c96d-49b0-99b2-e03c0fa2861f",
   "metadata": {},
   "source": [
    "A slce selects a range along an axis. Let's select the forst two rows of arr2d"
   ]
  },
  {
   "cell_type": "code",
   "execution_count": 15,
   "id": "eb0711bb-954f-4b3a-84e0-99882a7df278",
   "metadata": {},
   "outputs": [
    {
     "data": {
      "text/plain": [
       "array([[1, 2, 3],\n",
       "       [4, 5, 6],\n",
       "       [7, 8, 9]])"
      ]
     },
     "execution_count": 15,
     "metadata": {},
     "output_type": "execute_result"
    }
   ],
   "source": [
    "arr2d = np.array([[1,2,3],[4,5,6],[7,8,9]])\n",
    "arr2d"
   ]
  },
  {
   "cell_type": "code",
   "execution_count": 23,
   "id": "ea7a131a-d25c-47ac-a851-3c5775206aa1",
   "metadata": {},
   "outputs": [
    {
     "data": {
      "text/plain": [
       "array([[1, 2, 3],\n",
       "       [4, 5, 6]])"
      ]
     },
     "execution_count": 23,
     "metadata": {},
     "output_type": "execute_result"
    }
   ],
   "source": [
    "# i.e., select up to, but not including, row 2. \n",
    "# in other words, select rows 0, 1. \n",
    "arr2d[:2]"
   ]
  },
  {
   "cell_type": "markdown",
   "id": "d0631458-95db-4938-a45d-84996912bfff",
   "metadata": {},
   "source": [
    "You can also pass more than one slice just like with indexing. "
   ]
  },
  {
   "cell_type": "code",
   "execution_count": 24,
   "id": "5b01ea07-1784-427c-a02b-fe86be568873",
   "metadata": {},
   "outputs": [
    {
     "data": {
      "text/plain": [
       "array([[1],\n",
       "       [4]])"
      ]
     },
     "execution_count": 24,
     "metadata": {},
     "output_type": "execute_result"
    }
   ],
   "source": [
    "# select up to the first two rows along the 0th axis, select up to the first column on the 1st axis. \n",
    "arr2d[:2, :1]"
   ]
  },
  {
   "cell_type": "markdown",
   "id": "3e21e817-d08d-4c06-92b3-b476df783c2e",
   "metadata": {},
   "source": [
    "**Again, by slicing like this, you always obtain array views of the same number of dimensions.**"
   ]
  },
  {
   "cell_type": "markdown",
   "id": "78bc8c68-cb79-489a-936d-ad9631bae109",
   "metadata": {},
   "source": [
    "Remember a colon `:` by itself means to take the entire selection on that axis. Also, assigning to a slice experssion assigns to the whole selection."
   ]
  },
  {
   "cell_type": "markdown",
   "id": "ad844ce0-d3e3-4c85-9e7e-cf64b3f4e05f",
   "metadata": {},
   "source": [
    "## Boolean Indexing"
   ]
  },
  {
   "cell_type": "code",
   "execution_count": null,
   "id": "ec35a195-c0e0-44df-bce0-1e5d14ec3ade",
   "metadata": {},
   "outputs": [],
   "source": []
  }
 ],
 "metadata": {
  "kernelspec": {
   "display_name": "Python 3 (ipykernel)",
   "language": "python",
   "name": "python3"
  },
  "language_info": {
   "codemirror_mode": {
    "name": "ipython",
    "version": 3
   },
   "file_extension": ".py",
   "mimetype": "text/x-python",
   "name": "python",
   "nbconvert_exporter": "python",
   "pygments_lexer": "ipython3",
   "version": "3.12.3"
  }
 },
 "nbformat": 4,
 "nbformat_minor": 5
}
