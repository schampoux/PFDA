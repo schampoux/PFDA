{
 "cells": [
  {
   "cell_type": "markdown",
   "id": "d792b6d2-c013-44ab-8486-3b64ea46f619",
   "metadata": {},
   "source": [
    "# Continuation from ndarray.py "
   ]
  },
  {
   "cell_type": "markdown",
   "id": "3c967693-5aec-406b-a40e-ecadee9e733f",
   "metadata": {},
   "source": [
    "If you want a copy of a slice from a `ndarray` you need to explicitly run `.copy()`"
   ]
  },
  {
   "cell_type": "code",
   "execution_count": 2,
   "id": "f0c83a9d-e58e-4e7e-b8c4-7e5571c5405f",
   "metadata": {},
   "outputs": [
    {
     "name": "stdout",
     "output_type": "stream",
     "text": [
      "[5 6 7]\n"
     ]
    }
   ],
   "source": [
    "import numpy as np \n",
    "arr = np.arange(10)\n",
    "arr_slice = arr[5:8].copy()\n",
    "print(arr_slice)"
   ]
  },
  {
   "cell_type": "markdown",
   "id": "e1cf9db1-4866-4c57-94f7-44790573fbb6",
   "metadata": {},
   "source": [
    "With higher dimensional slicing, you have more options. For example, a 2d array will contain 1d arrays at each index. "
   ]
  },
  {
   "cell_type": "code",
   "execution_count": 3,
   "id": "ec9041e2-e631-4321-8eb7-28066b187a98",
   "metadata": {},
   "outputs": [
    {
     "name": "stdout",
     "output_type": "stream",
     "text": [
      "2d array:\n",
      " [[1 2 3]\n",
      " [4 5 6]\n",
      " [7 8 9]]\n"
     ]
    }
   ],
   "source": [
    "arr2d = np.array([[1,2,3],[4,5,6],[7,8,9]])\n",
    "print(\"2d array:\\n\", arr2d)"
   ]
  },
  {
   "cell_type": "code",
   "execution_count": 4,
   "id": "1e1289f9-335b-4957-948a-be58fb18774a",
   "metadata": {},
   "outputs": [
    {
     "name": "stdout",
     "output_type": "stream",
     "text": [
      "[7 8 9]\n"
     ]
    }
   ],
   "source": [
    "print(arr2d[2])"
   ]
  },
  {
   "cell_type": "markdown",
   "id": "f1ee374a-643b-4cb7-9287-e4551973c28c",
   "metadata": {},
   "source": [
    "Access the second element from the second 1d array: \n"
   ]
  },
  {
   "cell_type": "code",
   "execution_count": 7,
   "id": "76bdbdac-f6b4-4c65-9423-82a301f434ff",
   "metadata": {},
   "outputs": [
    {
     "name": "stdout",
     "output_type": "stream",
     "text": [
      "9\n",
      "9\n"
     ]
    }
   ],
   "source": [
    "print(arr2d[2][2])\n",
    "\n",
    "# or \n",
    "\n",
    "print(arr2d[2, 2])"
   ]
  },
  {
   "cell_type": "markdown",
   "id": "bc8d30a6-dc7c-42cb-85a5-122f1e06c6d9",
   "metadata": {},
   "source": [
    "Note how we refer to the axes of the 2 dimensional array. \n",
    "- Axis 0 = rows,\n",
    "- Axis 1 = columns"
   ]
  },
  {
   "cell_type": "markdown",
   "id": "4c58ddaf-6d7e-4a25-89fe-22b3f74a00c6",
   "metadata": {},
   "source": [
    "In multidimensional arrays, if you omit later indeces when indexing (i.e. you dont specify a value for each dimension in the array when indexing), the result will be a lower dimensional array. "
   ]
  },
  {
   "cell_type": "code",
   "execution_count": 8,
   "id": "b5b75283-9c25-4dd4-87b2-17e99a7dfb86",
   "metadata": {},
   "outputs": [
    {
     "name": "stdout",
     "output_type": "stream",
     "text": [
      "3d array:\n",
      " [[[1 2 3]\n",
      "  [4 5 6]]\n",
      "\n",
      " [[1 2 3]\n",
      "  [4 5 6]]\n",
      "\n",
      " [[1 2 3]\n",
      "  [4 5 6]]]\n"
     ]
    }
   ],
   "source": [
    "arr3d = np.array([[[1,2,3],[4,5,6]], [[1,2,3],[4,5,6]], [[1,2,3],[4,5,6]]])\n",
    "print(\"3d array:\\n\", arr3d)"
   ]
  },
  {
   "cell_type": "code",
   "execution_count": 12,
   "id": "d466e202-a384-4872-8c80-54828b2638b0",
   "metadata": {},
   "outputs": [
    {
     "name": "stdout",
     "output_type": "stream",
     "text": [
      "Slicing 3d array:\n",
      "\n",
      " arr3d[0]\n",
      "\n",
      " [[1 2 3]\n",
      " [4 5 6]]\n"
     ]
    }
   ],
   "source": [
    "print(\"Indexing 3d array:\\n\\n\", \"arr3d[0]\\n\\n\", arr3d[0])"
   ]
  },
  {
   "cell_type": "markdown",
   "id": "6e71fad8-da12-4143-be1b-69f87c64880d",
   "metadata": {},
   "source": [
    "Just like in lower dimensions, both scalar values and arrays can be assigned to this view. **(we say view, because unless we explicitly make a copy, the subsection of the array that has been selected returns a view of the array)**"
   ]
  },
  {
   "cell_type": "markdown",
   "id": "09bbe5b8-e120-4c9d-a8c8-79b8ffde707c",
   "metadata": {},
   "source": [
    "## Indexing with Slices"
   ]
  },
  {
   "cell_type": "markdown",
   "id": "092f2eeb-c96d-49b0-99b2-e03c0fa2861f",
   "metadata": {},
   "source": [
    "A slce selects a range along an axis. Let's select the forst two rows of arr2d"
   ]
  },
  {
   "cell_type": "code",
   "execution_count": 15,
   "id": "eb0711bb-954f-4b3a-84e0-99882a7df278",
   "metadata": {},
   "outputs": [
    {
     "data": {
      "text/plain": [
       "array([[1, 2, 3],\n",
       "       [4, 5, 6],\n",
       "       [7, 8, 9]])"
      ]
     },
     "execution_count": 15,
     "metadata": {},
     "output_type": "execute_result"
    }
   ],
   "source": [
    "arr2d = np.array([[1,2,3],[4,5,6],[7,8,9]])\n",
    "arr2d"
   ]
  },
  {
   "cell_type": "code",
   "execution_count": 23,
   "id": "ea7a131a-d25c-47ac-a851-3c5775206aa1",
   "metadata": {},
   "outputs": [
    {
     "data": {
      "text/plain": [
       "array([[1, 2, 3],\n",
       "       [4, 5, 6]])"
      ]
     },
     "execution_count": 23,
     "metadata": {},
     "output_type": "execute_result"
    }
   ],
   "source": [
    "# i.e., select up to, but not including, row 2. \n",
    "# in other words, select rows 0, 1. \n",
    "arr2d[:2]"
   ]
  },
  {
   "cell_type": "markdown",
   "id": "d0631458-95db-4938-a45d-84996912bfff",
   "metadata": {},
   "source": [
    "You can also pass more than one slice just like with indexing. "
   ]
  },
  {
   "cell_type": "code",
   "execution_count": 24,
   "id": "5b01ea07-1784-427c-a02b-fe86be568873",
   "metadata": {},
   "outputs": [
    {
     "data": {
      "text/plain": [
       "array([[1],\n",
       "       [4]])"
      ]
     },
     "execution_count": 24,
     "metadata": {},
     "output_type": "execute_result"
    }
   ],
   "source": [
    "# select up to the first two rows along the 0th axis, select up to the first column on the 1st axis. \n",
    "arr2d[:2, :1]"
   ]
  },
  {
   "cell_type": "markdown",
   "id": "3e21e817-d08d-4c06-92b3-b476df783c2e",
   "metadata": {},
   "source": [
    "**Again, by slicing like this, you always obtain array views of the same number of dimensions.**"
   ]
  },
  {
   "cell_type": "markdown",
   "id": "78bc8c68-cb79-489a-936d-ad9631bae109",
   "metadata": {},
   "source": [
    "Remember a colon `:` by itself means to take the entire selection on that axis. Also, assigning to a slice experssion assigns to the whole selection."
   ]
  },
  {
   "cell_type": "markdown",
   "id": "ad844ce0-d3e3-4c85-9e7e-cf64b3f4e05f",
   "metadata": {},
   "source": [
    "## Boolean Indexing"
   ]
  },
  {
   "cell_type": "markdown",
   "id": "f0a783eb-b541-42d7-921d-f4036761f0af",
   "metadata": {},
   "source": [
    "** Selecting data from an array by boolean indexing ALWAYS creates a copy of the data, even if the returned array is unchanged.**"
   ]
  },
  {
   "cell_type": "markdown",
   "id": "7894b2a7-0a3d-480e-add5-c53dbc0170cf",
   "metadata": {},
   "source": [
    "Start with array of names with duplicates. "
   ]
  },
  {
   "cell_type": "code",
   "execution_count": 27,
   "id": "01234429-d15f-4a82-a25e-b829ff5ff21e",
   "metadata": {},
   "outputs": [
    {
     "name": "stdout",
     "output_type": "stream",
     "text": [
      "\n",
      "names\n",
      " ['Bob' 'Joe' 'Will' 'Bob' 'Will' 'Joe' 'Joe']\n"
     ]
    }
   ],
   "source": [
    "names = np.array(['Bob', 'Joe', 'Will', 'Bob', 'Will', 'Joe', 'Joe'])\n",
    "\n",
    "print(\"\\nnames\\n\", names)"
   ]
  },
  {
   "cell_type": "markdown",
   "id": "813c5201-6d6f-41e5-bcfd-4787042fcede",
   "metadata": {},
   "source": [
    "Use `randn` function from `np.random` to generate some normally distributed data `data."
   ]
  },
  {
   "cell_type": "code",
   "execution_count": 31,
   "id": "a40dc4b3-139a-420d-8ec6-73da82296702",
   "metadata": {},
   "outputs": [
    {
     "data": {
      "text/plain": [
       "array([[ 1.80654981,  0.81800951, -1.08373878, -0.9555193 ],\n",
       "       [ 1.03081376,  0.58821398, -0.14728399,  0.10717245],\n",
       "       [-0.89572635, -0.05039885,  0.00592346, -0.4986752 ],\n",
       "       [ 1.05991751,  0.49567552, -0.08387194,  0.71704313],\n",
       "       [ 0.15012554,  1.63232492,  0.3441879 , -1.10361292],\n",
       "       [-0.28298436,  1.2416874 , -0.15822024, -1.1265064 ],\n",
       "       [ 0.83857643, -0.78637674,  0.71262016,  0.04689472]])"
      ]
     },
     "execution_count": 31,
     "metadata": {},
     "output_type": "execute_result"
    }
   ],
   "source": [
    "data = np.random.randn(7,4)\n",
    "data"
   ]
  },
  {
   "cell_type": "markdown",
   "id": "2e08266f-14f7-4f6a-8778-90e75c628351",
   "metadata": {},
   "source": [
    "Even though `data` has nothing to do with names, we are going to make a boolean array using `names`, and index `data` with that."
   ]
  },
  {
   "cell_type": "code",
   "execution_count": 36,
   "id": "cf4020c9-106a-44c6-a8db-0458f42a6dbd",
   "metadata": {},
   "outputs": [
    {
     "data": {
      "text/plain": [
       "array([ True, False, False,  True, False, False, False])"
      ]
     },
     "execution_count": 36,
     "metadata": {},
     "output_type": "execute_result"
    }
   ],
   "source": [
    "names == \"Bob\""
   ]
  },
  {
   "cell_type": "markdown",
   "id": "f1013cf2-6a69-4e06-924f-549fed22e491",
   "metadata": {},
   "source": [
    "You can also assign a variable name to this condition: \n",
    "- `condition = names == \"Bob`"
   ]
  },
  {
   "cell_type": "code",
   "execution_count": 43,
   "id": "c2352586-26eb-401c-98be-35841f6d8fcc",
   "metadata": {},
   "outputs": [
    {
     "data": {
      "text/plain": [
       "array([[ 1.80654981,  0.81800951, -1.08373878, -0.9555193 ],\n",
       "       [ 1.05991751,  0.49567552, -0.08387194,  0.71704313]])"
      ]
     },
     "execution_count": 43,
     "metadata": {},
     "output_type": "execute_result"
    }
   ],
   "source": [
    "data[names == \"Bob\"]"
   ]
  },
  {
   "cell_type": "markdown",
   "id": "991735ba-f948-45e8-8774-07f5f35c5f41",
   "metadata": {},
   "source": [
    "Just make sure that the boolean array is of the same length as the array its axis is indexing. "
   ]
  },
  {
   "cell_type": "markdown",
   "id": "d2c63557-be6c-4a0c-8426-8b65667a2d00",
   "metadata": {},
   "source": [
    "Note, you can also make a bool array for values that are not equal to bob by using the following syntax:\n",
    "- `names != \"Bob\"`\n",
    "- `~(names == \"Bob\")`"
   ]
  },
  {
   "cell_type": "code",
   "execution_count": 41,
   "id": "43a7f682-3751-4c38-a85b-806ca4412a29",
   "metadata": {},
   "outputs": [],
   "source": [
    "names_too_long = np.array(['Bob', 'Joe', 'Will', 'Bob', 'Will', 'Joe', 'Joe', \"Arthur\"])"
   ]
  },
  {
   "cell_type": "code",
   "execution_count": 42,
   "id": "59d869e8-79b0-46f6-98bd-4843469e3c68",
   "metadata": {},
   "outputs": [
    {
     "ename": "IndexError",
     "evalue": "boolean index did not match indexed array along axis 0; size of axis is 7 but size of corresponding boolean axis is 8",
     "output_type": "error",
     "traceback": [
      "\u001b[31m---------------------------------------------------------------------------\u001b[39m",
      "\u001b[31mIndexError\u001b[39m                                Traceback (most recent call last)",
      "\u001b[36mCell\u001b[39m\u001b[36m \u001b[39m\u001b[32mIn[42]\u001b[39m\u001b[32m, line 1\u001b[39m\n\u001b[32m----> \u001b[39m\u001b[32m1\u001b[39m \u001b[43mdata\u001b[49m\u001b[43m[\u001b[49m\u001b[43mnames_too_long\u001b[49m\u001b[43m \u001b[49m\u001b[43m==\u001b[49m\u001b[33;43m\"\u001b[39;49m\u001b[33;43mBob\u001b[39;49m\u001b[33;43m\"\u001b[39;49m\u001b[43m]\u001b[49m\n",
      "\u001b[31mIndexError\u001b[39m: boolean index did not match indexed array along axis 0; size of axis is 7 but size of corresponding boolean axis is 8"
     ]
    }
   ],
   "source": [
    "data[names_too_long ==\"Bob\"]"
   ]
  },
  {
   "cell_type": "markdown",
   "id": "cac5061f-d571-4cd8-b601-eb506bcdae2f",
   "metadata": {},
   "source": [
    "**IndexError: boolean index did not match indexed array along axis 0; size of axis is 7 but size of corresponding boolean axis is 8**"
   ]
  },
  {
   "cell_type": "markdown",
   "id": "20b00d67-18bb-4b77-8f98-cf1c164cca91",
   "metadata": {},
   "source": [
    "Assigning a variable name to the condition is an easier way to use the latter syntax for negation: \n",
    "- `~(condition)`"
   ]
  },
  {
   "cell_type": "markdown",
   "id": "a72493f1-9a3f-4ecb-86a2-1677a76dd7a0",
   "metadata": {},
   "source": [
    "You can mix and match bool arrays with indexes as well if you would like to narrow down your search even more. "
   ]
  },
  {
   "cell_type": "markdown",
   "id": "b3d7c7df-a3c9-4208-ae98-fc46133ebe10",
   "metadata": {},
   "source": [
    "**Note:** You can combine bool conditions using `&` (and) `|` (or). Pythonic `and` and `or` keywords do not work with boolean arrays.  "
   ]
  },
  {
   "cell_type": "code",
   "execution_count": 45,
   "id": "d06d04ea-5ebf-40c8-8582-6358f19d9af5",
   "metadata": {},
   "outputs": [
    {
     "data": {
      "text/plain": [
       "array([False, False, False, False, False, False, False])"
      ]
     },
     "execution_count": 45,
     "metadata": {},
     "output_type": "execute_result"
    }
   ],
   "source": [
    "condition2 = (names == \"Bob\") & (names != \"Bob\")\n",
    "condition2"
   ]
  },
  {
   "cell_type": "markdown",
   "id": "3c3adf67-288b-41c2-bc51-ef2b897e83f0",
   "metadata": {},
   "source": [
    "Lastly, setting values with a boolean array:\n",
    "- setting everything less than 0 equal to zero \n",
    "- `data[data < 0] = 0`"
   ]
  },
  {
   "cell_type": "markdown",
   "id": "02788fe8-443e-47c0-acf7-e0af815eaed1",
   "metadata": {},
   "source": [
    "## Fancy Indexing"
   ]
  },
  {
   "cell_type": "markdown",
   "id": "165222ff-1d8d-47a5-aa39-322f72fa043d",
   "metadata": {},
   "source": [
    "This is a term adopted by NumPy to describe indexing using *integer* arrays. "
   ]
  },
  {
   "cell_type": "markdown",
   "id": "727d8a0c-ac1c-4d94-825e-9e1c7c07662e",
   "metadata": {},
   "source": [
    "**Fancy indexing always copies the data into a new array**\n",
    "- different from slicing\n",
    "- similar to bool indexing"
   ]
  },
  {
   "cell_type": "code",
   "execution_count": 49,
   "id": "86198a52-7f8f-4a2b-9b92-27d8a640d2d2",
   "metadata": {},
   "outputs": [],
   "source": [
    "arr = np.empty((8,4))"
   ]
  },
  {
   "cell_type": "code",
   "execution_count": 50,
   "id": "5b4d2bb2-2967-433a-a701-e2cf864830b4",
   "metadata": {},
   "outputs": [],
   "source": [
    "for i in range(8):\n",
    "    arr[i] = i"
   ]
  },
  {
   "cell_type": "code",
   "execution_count": 51,
   "id": "2fa2d95f-ce98-4e62-b7ff-0a884dfe660c",
   "metadata": {},
   "outputs": [
    {
     "data": {
      "text/plain": [
       "array([[0., 0., 0., 0.],\n",
       "       [1., 1., 1., 1.],\n",
       "       [2., 2., 2., 2.],\n",
       "       [3., 3., 3., 3.],\n",
       "       [4., 4., 4., 4.],\n",
       "       [5., 5., 5., 5.],\n",
       "       [6., 6., 6., 6.],\n",
       "       [7., 7., 7., 7.]])"
      ]
     },
     "execution_count": 51,
     "metadata": {},
     "output_type": "execute_result"
    }
   ],
   "source": [
    "arr"
   ]
  },
  {
   "cell_type": "markdown",
   "id": "a5818177-1396-4a50-be69-dd711a90c77c",
   "metadata": {},
   "source": [
    "Index `arr` using an array and see what happens:"
   ]
  },
  {
   "cell_type": "code",
   "execution_count": 53,
   "id": "8ed72b22-88f1-4094-8c88-ab67ce447299",
   "metadata": {},
   "outputs": [
    {
     "data": {
      "text/plain": [
       "array([[0., 0., 0., 0.],\n",
       "       [2., 2., 2., 2.],\n",
       "       [3., 3., 3., 3.]])"
      ]
     },
     "execution_count": 53,
     "metadata": {},
     "output_type": "execute_result"
    }
   ],
   "source": [
    "arr[[0, 2, 3]]"
   ]
  },
  {
   "cell_type": "markdown",
   "id": "7bd53570-0e1a-4924-b0f8-b0f1e08c1c25",
   "metadata": {},
   "source": [
    "It selects the corresponding rows along the 0th axis. "
   ]
  },
  {
   "cell_type": "markdown",
   "id": "3e44eafa-e2df-4b04-8748-a8a6e84561f1",
   "metadata": {},
   "source": [
    "Indexing with more than one array (in two dimensions) selects a 1d array of elements corresponding to each tuple of indeces. For example:\n",
    "- `arr[[1,2,3],[4,5,6]]`\n",
    "- This selects a 1d array with values matching (1,4) (2,5) (3,6).\n",
    "- Think of this as a bingo board. "
   ]
  },
  {
   "cell_type": "markdown",
   "id": "b6565993-d68f-44fe-ab18-53c9371cfff3",
   "metadata": {},
   "source": [
    "## Transposing Arrays and Swapping Axes"
   ]
  },
  {
   "cell_type": "markdown",
   "id": "924c96cc-be12-4aa3-909f-1e5b4df4bce1",
   "metadata": {},
   "source": [
    "Transposing is a special form of reshaping that similarly returns a view on the underlying data without copying anything. Arrays have the `transpose` method, and also the special `T` attribute."
   ]
  },
  {
   "cell_type": "code",
   "execution_count": 57,
   "id": "39304f9e-558b-4dbf-8eac-ebd56fa45c91",
   "metadata": {},
   "outputs": [
    {
     "data": {
      "text/plain": [
       "array([[ 0,  1,  2,  3,  4],\n",
       "       [ 5,  6,  7,  8,  9],\n",
       "       [10, 11, 12, 13, 14]])"
      ]
     },
     "execution_count": 57,
     "metadata": {},
     "output_type": "execute_result"
    }
   ],
   "source": [
    "arr = np.arange(15).reshape((3,5))\n",
    "arr"
   ]
  },
  {
   "cell_type": "markdown",
   "id": "f6fbbb7d-5e85-4eaf-b2b1-b1990cb2e64d",
   "metadata": {},
   "source": [
    "Compare this to an array made without reshaping to `0th axis = 3` , `1st axis=5`"
   ]
  },
  {
   "cell_type": "code",
   "execution_count": 59,
   "id": "bd22a495-5ea1-4fe4-8553-c47af43e0853",
   "metadata": {},
   "outputs": [
    {
     "data": {
      "text/plain": [
       "array([ 0,  1,  2,  3,  4,  5,  6,  7,  8,  9, 10, 11, 12, 13, 14])"
      ]
     },
     "execution_count": 59,
     "metadata": {},
     "output_type": "execute_result"
    }
   ],
   "source": [
    "arr15 = np.arange(15)\n",
    "arr15"
   ]
  },
  {
   "cell_type": "code",
   "execution_count": 60,
   "id": "447be1cb-7a1c-4d63-903d-63bc5a6942ff",
   "metadata": {},
   "outputs": [
    {
     "data": {
      "text/plain": [
       "array([[ 0,  5, 10],\n",
       "       [ 1,  6, 11],\n",
       "       [ 2,  7, 12],\n",
       "       [ 3,  8, 13],\n",
       "       [ 4,  9, 14]])"
      ]
     },
     "execution_count": 60,
     "metadata": {},
     "output_type": "execute_result"
    }
   ],
   "source": [
    "# Transpose attribute switches the 1st axis to be of length 3, and the 0th axis to be of length 5\n",
    "# Note that .T attribute is a special case of swapping axes. \n",
    "arr.T "
   ]
  },
  {
   "cell_type": "markdown",
   "id": "5753f2d1-6974-4663-9e6a-9520e5d9febd",
   "metadata": {},
   "source": [
    "This is handy for matrix computations. "
   ]
  },
  {
   "cell_type": "code",
   "execution_count": 61,
   "id": "22a17d8a-d4dd-412b-8245-7bfd6d09e972",
   "metadata": {},
   "outputs": [
    {
     "data": {
      "text/plain": [
       "array([[ 1.26175312, -0.48451257, -1.15695102],\n",
       "       [-0.34053114,  1.54933356,  2.16785948],\n",
       "       [ 0.62288868, -0.24871723, -1.25119141],\n",
       "       [ 0.44057399,  0.12513364,  0.75038645],\n",
       "       [ 1.67055327,  0.78378086,  2.10895548],\n",
       "       [ 0.65622822,  0.22385547,  0.06231148]])"
      ]
     },
     "execution_count": 61,
     "metadata": {},
     "output_type": "execute_result"
    }
   ],
   "source": [
    "# inner matrix product using np.dot()\n",
    "arr = np.random.randn(6,3)\n"
   ]
  },
  {
   "cell_type": "code",
   "execution_count": 62,
   "id": "b57af43f-d66d-429f-86c8-4e16fce51ed5",
   "metadata": {},
   "outputs": [
    {
     "data": {
      "text/plain": [
       "array([[ 5.51146182,  0.21752387,  0.91725058],\n",
       "       [ 0.21752387,  3.37712931,  5.99129393],\n",
       "       [ 0.91725058,  5.99129393, 12.61828612]])"
      ]
     },
     "execution_count": 62,
     "metadata": {},
     "output_type": "execute_result"
    }
   ],
   "source": [
    "np.dot(arr.T, arr)"
   ]
  },
  {
   "cell_type": "markdown",
   "id": "7b3dae7a-66b6-456e-ad5e-9308f527d8f9",
   "metadata": {},
   "source": [
    "For higher dimensional arrays,`transpose` will accept a tuple of axis numbers to permute the axes. "
   ]
  },
  {
   "cell_type": "code",
   "execution_count": 63,
   "id": "26996dc5-6720-4c13-b825-8a5d8d252e98",
   "metadata": {},
   "outputs": [
    {
     "data": {
      "text/plain": [
       "array([[[ 0,  1,  2,  3],\n",
       "        [ 4,  5,  6,  7]],\n",
       "\n",
       "       [[ 8,  9, 10, 11],\n",
       "        [12, 13, 14, 15]]])"
      ]
     },
     "execution_count": 63,
     "metadata": {},
     "output_type": "execute_result"
    }
   ],
   "source": [
    "arr = np.arange(16).reshape((2,2,4))\n",
    "arr"
   ]
  },
  {
   "cell_type": "markdown",
   "id": "d0b48c6c-7c5e-4800-bb69-5ef849e5cb8c",
   "metadata": {},
   "source": [
    "Note: We now have two arrays, each with 2 for the 0th axis, and 4 for the 1st axis. "
   ]
  },
  {
   "cell_type": "code",
   "execution_count": 64,
   "id": "1cbc29ba-18d4-4a89-bdbc-c0f19429db2c",
   "metadata": {},
   "outputs": [
    {
     "data": {
      "text/plain": [
       "array([[[ 0,  1,  2,  3],\n",
       "        [ 8,  9, 10, 11]],\n",
       "\n",
       "       [[ 4,  5,  6,  7],\n",
       "        [12, 13, 14, 15]]])"
      ]
     },
     "execution_count": 64,
     "metadata": {},
     "output_type": "execute_result"
    }
   ],
   "source": [
    "arr.transpose((1, 0, 2))"
   ]
  },
  {
   "cell_type": "markdown",
   "id": "3bb14b02-7f4b-40b1-aee3-0fb278392cbe",
   "metadata": {},
   "source": [
    "Here the axis have been reordered with the second axis first, the first axis second, and the last axis unchanged. "
   ]
  },
  {
   "cell_type": "markdown",
   "id": "86052bbd-4845-4bd9-8bb7-a300537fa9c2",
   "metadata": {},
   "source": [
    " **Swapping axes** (not to be confused with .T, which is a special case of swapping axes). "
   ]
  },
  {
   "cell_type": "code",
   "execution_count": 65,
   "id": "80d39751-a9d3-47bc-a927-b75722ed0ce8",
   "metadata": {},
   "outputs": [
    {
     "data": {
      "text/plain": [
       "array([[[ 0,  1,  2,  3],\n",
       "        [ 4,  5,  6,  7]],\n",
       "\n",
       "       [[ 8,  9, 10, 11],\n",
       "        [12, 13, 14, 15]]])"
      ]
     },
     "execution_count": 65,
     "metadata": {},
     "output_type": "execute_result"
    }
   ],
   "source": [
    "arr"
   ]
  },
  {
   "cell_type": "code",
   "execution_count": 67,
   "id": "a41ed922-f7f6-4d2a-b416-899a18fdd988",
   "metadata": {},
   "outputs": [
    {
     "data": {
      "text/plain": [
       "array([[[ 0,  4],\n",
       "        [ 1,  5],\n",
       "        [ 2,  6],\n",
       "        [ 3,  7]],\n",
       "\n",
       "       [[ 8, 12],\n",
       "        [ 9, 13],\n",
       "        [10, 14],\n",
       "        [11, 15]]])"
      ]
     },
     "execution_count": 67,
     "metadata": {},
     "output_type": "execute_result"
    }
   ],
   "source": [
    "arr.swapaxes(1,2)"
   ]
  },
  {
   "cell_type": "markdown",
   "id": "dce5f9be-82dd-4612-9c49-241b1da0ced9",
   "metadata": {},
   "source": [
    "# 4.2 Universal Functions: Fast Element-Wise Array Functions. "
   ]
  },
  {
   "cell_type": "markdown",
   "id": "eae224b5-c792-4bee-a2be-33ad5d2243a7",
   "metadata": {},
   "source": [
    "`ufunc` is a function that performs element-wise operations on data in ndarrays. In other words, fast vectorizes wrappers for simple functions that take one or more scalar values and produce one or more scalar results. \n",
    "- `np.sqrt()`\n",
    "- `np.exp()`\n",
    "- `np.maximum()` takes more than one array as args, and takes the element-wise maximum.\n",
    "- `np.modf()` although uncommon, this one returns more than one array, which returns that fractional id integral parts of a floating-point array. you can also assign a tuple to it when calling it so that they are easily identified. "
   ]
  },
  {
   "cell_type": "markdown",
   "id": "c8a1af95-1159-4162-af79-91f3a5bda610",
   "metadata": {},
   "source": [
    "`ufuncs` have an optional `out` argument that allows them to operate in-place on arrays. "
   ]
  },
  {
   "cell_type": "code",
   "execution_count": 76,
   "id": "5b174698-0401-49ab-8393-737771cfce1e",
   "metadata": {},
   "outputs": [
    {
     "data": {
      "text/plain": [
       "array([0, 1, 2, 3, 4, 5, 6, 7, 8, 9])"
      ]
     },
     "execution_count": 76,
     "metadata": {},
     "output_type": "execute_result"
    }
   ],
   "source": [
    "arr = np.arange(10)\n",
    "arr"
   ]
  },
  {
   "cell_type": "code",
   "execution_count": 77,
   "id": "c061a42b-3312-4d08-bdea-726c751f1627",
   "metadata": {},
   "outputs": [
    {
     "data": {
      "text/plain": [
       "array([0.        , 1.        , 1.41421356, 1.73205081, 2.        ,\n",
       "       2.23606798, 2.44948974, 2.64575131, 2.82842712, 3.        ])"
      ]
     },
     "execution_count": 77,
     "metadata": {},
     "output_type": "execute_result"
    }
   ],
   "source": [
    "np.sqrt(arr)"
   ]
  },
  {
   "cell_type": "code",
   "execution_count": 78,
   "id": "9610e924-2376-413e-b579-e27cdb58c639",
   "metadata": {},
   "outputs": [
    {
     "data": {
      "text/plain": [
       "array([0, 1, 2, 3, 4, 5, 6, 7, 8, 9])"
      ]
     },
     "execution_count": 78,
     "metadata": {},
     "output_type": "execute_result"
    }
   ],
   "source": [
    "arr"
   ]
  },
  {
   "cell_type": "code",
   "execution_count": 79,
   "id": "77a519ce-693c-454c-bda1-e308bfbd2e8c",
   "metadata": {},
   "outputs": [
    {
     "ename": "UFuncTypeError",
     "evalue": "Cannot cast ufunc 'sqrt' output from dtype('float64') to dtype('int64') with casting rule 'same_kind'",
     "output_type": "error",
     "traceback": [
      "\u001b[31m---------------------------------------------------------------------------\u001b[39m",
      "\u001b[31mUFuncTypeError\u001b[39m                            Traceback (most recent call last)",
      "\u001b[36mCell\u001b[39m\u001b[36m \u001b[39m\u001b[32mIn[79]\u001b[39m\u001b[32m, line 1\u001b[39m\n\u001b[32m----> \u001b[39m\u001b[32m1\u001b[39m \u001b[43mnp\u001b[49m\u001b[43m.\u001b[49m\u001b[43msqrt\u001b[49m\u001b[43m(\u001b[49m\u001b[43marr\u001b[49m\u001b[43m,\u001b[49m\u001b[43m \u001b[49m\u001b[43marr\u001b[49m\u001b[43m)\u001b[49m \n",
      "\u001b[31mUFuncTypeError\u001b[39m: Cannot cast ufunc 'sqrt' output from dtype('float64') to dtype('int64') with casting rule 'same_kind'"
     ]
    }
   ],
   "source": [
    "np.sqrt(arr, arr) "
   ]
  },
  {
   "cell_type": "markdown",
   "id": "dc72569e-6ef0-4fb8-9e9f-309028983733",
   "metadata": {},
   "source": [
    "Note: we cannot cast universal function `sqrt` output from `float64` to `int64` with casting rule `same_kind`. "
   ]
  },
  {
   "cell_type": "markdown",
   "id": "60a3e1ff-2001-493d-98b3-b143116e6bd2",
   "metadata": {},
   "source": [
    "To avoid this, assign `dtype = 'float64'` when making the array so that the output of `sqrt` can be cast from `float64` to `float64`. i.e. the same dtype. "
   ]
  },
  {
   "cell_type": "markdown",
   "id": "be8b0d19-ec9b-4fa7-9b5f-c504e05b9a41",
   "metadata": {},
   "source": [
    "# 4.3 Array Oriented Programming with Arrays "
   ]
  },
  {
   "cell_type": "markdown",
   "id": "3b36e48e-f270-4f53-bb46-b2aee6d005a7",
   "metadata": {},
   "source": [
    "Using numpy arrays enables us to express many kinds of data processing tasks as concise array experssions that might otherwise require loops. **This practice of replacing explicit loops with array expressions is commonly referred to as vectorization.** "
   ]
  },
  {
   "cell_type": "markdown",
   "id": "ad2ec810-dac4-4950-ab86-3bfcc75aef56",
   "metadata": {},
   "source": [
    "Ex. We wish to evaluate the function `sqrt(x^2 + y^2)` accross a regular grid of values. We can use the `np.meshgrid` function. This function takes two 1d arrays and produces two 2d matrices corresponding to all pairs of `(array1, array2)` values."
   ]
  },
  {
   "cell_type": "code",
   "execution_count": 85,
   "id": "6cd323ce-de6f-404a-9a56-122518376c4c",
   "metadata": {},
   "outputs": [
    {
     "data": {
      "text/plain": [
       "array([-5.0000000e+00, -4.9900000e+00, -4.9800000e+00, -4.9700000e+00,\n",
       "       -4.9600000e+00, -4.9500000e+00, -4.9400000e+00, -4.9300000e+00,\n",
       "       -4.9200000e+00, -4.9100000e+00, -4.9000000e+00, -4.8900000e+00,\n",
       "       -4.8800000e+00, -4.8700000e+00, -4.8600000e+00, -4.8500000e+00,\n",
       "       -4.8400000e+00, -4.8300000e+00, -4.8200000e+00, -4.8100000e+00,\n",
       "       -4.8000000e+00, -4.7900000e+00, -4.7800000e+00, -4.7700000e+00,\n",
       "       -4.7600000e+00, -4.7500000e+00, -4.7400000e+00, -4.7300000e+00,\n",
       "       -4.7200000e+00, -4.7100000e+00, -4.7000000e+00, -4.6900000e+00,\n",
       "       -4.6800000e+00, -4.6700000e+00, -4.6600000e+00, -4.6500000e+00,\n",
       "       -4.6400000e+00, -4.6300000e+00, -4.6200000e+00, -4.6100000e+00,\n",
       "       -4.6000000e+00, -4.5900000e+00, -4.5800000e+00, -4.5700000e+00,\n",
       "       -4.5600000e+00, -4.5500000e+00, -4.5400000e+00, -4.5300000e+00,\n",
       "       -4.5200000e+00, -4.5100000e+00, -4.5000000e+00, -4.4900000e+00,\n",
       "       -4.4800000e+00, -4.4700000e+00, -4.4600000e+00, -4.4500000e+00,\n",
       "       -4.4400000e+00, -4.4300000e+00, -4.4200000e+00, -4.4100000e+00,\n",
       "       -4.4000000e+00, -4.3900000e+00, -4.3800000e+00, -4.3700000e+00,\n",
       "       -4.3600000e+00, -4.3500000e+00, -4.3400000e+00, -4.3300000e+00,\n",
       "       -4.3200000e+00, -4.3100000e+00, -4.3000000e+00, -4.2900000e+00,\n",
       "       -4.2800000e+00, -4.2700000e+00, -4.2600000e+00, -4.2500000e+00,\n",
       "       -4.2400000e+00, -4.2300000e+00, -4.2200000e+00, -4.2100000e+00,\n",
       "       -4.2000000e+00, -4.1900000e+00, -4.1800000e+00, -4.1700000e+00,\n",
       "       -4.1600000e+00, -4.1500000e+00, -4.1400000e+00, -4.1300000e+00,\n",
       "       -4.1200000e+00, -4.1100000e+00, -4.1000000e+00, -4.0900000e+00,\n",
       "       -4.0800000e+00, -4.0700000e+00, -4.0600000e+00, -4.0500000e+00,\n",
       "       -4.0400000e+00, -4.0300000e+00, -4.0200000e+00, -4.0100000e+00,\n",
       "       -4.0000000e+00, -3.9900000e+00, -3.9800000e+00, -3.9700000e+00,\n",
       "       -3.9600000e+00, -3.9500000e+00, -3.9400000e+00, -3.9300000e+00,\n",
       "       -3.9200000e+00, -3.9100000e+00, -3.9000000e+00, -3.8900000e+00,\n",
       "       -3.8800000e+00, -3.8700000e+00, -3.8600000e+00, -3.8500000e+00,\n",
       "       -3.8400000e+00, -3.8300000e+00, -3.8200000e+00, -3.8100000e+00,\n",
       "       -3.8000000e+00, -3.7900000e+00, -3.7800000e+00, -3.7700000e+00,\n",
       "       -3.7600000e+00, -3.7500000e+00, -3.7400000e+00, -3.7300000e+00,\n",
       "       -3.7200000e+00, -3.7100000e+00, -3.7000000e+00, -3.6900000e+00,\n",
       "       -3.6800000e+00, -3.6700000e+00, -3.6600000e+00, -3.6500000e+00,\n",
       "       -3.6400000e+00, -3.6300000e+00, -3.6200000e+00, -3.6100000e+00,\n",
       "       -3.6000000e+00, -3.5900000e+00, -3.5800000e+00, -3.5700000e+00,\n",
       "       -3.5600000e+00, -3.5500000e+00, -3.5400000e+00, -3.5300000e+00,\n",
       "       -3.5200000e+00, -3.5100000e+00, -3.5000000e+00, -3.4900000e+00,\n",
       "       -3.4800000e+00, -3.4700000e+00, -3.4600000e+00, -3.4500000e+00,\n",
       "       -3.4400000e+00, -3.4300000e+00, -3.4200000e+00, -3.4100000e+00,\n",
       "       -3.4000000e+00, -3.3900000e+00, -3.3800000e+00, -3.3700000e+00,\n",
       "       -3.3600000e+00, -3.3500000e+00, -3.3400000e+00, -3.3300000e+00,\n",
       "       -3.3200000e+00, -3.3100000e+00, -3.3000000e+00, -3.2900000e+00,\n",
       "       -3.2800000e+00, -3.2700000e+00, -3.2600000e+00, -3.2500000e+00,\n",
       "       -3.2400000e+00, -3.2300000e+00, -3.2200000e+00, -3.2100000e+00,\n",
       "       -3.2000000e+00, -3.1900000e+00, -3.1800000e+00, -3.1700000e+00,\n",
       "       -3.1600000e+00, -3.1500000e+00, -3.1400000e+00, -3.1300000e+00,\n",
       "       -3.1200000e+00, -3.1100000e+00, -3.1000000e+00, -3.0900000e+00,\n",
       "       -3.0800000e+00, -3.0700000e+00, -3.0600000e+00, -3.0500000e+00,\n",
       "       -3.0400000e+00, -3.0300000e+00, -3.0200000e+00, -3.0100000e+00,\n",
       "       -3.0000000e+00, -2.9900000e+00, -2.9800000e+00, -2.9700000e+00,\n",
       "       -2.9600000e+00, -2.9500000e+00, -2.9400000e+00, -2.9300000e+00,\n",
       "       -2.9200000e+00, -2.9100000e+00, -2.9000000e+00, -2.8900000e+00,\n",
       "       -2.8800000e+00, -2.8700000e+00, -2.8600000e+00, -2.8500000e+00,\n",
       "       -2.8400000e+00, -2.8300000e+00, -2.8200000e+00, -2.8100000e+00,\n",
       "       -2.8000000e+00, -2.7900000e+00, -2.7800000e+00, -2.7700000e+00,\n",
       "       -2.7600000e+00, -2.7500000e+00, -2.7400000e+00, -2.7300000e+00,\n",
       "       -2.7200000e+00, -2.7100000e+00, -2.7000000e+00, -2.6900000e+00,\n",
       "       -2.6800000e+00, -2.6700000e+00, -2.6600000e+00, -2.6500000e+00,\n",
       "       -2.6400000e+00, -2.6300000e+00, -2.6200000e+00, -2.6100000e+00,\n",
       "       -2.6000000e+00, -2.5900000e+00, -2.5800000e+00, -2.5700000e+00,\n",
       "       -2.5600000e+00, -2.5500000e+00, -2.5400000e+00, -2.5300000e+00,\n",
       "       -2.5200000e+00, -2.5100000e+00, -2.5000000e+00, -2.4900000e+00,\n",
       "       -2.4800000e+00, -2.4700000e+00, -2.4600000e+00, -2.4500000e+00,\n",
       "       -2.4400000e+00, -2.4300000e+00, -2.4200000e+00, -2.4100000e+00,\n",
       "       -2.4000000e+00, -2.3900000e+00, -2.3800000e+00, -2.3700000e+00,\n",
       "       -2.3600000e+00, -2.3500000e+00, -2.3400000e+00, -2.3300000e+00,\n",
       "       -2.3200000e+00, -2.3100000e+00, -2.3000000e+00, -2.2900000e+00,\n",
       "       -2.2800000e+00, -2.2700000e+00, -2.2600000e+00, -2.2500000e+00,\n",
       "       -2.2400000e+00, -2.2300000e+00, -2.2200000e+00, -2.2100000e+00,\n",
       "       -2.2000000e+00, -2.1900000e+00, -2.1800000e+00, -2.1700000e+00,\n",
       "       -2.1600000e+00, -2.1500000e+00, -2.1400000e+00, -2.1300000e+00,\n",
       "       -2.1200000e+00, -2.1100000e+00, -2.1000000e+00, -2.0900000e+00,\n",
       "       -2.0800000e+00, -2.0700000e+00, -2.0600000e+00, -2.0500000e+00,\n",
       "       -2.0400000e+00, -2.0300000e+00, -2.0200000e+00, -2.0100000e+00,\n",
       "       -2.0000000e+00, -1.9900000e+00, -1.9800000e+00, -1.9700000e+00,\n",
       "       -1.9600000e+00, -1.9500000e+00, -1.9400000e+00, -1.9300000e+00,\n",
       "       -1.9200000e+00, -1.9100000e+00, -1.9000000e+00, -1.8900000e+00,\n",
       "       -1.8800000e+00, -1.8700000e+00, -1.8600000e+00, -1.8500000e+00,\n",
       "       -1.8400000e+00, -1.8300000e+00, -1.8200000e+00, -1.8100000e+00,\n",
       "       -1.8000000e+00, -1.7900000e+00, -1.7800000e+00, -1.7700000e+00,\n",
       "       -1.7600000e+00, -1.7500000e+00, -1.7400000e+00, -1.7300000e+00,\n",
       "       -1.7200000e+00, -1.7100000e+00, -1.7000000e+00, -1.6900000e+00,\n",
       "       -1.6800000e+00, -1.6700000e+00, -1.6600000e+00, -1.6500000e+00,\n",
       "       -1.6400000e+00, -1.6300000e+00, -1.6200000e+00, -1.6100000e+00,\n",
       "       -1.6000000e+00, -1.5900000e+00, -1.5800000e+00, -1.5700000e+00,\n",
       "       -1.5600000e+00, -1.5500000e+00, -1.5400000e+00, -1.5300000e+00,\n",
       "       -1.5200000e+00, -1.5100000e+00, -1.5000000e+00, -1.4900000e+00,\n",
       "       -1.4800000e+00, -1.4700000e+00, -1.4600000e+00, -1.4500000e+00,\n",
       "       -1.4400000e+00, -1.4300000e+00, -1.4200000e+00, -1.4100000e+00,\n",
       "       -1.4000000e+00, -1.3900000e+00, -1.3800000e+00, -1.3700000e+00,\n",
       "       -1.3600000e+00, -1.3500000e+00, -1.3400000e+00, -1.3300000e+00,\n",
       "       -1.3200000e+00, -1.3100000e+00, -1.3000000e+00, -1.2900000e+00,\n",
       "       -1.2800000e+00, -1.2700000e+00, -1.2600000e+00, -1.2500000e+00,\n",
       "       -1.2400000e+00, -1.2300000e+00, -1.2200000e+00, -1.2100000e+00,\n",
       "       -1.2000000e+00, -1.1900000e+00, -1.1800000e+00, -1.1700000e+00,\n",
       "       -1.1600000e+00, -1.1500000e+00, -1.1400000e+00, -1.1300000e+00,\n",
       "       -1.1200000e+00, -1.1100000e+00, -1.1000000e+00, -1.0900000e+00,\n",
       "       -1.0800000e+00, -1.0700000e+00, -1.0600000e+00, -1.0500000e+00,\n",
       "       -1.0400000e+00, -1.0300000e+00, -1.0200000e+00, -1.0100000e+00,\n",
       "       -1.0000000e+00, -9.9000000e-01, -9.8000000e-01, -9.7000000e-01,\n",
       "       -9.6000000e-01, -9.5000000e-01, -9.4000000e-01, -9.3000000e-01,\n",
       "       -9.2000000e-01, -9.1000000e-01, -9.0000000e-01, -8.9000000e-01,\n",
       "       -8.8000000e-01, -8.7000000e-01, -8.6000000e-01, -8.5000000e-01,\n",
       "       -8.4000000e-01, -8.3000000e-01, -8.2000000e-01, -8.1000000e-01,\n",
       "       -8.0000000e-01, -7.9000000e-01, -7.8000000e-01, -7.7000000e-01,\n",
       "       -7.6000000e-01, -7.5000000e-01, -7.4000000e-01, -7.3000000e-01,\n",
       "       -7.2000000e-01, -7.1000000e-01, -7.0000000e-01, -6.9000000e-01,\n",
       "       -6.8000000e-01, -6.7000000e-01, -6.6000000e-01, -6.5000000e-01,\n",
       "       -6.4000000e-01, -6.3000000e-01, -6.2000000e-01, -6.1000000e-01,\n",
       "       -6.0000000e-01, -5.9000000e-01, -5.8000000e-01, -5.7000000e-01,\n",
       "       -5.6000000e-01, -5.5000000e-01, -5.4000000e-01, -5.3000000e-01,\n",
       "       -5.2000000e-01, -5.1000000e-01, -5.0000000e-01, -4.9000000e-01,\n",
       "       -4.8000000e-01, -4.7000000e-01, -4.6000000e-01, -4.5000000e-01,\n",
       "       -4.4000000e-01, -4.3000000e-01, -4.2000000e-01, -4.1000000e-01,\n",
       "       -4.0000000e-01, -3.9000000e-01, -3.8000000e-01, -3.7000000e-01,\n",
       "       -3.6000000e-01, -3.5000000e-01, -3.4000000e-01, -3.3000000e-01,\n",
       "       -3.2000000e-01, -3.1000000e-01, -3.0000000e-01, -2.9000000e-01,\n",
       "       -2.8000000e-01, -2.7000000e-01, -2.6000000e-01, -2.5000000e-01,\n",
       "       -2.4000000e-01, -2.3000000e-01, -2.2000000e-01, -2.1000000e-01,\n",
       "       -2.0000000e-01, -1.9000000e-01, -1.8000000e-01, -1.7000000e-01,\n",
       "       -1.6000000e-01, -1.5000000e-01, -1.4000000e-01, -1.3000000e-01,\n",
       "       -1.2000000e-01, -1.1000000e-01, -1.0000000e-01, -9.0000000e-02,\n",
       "       -8.0000000e-02, -7.0000000e-02, -6.0000000e-02, -5.0000000e-02,\n",
       "       -4.0000000e-02, -3.0000000e-02, -2.0000000e-02, -1.0000000e-02,\n",
       "       -1.0658141e-13,  1.0000000e-02,  2.0000000e-02,  3.0000000e-02,\n",
       "        4.0000000e-02,  5.0000000e-02,  6.0000000e-02,  7.0000000e-02,\n",
       "        8.0000000e-02,  9.0000000e-02,  1.0000000e-01,  1.1000000e-01,\n",
       "        1.2000000e-01,  1.3000000e-01,  1.4000000e-01,  1.5000000e-01,\n",
       "        1.6000000e-01,  1.7000000e-01,  1.8000000e-01,  1.9000000e-01,\n",
       "        2.0000000e-01,  2.1000000e-01,  2.2000000e-01,  2.3000000e-01,\n",
       "        2.4000000e-01,  2.5000000e-01,  2.6000000e-01,  2.7000000e-01,\n",
       "        2.8000000e-01,  2.9000000e-01,  3.0000000e-01,  3.1000000e-01,\n",
       "        3.2000000e-01,  3.3000000e-01,  3.4000000e-01,  3.5000000e-01,\n",
       "        3.6000000e-01,  3.7000000e-01,  3.8000000e-01,  3.9000000e-01,\n",
       "        4.0000000e-01,  4.1000000e-01,  4.2000000e-01,  4.3000000e-01,\n",
       "        4.4000000e-01,  4.5000000e-01,  4.6000000e-01,  4.7000000e-01,\n",
       "        4.8000000e-01,  4.9000000e-01,  5.0000000e-01,  5.1000000e-01,\n",
       "        5.2000000e-01,  5.3000000e-01,  5.4000000e-01,  5.5000000e-01,\n",
       "        5.6000000e-01,  5.7000000e-01,  5.8000000e-01,  5.9000000e-01,\n",
       "        6.0000000e-01,  6.1000000e-01,  6.2000000e-01,  6.3000000e-01,\n",
       "        6.4000000e-01,  6.5000000e-01,  6.6000000e-01,  6.7000000e-01,\n",
       "        6.8000000e-01,  6.9000000e-01,  7.0000000e-01,  7.1000000e-01,\n",
       "        7.2000000e-01,  7.3000000e-01,  7.4000000e-01,  7.5000000e-01,\n",
       "        7.6000000e-01,  7.7000000e-01,  7.8000000e-01,  7.9000000e-01,\n",
       "        8.0000000e-01,  8.1000000e-01,  8.2000000e-01,  8.3000000e-01,\n",
       "        8.4000000e-01,  8.5000000e-01,  8.6000000e-01,  8.7000000e-01,\n",
       "        8.8000000e-01,  8.9000000e-01,  9.0000000e-01,  9.1000000e-01,\n",
       "        9.2000000e-01,  9.3000000e-01,  9.4000000e-01,  9.5000000e-01,\n",
       "        9.6000000e-01,  9.7000000e-01,  9.8000000e-01,  9.9000000e-01,\n",
       "        1.0000000e+00,  1.0100000e+00,  1.0200000e+00,  1.0300000e+00,\n",
       "        1.0400000e+00,  1.0500000e+00,  1.0600000e+00,  1.0700000e+00,\n",
       "        1.0800000e+00,  1.0900000e+00,  1.1000000e+00,  1.1100000e+00,\n",
       "        1.1200000e+00,  1.1300000e+00,  1.1400000e+00,  1.1500000e+00,\n",
       "        1.1600000e+00,  1.1700000e+00,  1.1800000e+00,  1.1900000e+00,\n",
       "        1.2000000e+00,  1.2100000e+00,  1.2200000e+00,  1.2300000e+00,\n",
       "        1.2400000e+00,  1.2500000e+00,  1.2600000e+00,  1.2700000e+00,\n",
       "        1.2800000e+00,  1.2900000e+00,  1.3000000e+00,  1.3100000e+00,\n",
       "        1.3200000e+00,  1.3300000e+00,  1.3400000e+00,  1.3500000e+00,\n",
       "        1.3600000e+00,  1.3700000e+00,  1.3800000e+00,  1.3900000e+00,\n",
       "        1.4000000e+00,  1.4100000e+00,  1.4200000e+00,  1.4300000e+00,\n",
       "        1.4400000e+00,  1.4500000e+00,  1.4600000e+00,  1.4700000e+00,\n",
       "        1.4800000e+00,  1.4900000e+00,  1.5000000e+00,  1.5100000e+00,\n",
       "        1.5200000e+00,  1.5300000e+00,  1.5400000e+00,  1.5500000e+00,\n",
       "        1.5600000e+00,  1.5700000e+00,  1.5800000e+00,  1.5900000e+00,\n",
       "        1.6000000e+00,  1.6100000e+00,  1.6200000e+00,  1.6300000e+00,\n",
       "        1.6400000e+00,  1.6500000e+00,  1.6600000e+00,  1.6700000e+00,\n",
       "        1.6800000e+00,  1.6900000e+00,  1.7000000e+00,  1.7100000e+00,\n",
       "        1.7200000e+00,  1.7300000e+00,  1.7400000e+00,  1.7500000e+00,\n",
       "        1.7600000e+00,  1.7700000e+00,  1.7800000e+00,  1.7900000e+00,\n",
       "        1.8000000e+00,  1.8100000e+00,  1.8200000e+00,  1.8300000e+00,\n",
       "        1.8400000e+00,  1.8500000e+00,  1.8600000e+00,  1.8700000e+00,\n",
       "        1.8800000e+00,  1.8900000e+00,  1.9000000e+00,  1.9100000e+00,\n",
       "        1.9200000e+00,  1.9300000e+00,  1.9400000e+00,  1.9500000e+00,\n",
       "        1.9600000e+00,  1.9700000e+00,  1.9800000e+00,  1.9900000e+00,\n",
       "        2.0000000e+00,  2.0100000e+00,  2.0200000e+00,  2.0300000e+00,\n",
       "        2.0400000e+00,  2.0500000e+00,  2.0600000e+00,  2.0700000e+00,\n",
       "        2.0800000e+00,  2.0900000e+00,  2.1000000e+00,  2.1100000e+00,\n",
       "        2.1200000e+00,  2.1300000e+00,  2.1400000e+00,  2.1500000e+00,\n",
       "        2.1600000e+00,  2.1700000e+00,  2.1800000e+00,  2.1900000e+00,\n",
       "        2.2000000e+00,  2.2100000e+00,  2.2200000e+00,  2.2300000e+00,\n",
       "        2.2400000e+00,  2.2500000e+00,  2.2600000e+00,  2.2700000e+00,\n",
       "        2.2800000e+00,  2.2900000e+00,  2.3000000e+00,  2.3100000e+00,\n",
       "        2.3200000e+00,  2.3300000e+00,  2.3400000e+00,  2.3500000e+00,\n",
       "        2.3600000e+00,  2.3700000e+00,  2.3800000e+00,  2.3900000e+00,\n",
       "        2.4000000e+00,  2.4100000e+00,  2.4200000e+00,  2.4300000e+00,\n",
       "        2.4400000e+00,  2.4500000e+00,  2.4600000e+00,  2.4700000e+00,\n",
       "        2.4800000e+00,  2.4900000e+00,  2.5000000e+00,  2.5100000e+00,\n",
       "        2.5200000e+00,  2.5300000e+00,  2.5400000e+00,  2.5500000e+00,\n",
       "        2.5600000e+00,  2.5700000e+00,  2.5800000e+00,  2.5900000e+00,\n",
       "        2.6000000e+00,  2.6100000e+00,  2.6200000e+00,  2.6300000e+00,\n",
       "        2.6400000e+00,  2.6500000e+00,  2.6600000e+00,  2.6700000e+00,\n",
       "        2.6800000e+00,  2.6900000e+00,  2.7000000e+00,  2.7100000e+00,\n",
       "        2.7200000e+00,  2.7300000e+00,  2.7400000e+00,  2.7500000e+00,\n",
       "        2.7600000e+00,  2.7700000e+00,  2.7800000e+00,  2.7900000e+00,\n",
       "        2.8000000e+00,  2.8100000e+00,  2.8200000e+00,  2.8300000e+00,\n",
       "        2.8400000e+00,  2.8500000e+00,  2.8600000e+00,  2.8700000e+00,\n",
       "        2.8800000e+00,  2.8900000e+00,  2.9000000e+00,  2.9100000e+00,\n",
       "        2.9200000e+00,  2.9300000e+00,  2.9400000e+00,  2.9500000e+00,\n",
       "        2.9600000e+00,  2.9700000e+00,  2.9800000e+00,  2.9900000e+00,\n",
       "        3.0000000e+00,  3.0100000e+00,  3.0200000e+00,  3.0300000e+00,\n",
       "        3.0400000e+00,  3.0500000e+00,  3.0600000e+00,  3.0700000e+00,\n",
       "        3.0800000e+00,  3.0900000e+00,  3.1000000e+00,  3.1100000e+00,\n",
       "        3.1200000e+00,  3.1300000e+00,  3.1400000e+00,  3.1500000e+00,\n",
       "        3.1600000e+00,  3.1700000e+00,  3.1800000e+00,  3.1900000e+00,\n",
       "        3.2000000e+00,  3.2100000e+00,  3.2200000e+00,  3.2300000e+00,\n",
       "        3.2400000e+00,  3.2500000e+00,  3.2600000e+00,  3.2700000e+00,\n",
       "        3.2800000e+00,  3.2900000e+00,  3.3000000e+00,  3.3100000e+00,\n",
       "        3.3200000e+00,  3.3300000e+00,  3.3400000e+00,  3.3500000e+00,\n",
       "        3.3600000e+00,  3.3700000e+00,  3.3800000e+00,  3.3900000e+00,\n",
       "        3.4000000e+00,  3.4100000e+00,  3.4200000e+00,  3.4300000e+00,\n",
       "        3.4400000e+00,  3.4500000e+00,  3.4600000e+00,  3.4700000e+00,\n",
       "        3.4800000e+00,  3.4900000e+00,  3.5000000e+00,  3.5100000e+00,\n",
       "        3.5200000e+00,  3.5300000e+00,  3.5400000e+00,  3.5500000e+00,\n",
       "        3.5600000e+00,  3.5700000e+00,  3.5800000e+00,  3.5900000e+00,\n",
       "        3.6000000e+00,  3.6100000e+00,  3.6200000e+00,  3.6300000e+00,\n",
       "        3.6400000e+00,  3.6500000e+00,  3.6600000e+00,  3.6700000e+00,\n",
       "        3.6800000e+00,  3.6900000e+00,  3.7000000e+00,  3.7100000e+00,\n",
       "        3.7200000e+00,  3.7300000e+00,  3.7400000e+00,  3.7500000e+00,\n",
       "        3.7600000e+00,  3.7700000e+00,  3.7800000e+00,  3.7900000e+00,\n",
       "        3.8000000e+00,  3.8100000e+00,  3.8200000e+00,  3.8300000e+00,\n",
       "        3.8400000e+00,  3.8500000e+00,  3.8600000e+00,  3.8700000e+00,\n",
       "        3.8800000e+00,  3.8900000e+00,  3.9000000e+00,  3.9100000e+00,\n",
       "        3.9200000e+00,  3.9300000e+00,  3.9400000e+00,  3.9500000e+00,\n",
       "        3.9600000e+00,  3.9700000e+00,  3.9800000e+00,  3.9900000e+00,\n",
       "        4.0000000e+00,  4.0100000e+00,  4.0200000e+00,  4.0300000e+00,\n",
       "        4.0400000e+00,  4.0500000e+00,  4.0600000e+00,  4.0700000e+00,\n",
       "        4.0800000e+00,  4.0900000e+00,  4.1000000e+00,  4.1100000e+00,\n",
       "        4.1200000e+00,  4.1300000e+00,  4.1400000e+00,  4.1500000e+00,\n",
       "        4.1600000e+00,  4.1700000e+00,  4.1800000e+00,  4.1900000e+00,\n",
       "        4.2000000e+00,  4.2100000e+00,  4.2200000e+00,  4.2300000e+00,\n",
       "        4.2400000e+00,  4.2500000e+00,  4.2600000e+00,  4.2700000e+00,\n",
       "        4.2800000e+00,  4.2900000e+00,  4.3000000e+00,  4.3100000e+00,\n",
       "        4.3200000e+00,  4.3300000e+00,  4.3400000e+00,  4.3500000e+00,\n",
       "        4.3600000e+00,  4.3700000e+00,  4.3800000e+00,  4.3900000e+00,\n",
       "        4.4000000e+00,  4.4100000e+00,  4.4200000e+00,  4.4300000e+00,\n",
       "        4.4400000e+00,  4.4500000e+00,  4.4600000e+00,  4.4700000e+00,\n",
       "        4.4800000e+00,  4.4900000e+00,  4.5000000e+00,  4.5100000e+00,\n",
       "        4.5200000e+00,  4.5300000e+00,  4.5400000e+00,  4.5500000e+00,\n",
       "        4.5600000e+00,  4.5700000e+00,  4.5800000e+00,  4.5900000e+00,\n",
       "        4.6000000e+00,  4.6100000e+00,  4.6200000e+00,  4.6300000e+00,\n",
       "        4.6400000e+00,  4.6500000e+00,  4.6600000e+00,  4.6700000e+00,\n",
       "        4.6800000e+00,  4.6900000e+00,  4.7000000e+00,  4.7100000e+00,\n",
       "        4.7200000e+00,  4.7300000e+00,  4.7400000e+00,  4.7500000e+00,\n",
       "        4.7600000e+00,  4.7700000e+00,  4.7800000e+00,  4.7900000e+00,\n",
       "        4.8000000e+00,  4.8100000e+00,  4.8200000e+00,  4.8300000e+00,\n",
       "        4.8400000e+00,  4.8500000e+00,  4.8600000e+00,  4.8700000e+00,\n",
       "        4.8800000e+00,  4.8900000e+00,  4.9000000e+00,  4.9100000e+00,\n",
       "        4.9200000e+00,  4.9300000e+00,  4.9400000e+00,  4.9500000e+00,\n",
       "        4.9600000e+00,  4.9700000e+00,  4.9800000e+00,  4.9900000e+00])"
      ]
     },
     "execution_count": 85,
     "metadata": {},
     "output_type": "execute_result"
    }
   ],
   "source": [
    "points = np.arange(-5, 5, .01) # 1d array, range from -5 to 5, step by 0.01\n",
    "points"
   ]
  },
  {
   "cell_type": "code",
   "execution_count": 86,
   "id": "172347d1-2e8b-48c6-b497-08dd02a7ab1b",
   "metadata": {},
   "outputs": [
    {
     "data": {
      "text/plain": [
       "array([[-5.  , -4.99, -4.98, ...,  4.97,  4.98,  4.99],\n",
       "       [-5.  , -4.99, -4.98, ...,  4.97,  4.98,  4.99],\n",
       "       [-5.  , -4.99, -4.98, ...,  4.97,  4.98,  4.99],\n",
       "       ...,\n",
       "       [-5.  , -4.99, -4.98, ...,  4.97,  4.98,  4.99],\n",
       "       [-5.  , -4.99, -4.98, ...,  4.97,  4.98,  4.99],\n",
       "       [-5.  , -4.99, -4.98, ...,  4.97,  4.98,  4.99]],\n",
       "      shape=(1000, 1000))"
      ]
     },
     "execution_count": 86,
     "metadata": {},
     "output_type": "execute_result"
    }
   ],
   "source": [
    "xs, ys = np.meshgrid(points, points) \n",
    "xs"
   ]
  },
  {
   "cell_type": "code",
   "execution_count": 87,
   "id": "0d20421c-13c7-44c5-ac4f-af6945a8bcb7",
   "metadata": {},
   "outputs": [
    {
     "data": {
      "text/plain": [
       "array([[-5.  , -5.  , -5.  , ..., -5.  , -5.  , -5.  ],\n",
       "       [-4.99, -4.99, -4.99, ..., -4.99, -4.99, -4.99],\n",
       "       [-4.98, -4.98, -4.98, ..., -4.98, -4.98, -4.98],\n",
       "       ...,\n",
       "       [ 4.97,  4.97,  4.97, ...,  4.97,  4.97,  4.97],\n",
       "       [ 4.98,  4.98,  4.98, ...,  4.98,  4.98,  4.98],\n",
       "       [ 4.99,  4.99,  4.99, ...,  4.99,  4.99,  4.99]],\n",
       "      shape=(1000, 1000))"
      ]
     },
     "execution_count": 87,
     "metadata": {},
     "output_type": "execute_result"
    }
   ],
   "source": [
    "ys"
   ]
  },
  {
   "cell_type": "code",
   "execution_count": 88,
   "id": "11557c11-e013-4520-b099-92b315720b1c",
   "metadata": {},
   "outputs": [
    {
     "data": {
      "text/plain": [
       "array([[7.07106781, 7.06400028, 7.05693985, ..., 7.04988652, 7.05693985,\n",
       "        7.06400028],\n",
       "       [7.06400028, 7.05692568, 7.04985815, ..., 7.04279774, 7.04985815,\n",
       "        7.05692568],\n",
       "       [7.05693985, 7.04985815, 7.04278354, ..., 7.03571603, 7.04278354,\n",
       "        7.04985815],\n",
       "       ...,\n",
       "       [7.04988652, 7.04279774, 7.03571603, ..., 7.0286414 , 7.03571603,\n",
       "        7.04279774],\n",
       "       [7.05693985, 7.04985815, 7.04278354, ..., 7.03571603, 7.04278354,\n",
       "        7.04985815],\n",
       "       [7.06400028, 7.05692568, 7.04985815, ..., 7.04279774, 7.04985815,\n",
       "        7.05692568]], shape=(1000, 1000))"
      ]
     },
     "execution_count": 88,
     "metadata": {},
     "output_type": "execute_result"
    }
   ],
   "source": [
    "# now we can evaluate the function \n",
    "# sqrt(x^2 + y^2)\n",
    "z = np.sqrt(xs **2 + ys ** 2)\n",
    "z"
   ]
  },
  {
   "cell_type": "markdown",
   "id": "c66db174-6d91-4853-a3ce-e60547c504b5",
   "metadata": {},
   "source": [
    "Let's visualize this: "
   ]
  },
  {
   "cell_type": "code",
   "execution_count": 95,
   "id": "bc9361c8-b54b-4753-b681-7838bfc0158e",
   "metadata": {},
   "outputs": [
    {
     "name": "stderr",
     "output_type": "stream",
     "text": [
      "<>:5: SyntaxWarning: invalid escape sequence '\\s'\n",
      "<>:5: SyntaxWarning: invalid escape sequence '\\s'\n",
      "/tmp/ipykernel_6007/3427615404.py:5: SyntaxWarning: invalid escape sequence '\\s'\n",
      "  plt.title(\"Image plot of $\\sqrt{x^2 + y^2}$ for a grid of values\")\n"
     ]
    },
    {
     "data": {
      "text/plain": [
       "Text(0.5, 1.0, 'Image plot of $\\\\sqrt{x^2 + y^2}$ for a grid of values')"
      ]
     },
     "execution_count": 95,
     "metadata": {},
     "output_type": "execute_result"
    },
    {
     "data": {
      "image/png": "[encoded data removed]",
      "text/plain": [
       "<Figure size 640x480 with 2 Axes>"
      ]
     },
     "metadata": {},
     "output_type": "display_data"
    }
   ],
   "source": [
    "import matplotlib.pyplot as plt \n",
    "plt.imshow(z, \n",
    "           cmap=plt.cm.gray);\n",
    "plt.colorbar()\n",
    "plt.title(\"Image plot of $\\sqrt{x^2 + y^2}$ for a grid of values\")\n"
   ]
  },
  {
   "cell_type": "markdown",
   "id": "6ab8b1e8-1caf-4121-9f79-b13023ec3f24",
   "metadata": {},
   "source": [
    "## Expressing Conditional Logic as Array Operations "
   ]
  },
  {
   "cell_type": "markdown",
   "id": "ebf41e40-4f18-4d80-9a2e-110262f49dff",
   "metadata": {},
   "source": [
    "The `numpy.where` function is a vectorized version of the ternary experssion `x if condition else y`"
   ]
  },
  {
   "cell_type": "code",
   "execution_count": 100,
   "id": "06f3164d-6333-4d85-afee-16bc9925d071",
   "metadata": {},
   "outputs": [],
   "source": [
    "# lets make a bool array (condition) and two arrays to work with \n",
    "cond = np.array([True, False, True, True, False])\n",
    "xarr = np.array([1.1, 1.2, 1.3, 1.4, 1.5])\n",
    "yarr = np.array([2.1, 2.2, 2.3, 2.4, 2.5])"
   ]
  },
  {
   "cell_type": "markdown",
   "id": "3f6c2d3f-d48f-4e82-8f61-30bf00414ce2",
   "metadata": {},
   "source": [
    "We want to take a value from `xarr` whenever the corresponding vbalue in the condition is True, otherwise we want to take the value from `yarr`"
   ]
  },
  {
   "cell_type": "markdown",
   "id": "58047dde-9210-4251-93eb-62b211f2ea9f",
   "metadata": {},
   "source": [
    "This can be done using a list comprehension like so: \n",
    "- `[(x if condition else y) for x, y, condition in zip(xarr, yarr, cond)`"
   ]
  },
  {
   "cell_type": "code",
   "execution_count": 101,
   "id": "a1dbb437-c9b7-4ba5-a77b-3f127a39f161",
   "metadata": {},
   "outputs": [
    {
     "data": {
      "text/plain": [
       "[np.float64(1.1),\n",
       " np.float64(2.2),\n",
       " np.float64(1.3),\n",
       " np.float64(1.4),\n",
       " np.float64(2.5)]"
      ]
     },
     "execution_count": 101,
     "metadata": {},
     "output_type": "execute_result"
    }
   ],
   "source": [
    "[(x if condition else y) for x, y, condition in zip(xarr, yarr, cond)]"
   ]
  },
  {
   "cell_type": "markdown",
   "id": "9efa89b3-7989-48ec-90ee-2863f934f6dd",
   "metadata": {},
   "source": [
    "Issues with this approach: \n",
    "    - not very fast with large arrays because all the work is being done in interpreted python code. \n",
    "    - will not work with multidimensional arrays. \n"
   ]
  },
  {
   "cell_type": "code",
   "execution_count": 107,
   "id": "e030dab5-f28e-45e3-adde-27173ef72d3e",
   "metadata": {},
   "outputs": [
    {
     "data": {
      "text/plain": [
       "array([1.1, 2.2, 1.3, 1.4, 2.5])"
      ]
     },
     "execution_count": 107,
     "metadata": {},
     "output_type": "execute_result"
    }
   ],
   "source": [
    "# write it with np.where\n",
    "\n",
    "np.where(cond, xarr, yarr)"
   ]
  },
  {
   "cell_type": "markdown",
   "id": "834b671b-eb06-474c-851c-d1ea0c8099fa",
   "metadata": {},
   "source": [
    "Note: The second and third condition in `np.where` dont need to be arrays; one or both of thm can be scalars. \n",
    "- A typical use of `where` in data analysis is to produce a new array of values based on another array."
   ]
  },
  {
   "cell_type": "markdown",
   "id": "332e4ee8-e5d3-46e4-af07-00b335b85245",
   "metadata": {},
   "source": [
    "Use this syntax: \n",
    "- `np.where( condition, if_condition_is_true, if_condition_is_untrue)`"
   ]
  },
  {
   "cell_type": "markdown",
   "id": "d1cf2b6c-8317-4337-94fe-c6c76c20ad06",
   "metadata": {},
   "source": [
    "## Mathematical and Statistical Methods"
   ]
  },
  {
   "cell_type": "code",
   "execution_count": null,
   "id": "e6af3215-b625-4351-8dfd-5cfdc772c87a",
   "metadata": {},
   "outputs": [],
   "source": []
  }
 ],
 "metadata": {
  "kernelspec": {
   "display_name": "Python 3 (ipykernel)",
   "language": "python",
   "name": "python3"
  },
  "language_info": {
   "codemirror_mode": {
    "name": "ipython",
    "version": 3
   },
   "file_extension": ".py",
   "mimetype": "text/x-python",
   "name": "python",
   "nbconvert_exporter": "python",
   "pygments_lexer": "ipython3",
   "version": "3.12.3"
  }
 },
 "nbformat": 4,
 "nbformat_minor": 5
}
