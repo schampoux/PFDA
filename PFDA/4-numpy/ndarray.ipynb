{
 "cells": [
  {
   "cell_type": "markdown",
   "id": "d792b6d2-c013-44ab-8486-3b64ea46f619",
   "metadata": {},
   "source": [
    "# Continuation from ndarray.py "
   ]
  },
  {
   "cell_type": "markdown",
   "id": "3c967693-5aec-406b-a40e-ecadee9e733f",
   "metadata": {},
   "source": [
    "If you want a copy of a slice from a `ndarray` you need to explicitly run `.copy()`"
   ]
  },
  {
   "cell_type": "code",
   "execution_count": 2,
   "id": "f0c83a9d-e58e-4e7e-b8c4-7e5571c5405f",
   "metadata": {},
   "outputs": [
    {
     "name": "stdout",
     "output_type": "stream",
     "text": [
      "[5 6 7]\n"
     ]
    }
   ],
   "source": [
    "import numpy as np \n",
    "arr = np.arange(10)\n",
    "arr_slice = arr[5:8].copy()\n",
    "print(arr_slice)"
   ]
  },
  {
   "cell_type": "markdown",
   "id": "e1cf9db1-4866-4c57-94f7-44790573fbb6",
   "metadata": {},
   "source": [
    "With higher dimensional slicing, you have more options. For example, a 2d array will contain 1d arrays at each index. "
   ]
  },
  {
   "cell_type": "code",
   "execution_count": 3,
   "id": "ec9041e2-e631-4321-8eb7-28066b187a98",
   "metadata": {},
   "outputs": [
    {
     "name": "stdout",
     "output_type": "stream",
     "text": [
      "2d array:\n",
      " [[1 2 3]\n",
      " [4 5 6]\n",
      " [7 8 9]]\n"
     ]
    }
   ],
   "source": [
    "arr2d = np.array([[1,2,3],[4,5,6],[7,8,9]])\n",
    "print(\"2d array:\\n\", arr2d)"
   ]
  },
  {
   "cell_type": "code",
   "execution_count": 4,
   "id": "1e1289f9-335b-4957-948a-be58fb18774a",
   "metadata": {},
   "outputs": [
    {
     "name": "stdout",
     "output_type": "stream",
     "text": [
      "[7 8 9]\n"
     ]
    }
   ],
   "source": [
    "print(arr2d[2])"
   ]
  },
  {
   "cell_type": "markdown",
   "id": "f1ee374a-643b-4cb7-9287-e4551973c28c",
   "metadata": {},
   "source": [
    "Access the second element from the second 1d array: \n"
   ]
  },
  {
   "cell_type": "code",
   "execution_count": 5,
   "id": "76bdbdac-f6b4-4c65-9423-82a301f434ff",
   "metadata": {},
   "outputs": [
    {
     "name": "stdout",
     "output_type": "stream",
     "text": [
      "9\n",
      "9\n"
     ]
    }
   ],
   "source": [
    "print(arr2d[2][2])\n",
    "\n",
    "# or \n",
    "\n",
    "print(arr2d[2, 2])"
   ]
  },
  {
   "cell_type": "markdown",
   "id": "bc8d30a6-dc7c-42cb-85a5-122f1e06c6d9",
   "metadata": {},
   "source": [
    "Note how we refer to the axes of the 2 dimensional array. \n",
    "- Axis 0 = rows,\n",
    "- Axis 1 = columns"
   ]
  },
  {
   "cell_type": "markdown",
   "id": "4c58ddaf-6d7e-4a25-89fe-22b3f74a00c6",
   "metadata": {},
   "source": [
    "In multidimensional arrays, if you omit later indeces when indexing (i.e. you dont specify a value for each dimension in the array when indexing), the result will be a lower dimensional array. "
   ]
  },
  {
   "cell_type": "code",
   "execution_count": 6,
   "id": "b5b75283-9c25-4dd4-87b2-17e99a7dfb86",
   "metadata": {},
   "outputs": [
    {
     "name": "stdout",
     "output_type": "stream",
     "text": [
      "3d array:\n",
      " [[[1 2 3]\n",
      "  [4 5 6]]\n",
      "\n",
      " [[1 2 3]\n",
      "  [4 5 6]]\n",
      "\n",
      " [[1 2 3]\n",
      "  [4 5 6]]]\n"
     ]
    }
   ],
   "source": [
    "arr3d = np.array([[[1,2,3],[4,5,6]], [[1,2,3],[4,5,6]], [[1,2,3],[4,5,6]]])\n",
    "print(\"3d array:\\n\", arr3d)"
   ]
  },
  {
   "cell_type": "code",
   "execution_count": 7,
   "id": "d466e202-a384-4872-8c80-54828b2638b0",
   "metadata": {},
   "outputs": [
    {
     "name": "stdout",
     "output_type": "stream",
     "text": [
      "Indexing 3d array:\n",
      "\n",
      " arr3d[0]\n",
      "\n",
      " [[1 2 3]\n",
      " [4 5 6]]\n"
     ]
    }
   ],
   "source": [
    "print(\"Indexing 3d array:\\n\\n\", \"arr3d[0]\\n\\n\", arr3d[0])"
   ]
  },
  {
   "cell_type": "markdown",
   "id": "6e71fad8-da12-4143-be1b-69f87c64880d",
   "metadata": {},
   "source": [
    "Just like in lower dimensions, both scalar values and arrays can be assigned to this view. **(we say view, because unless we explicitly make a copy, the subsection of the array that has been selected returns a view of the array)**"
   ]
  },
  {
   "cell_type": "markdown",
   "id": "09bbe5b8-e120-4c9d-a8c8-79b8ffde707c",
   "metadata": {},
   "source": [
    "## Indexing with Slices"
   ]
  },
  {
   "cell_type": "markdown",
   "id": "092f2eeb-c96d-49b0-99b2-e03c0fa2861f",
   "metadata": {},
   "source": [
    "A slce selects a range along an axis. Let's select the forst two rows of arr2d"
   ]
  },
  {
   "cell_type": "code",
   "execution_count": 8,
   "id": "eb0711bb-954f-4b3a-84e0-99882a7df278",
   "metadata": {},
   "outputs": [
    {
     "data": {
      "text/plain": [
       "array([[1, 2, 3],\n",
       "       [4, 5, 6],\n",
       "       [7, 8, 9]])"
      ]
     },
     "execution_count": 8,
     "metadata": {},
     "output_type": "execute_result"
    }
   ],
   "source": [
    "arr2d = np.array([[1,2,3],[4,5,6],[7,8,9]])\n",
    "arr2d"
   ]
  },
  {
   "cell_type": "code",
   "execution_count": 9,
   "id": "ea7a131a-d25c-47ac-a851-3c5775206aa1",
   "metadata": {},
   "outputs": [
    {
     "data": {
      "text/plain": [
       "array([[1, 2, 3],\n",
       "       [4, 5, 6]])"
      ]
     },
     "execution_count": 9,
     "metadata": {},
     "output_type": "execute_result"
    }
   ],
   "source": [
    "# i.e., select up to, but not including, row 2. \n",
    "# in other words, select rows 0, 1. \n",
    "arr2d[:2]"
   ]
  },
  {
   "cell_type": "markdown",
   "id": "d0631458-95db-4938-a45d-84996912bfff",
   "metadata": {},
   "source": [
    "You can also pass more than one slice just like with indexing. "
   ]
  },
  {
   "cell_type": "code",
   "execution_count": 10,
   "id": "5b01ea07-1784-427c-a02b-fe86be568873",
   "metadata": {},
   "outputs": [
    {
     "data": {
      "text/plain": [
       "array([[1],\n",
       "       [4]])"
      ]
     },
     "execution_count": 10,
     "metadata": {},
     "output_type": "execute_result"
    }
   ],
   "source": [
    "# select up to the first two rows along the 0th axis, select up to the first column on the 1st axis. \n",
    "arr2d[:2, :1]"
   ]
  },
  {
   "cell_type": "markdown",
   "id": "3e21e817-d08d-4c06-92b3-b476df783c2e",
   "metadata": {},
   "source": [
    "**Again, by slicing like this, you always obtain array views of the same number of dimensions.**"
   ]
  },
  {
   "cell_type": "markdown",
   "id": "78bc8c68-cb79-489a-936d-ad9631bae109",
   "metadata": {},
   "source": [
    "Remember a colon `:` by itself means to take the entire selection on that axis. Also, assigning to a slice experssion assigns to the whole selection."
   ]
  },
  {
   "cell_type": "markdown",
   "id": "ad844ce0-d3e3-4c85-9e7e-cf64b3f4e05f",
   "metadata": {},
   "source": [
    "## Boolean Indexing"
   ]
  },
  {
   "cell_type": "markdown",
   "id": "f0a783eb-b541-42d7-921d-f4036761f0af",
   "metadata": {},
   "source": [
    "** Selecting data from an array by boolean indexing ALWAYS creates a copy of the data, even if the returned array is unchanged.**"
   ]
  },
  {
   "cell_type": "markdown",
   "id": "7894b2a7-0a3d-480e-add5-c53dbc0170cf",
   "metadata": {},
   "source": [
    "Start with array of names with duplicates. "
   ]
  },
  {
   "cell_type": "code",
   "execution_count": 11,
   "id": "01234429-d15f-4a82-a25e-b829ff5ff21e",
   "metadata": {},
   "outputs": [
    {
     "name": "stdout",
     "output_type": "stream",
     "text": [
      "\n",
      "names\n",
      " ['Bob' 'Joe' 'Will' 'Bob' 'Will' 'Joe' 'Joe']\n"
     ]
    }
   ],
   "source": [
    "names = np.array(['Bob', 'Joe', 'Will', 'Bob', 'Will', 'Joe', 'Joe'])\n",
    "\n",
    "print(\"\\nnames\\n\", names)"
   ]
  },
  {
   "cell_type": "markdown",
   "id": "813c5201-6d6f-41e5-bcfd-4787042fcede",
   "metadata": {},
   "source": [
    "Use `randn` function from `np.random` to generate some normally distributed data `data."
   ]
  },
  {
   "cell_type": "code",
   "execution_count": 12,
   "id": "a40dc4b3-139a-420d-8ec6-73da82296702",
   "metadata": {},
   "outputs": [
    {
     "data": {
      "text/plain": [
       "array([[-0.13133105,  1.60639218, -0.77072438,  0.75194125],\n",
       "       [ 1.68116741, -0.17839749,  0.20342996, -1.02552934],\n",
       "       [ 0.01777773,  1.21166826, -1.03866143, -0.79377113],\n",
       "       [-1.20779184,  0.42076527,  1.16267236,  0.15364609],\n",
       "       [-0.72138298, -0.56160268,  0.6708208 ,  0.01869139],\n",
       "       [-0.36651192,  0.17141138, -1.12888781,  0.93215716],\n",
       "       [-1.10718444,  1.31854739, -1.6817216 ,  0.45136318]])"
      ]
     },
     "execution_count": 12,
     "metadata": {},
     "output_type": "execute_result"
    }
   ],
   "source": [
    "data = np.random.randn(7,4)\n",
    "data"
   ]
  },
  {
   "cell_type": "markdown",
   "id": "2e08266f-14f7-4f6a-8778-90e75c628351",
   "metadata": {},
   "source": [
    "Even though `data` has nothing to do with names, we are going to make a boolean array using `names`, and index `data` with that."
   ]
  },
  {
   "cell_type": "code",
   "execution_count": 13,
   "id": "cf4020c9-106a-44c6-a8db-0458f42a6dbd",
   "metadata": {},
   "outputs": [
    {
     "data": {
      "text/plain": [
       "array([ True, False, False,  True, False, False, False])"
      ]
     },
     "execution_count": 13,
     "metadata": {},
     "output_type": "execute_result"
    }
   ],
   "source": [
    "names == \"Bob\""
   ]
  },
  {
   "cell_type": "markdown",
   "id": "f1013cf2-6a69-4e06-924f-549fed22e491",
   "metadata": {},
   "source": [
    "You can also assign a variable name to this condition: \n",
    "- `condition = names == \"Bob`"
   ]
  },
  {
   "cell_type": "code",
   "execution_count": 14,
   "id": "c2352586-26eb-401c-98be-35841f6d8fcc",
   "metadata": {},
   "outputs": [
    {
     "data": {
      "text/plain": [
       "array([[-0.13133105,  1.60639218, -0.77072438,  0.75194125],\n",
       "       [-1.20779184,  0.42076527,  1.16267236,  0.15364609]])"
      ]
     },
     "execution_count": 14,
     "metadata": {},
     "output_type": "execute_result"
    }
   ],
   "source": [
    "data[names == \"Bob\"]"
   ]
  },
  {
   "cell_type": "markdown",
   "id": "991735ba-f948-45e8-8774-07f5f35c5f41",
   "metadata": {},
   "source": [
    "Just make sure that the boolean array is of the same length as the array its axis is indexing. "
   ]
  },
  {
   "cell_type": "markdown",
   "id": "d2c63557-be6c-4a0c-8426-8b65667a2d00",
   "metadata": {},
   "source": [
    "Note, you can also make a bool array for values that are not equal to bob by using the following syntax:\n",
    "- `names != \"Bob\"`\n",
    "- `~(names == \"Bob\")`"
   ]
  },
  {
   "cell_type": "code",
   "execution_count": 15,
   "id": "43a7f682-3751-4c38-a85b-806ca4412a29",
   "metadata": {},
   "outputs": [],
   "source": [
    "names_too_long = np.array(['Bob', 'Joe', 'Will', 'Bob', 'Will', 'Joe', 'Joe', \"Arthur\"])"
   ]
  },
  {
   "cell_type": "code",
   "execution_count": 16,
   "id": "59d869e8-79b0-46f6-98bd-4843469e3c68",
   "metadata": {},
   "outputs": [
    {
     "ename": "IndexError",
     "evalue": "boolean index did not match indexed array along axis 0; size of axis is 7 but size of corresponding boolean axis is 8",
     "output_type": "error",
     "traceback": [
      "\u001b[31m---------------------------------------------------------------------------\u001b[39m",
      "\u001b[31mIndexError\u001b[39m                                Traceback (most recent call last)",
      "\u001b[36mCell\u001b[39m\u001b[36m \u001b[39m\u001b[32mIn[16]\u001b[39m\u001b[32m, line 1\u001b[39m\n\u001b[32m----> \u001b[39m\u001b[32m1\u001b[39m \u001b[43mdata\u001b[49m\u001b[43m[\u001b[49m\u001b[43mnames_too_long\u001b[49m\u001b[43m \u001b[49m\u001b[43m==\u001b[49m\u001b[33;43m\"\u001b[39;49m\u001b[33;43mBob\u001b[39;49m\u001b[33;43m\"\u001b[39;49m\u001b[43m]\u001b[49m\n",
      "\u001b[31mIndexError\u001b[39m: boolean index did not match indexed array along axis 0; size of axis is 7 but size of corresponding boolean axis is 8"
     ]
    }
   ],
   "source": [
    "data[names_too_long ==\"Bob\"]"
   ]
  },
  {
   "cell_type": "markdown",
   "id": "cac5061f-d571-4cd8-b601-eb506bcdae2f",
   "metadata": {},
   "source": [
    "**IndexError: boolean index did not match indexed array along axis 0; size of axis is 7 but size of corresponding boolean axis is 8**"
   ]
  },
  {
   "cell_type": "markdown",
   "id": "20b00d67-18bb-4b77-8f98-cf1c164cca91",
   "metadata": {},
   "source": [
    "Assigning a variable name to the condition is an easier way to use the latter syntax for negation: \n",
    "- `~(condition)`"
   ]
  },
  {
   "cell_type": "markdown",
   "id": "a72493f1-9a3f-4ecb-86a2-1677a76dd7a0",
   "metadata": {},
   "source": [
    "You can mix and match bool arrays with indexes as well if you would like to narrow down your search even more. "
   ]
  },
  {
   "cell_type": "markdown",
   "id": "b3d7c7df-a3c9-4208-ae98-fc46133ebe10",
   "metadata": {},
   "source": [
    "**Note:** You can combine bool conditions using `&` (and) `|` (or). Pythonic `and` and `or` keywords do not work with boolean arrays.  "
   ]
  },
  {
   "cell_type": "code",
   "execution_count": 17,
   "id": "d06d04ea-5ebf-40c8-8582-6358f19d9af5",
   "metadata": {},
   "outputs": [
    {
     "data": {
      "text/plain": [
       "array([False, False, False, False, False, False, False])"
      ]
     },
     "execution_count": 17,
     "metadata": {},
     "output_type": "execute_result"
    }
   ],
   "source": [
    "condition2 = (names == \"Bob\") & (names != \"Bob\")\n",
    "condition2"
   ]
  },
  {
   "cell_type": "markdown",
   "id": "3c3adf67-288b-41c2-bc51-ef2b897e83f0",
   "metadata": {},
   "source": [
    "Lastly, setting values with a boolean array:\n",
    "- setting everything less than 0 equal to zero \n",
    "- `data[data < 0] = 0`"
   ]
  },
  {
   "cell_type": "markdown",
   "id": "02788fe8-443e-47c0-acf7-e0af815eaed1",
   "metadata": {},
   "source": [
    "## Fancy Indexing"
   ]
  },
  {
   "cell_type": "markdown",
   "id": "165222ff-1d8d-47a5-aa39-322f72fa043d",
   "metadata": {},
   "source": [
    "This is a term adopted by NumPy to describe indexing using *integer* arrays. "
   ]
  },
  {
   "cell_type": "markdown",
   "id": "727d8a0c-ac1c-4d94-825e-9e1c7c07662e",
   "metadata": {},
   "source": [
    "**Fancy indexing always copies the data into a new array**\n",
    "- different from slicing\n",
    "- similar to bool indexing"
   ]
  },
  {
   "cell_type": "code",
   "execution_count": 18,
   "id": "86198a52-7f8f-4a2b-9b92-27d8a640d2d2",
   "metadata": {},
   "outputs": [],
   "source": [
    "arr = np.empty((8,4))"
   ]
  },
  {
   "cell_type": "code",
   "execution_count": 19,
   "id": "5b4d2bb2-2967-433a-a701-e2cf864830b4",
   "metadata": {},
   "outputs": [],
   "source": [
    "for i in range(8):\n",
    "    arr[i] = i"
   ]
  },
  {
   "cell_type": "code",
   "execution_count": 20,
   "id": "2fa2d95f-ce98-4e62-b7ff-0a884dfe660c",
   "metadata": {},
   "outputs": [
    {
     "data": {
      "text/plain": [
       "array([[0., 0., 0., 0.],\n",
       "       [1., 1., 1., 1.],\n",
       "       [2., 2., 2., 2.],\n",
       "       [3., 3., 3., 3.],\n",
       "       [4., 4., 4., 4.],\n",
       "       [5., 5., 5., 5.],\n",
       "       [6., 6., 6., 6.],\n",
       "       [7., 7., 7., 7.]])"
      ]
     },
     "execution_count": 20,
     "metadata": {},
     "output_type": "execute_result"
    }
   ],
   "source": [
    "arr"
   ]
  },
  {
   "cell_type": "markdown",
   "id": "a5818177-1396-4a50-be69-dd711a90c77c",
   "metadata": {},
   "source": [
    "Index `arr` using an array and see what happens:"
   ]
  },
  {
   "cell_type": "code",
   "execution_count": 21,
   "id": "8ed72b22-88f1-4094-8c88-ab67ce447299",
   "metadata": {},
   "outputs": [
    {
     "data": {
      "text/plain": [
       "array([[0., 0., 0., 0.],\n",
       "       [2., 2., 2., 2.],\n",
       "       [3., 3., 3., 3.]])"
      ]
     },
     "execution_count": 21,
     "metadata": {},
     "output_type": "execute_result"
    }
   ],
   "source": [
    "arr[[0, 2, 3]]"
   ]
  },
  {
   "cell_type": "markdown",
   "id": "7bd53570-0e1a-4924-b0f8-b0f1e08c1c25",
   "metadata": {},
   "source": [
    "It selects the corresponding rows along the 0th axis. "
   ]
  },
  {
   "cell_type": "markdown",
   "id": "3e44eafa-e2df-4b04-8748-a8a6e84561f1",
   "metadata": {},
   "source": [
    "Indexing with more than one array (in two dimensions) selects a 1d array of elements corresponding to each tuple of indeces. For example:\n",
    "- `arr[[1,2,3],[4,5,6]]`\n",
    "- This selects a 1d array with values matching (1,4) (2,5) (3,6).\n",
    "- Think of this as a bingo board. "
   ]
  },
  {
   "cell_type": "markdown",
   "id": "b6565993-d68f-44fe-ab18-53c9371cfff3",
   "metadata": {},
   "source": [
    "## Transposing Arrays and Swapping Axes"
   ]
  },
  {
   "cell_type": "markdown",
   "id": "924c96cc-be12-4aa3-909f-1e5b4df4bce1",
   "metadata": {},
   "source": [
    "Transposing is a special form of reshaping that similarly returns a view on the underlying data without copying anything. Arrays have the `transpose` method, and also the special `T` attribute."
   ]
  },
  {
   "cell_type": "code",
   "execution_count": 22,
   "id": "39304f9e-558b-4dbf-8eac-ebd56fa45c91",
   "metadata": {},
   "outputs": [
    {
     "data": {
      "text/plain": [
       "array([[ 0,  1,  2,  3,  4],\n",
       "       [ 5,  6,  7,  8,  9],\n",
       "       [10, 11, 12, 13, 14]])"
      ]
     },
     "execution_count": 22,
     "metadata": {},
     "output_type": "execute_result"
    }
   ],
   "source": [
    "arr = np.arange(15).reshape((3,5))\n",
    "arr"
   ]
  },
  {
   "cell_type": "markdown",
   "id": "f6fbbb7d-5e85-4eaf-b2b1-b1990cb2e64d",
   "metadata": {},
   "source": [
    "Compare this to an array made without reshaping to `0th axis = 3` , `1st axis=5`"
   ]
  },
  {
   "cell_type": "code",
   "execution_count": 23,
   "id": "bd22a495-5ea1-4fe4-8553-c47af43e0853",
   "metadata": {},
   "outputs": [
    {
     "data": {
      "text/plain": [
       "array([ 0,  1,  2,  3,  4,  5,  6,  7,  8,  9, 10, 11, 12, 13, 14])"
      ]
     },
     "execution_count": 23,
     "metadata": {},
     "output_type": "execute_result"
    }
   ],
   "source": [
    "arr15 = np.arange(15)\n",
    "arr15"
   ]
  },
  {
   "cell_type": "code",
   "execution_count": 24,
   "id": "447be1cb-7a1c-4d63-903d-63bc5a6942ff",
   "metadata": {},
   "outputs": [
    {
     "data": {
      "text/plain": [
       "array([[ 0,  5, 10],\n",
       "       [ 1,  6, 11],\n",
       "       [ 2,  7, 12],\n",
       "       [ 3,  8, 13],\n",
       "       [ 4,  9, 14]])"
      ]
     },
     "execution_count": 24,
     "metadata": {},
     "output_type": "execute_result"
    }
   ],
   "source": [
    "# Transpose attribute switches the 1st axis to be of length 3, and the 0th axis to be of length 5\n",
    "# Note that .T attribute is a special case of swapping axes. \n",
    "arr.T "
   ]
  },
  {
   "cell_type": "markdown",
   "id": "5753f2d1-6974-4663-9e6a-9520e5d9febd",
   "metadata": {},
   "source": [
    "This is handy for matrix computations. "
   ]
  },
  {
   "cell_type": "code",
   "execution_count": 25,
   "id": "22a17d8a-d4dd-412b-8245-7bfd6d09e972",
   "metadata": {},
   "outputs": [],
   "source": [
    "# inner matrix product using np.dot()\n",
    "arr = np.random.randn(6,3)\n"
   ]
  },
  {
   "cell_type": "code",
   "execution_count": 26,
   "id": "b57af43f-d66d-429f-86c8-4e16fce51ed5",
   "metadata": {},
   "outputs": [
    {
     "data": {
      "text/plain": [
       "array([[14.18445908, -3.01236064,  1.68085439],\n",
       "       [-3.01236064, 11.42179146, -6.98076065],\n",
       "       [ 1.68085439, -6.98076065,  8.1550469 ]])"
      ]
     },
     "execution_count": 26,
     "metadata": {},
     "output_type": "execute_result"
    }
   ],
   "source": [
    "np.dot(arr.T, arr)"
   ]
  },
  {
   "cell_type": "markdown",
   "id": "7b3dae7a-66b6-456e-ad5e-9308f527d8f9",
   "metadata": {},
   "source": [
    "For higher dimensional arrays,`transpose` will accept a tuple of axis numbers to permute the axes. "
   ]
  },
  {
   "cell_type": "code",
   "execution_count": 27,
   "id": "26996dc5-6720-4c13-b825-8a5d8d252e98",
   "metadata": {},
   "outputs": [
    {
     "data": {
      "text/plain": [
       "array([[[ 0,  1,  2,  3],\n",
       "        [ 4,  5,  6,  7]],\n",
       "\n",
       "       [[ 8,  9, 10, 11],\n",
       "        [12, 13, 14, 15]]])"
      ]
     },
     "execution_count": 27,
     "metadata": {},
     "output_type": "execute_result"
    }
   ],
   "source": [
    "arr = np.arange(16).reshape((2,2,4))\n",
    "arr"
   ]
  },
  {
   "cell_type": "markdown",
   "id": "d0b48c6c-7c5e-4800-bb69-5ef849e5cb8c",
   "metadata": {},
   "source": [
    "Note: We now have two arrays, each with 2 for the 0th axis, and 4 for the 1st axis. "
   ]
  },
  {
   "cell_type": "code",
   "execution_count": 28,
   "id": "1cbc29ba-18d4-4a89-bdbc-c0f19429db2c",
   "metadata": {},
   "outputs": [
    {
     "data": {
      "text/plain": [
       "array([[[ 0,  1,  2,  3],\n",
       "        [ 8,  9, 10, 11]],\n",
       "\n",
       "       [[ 4,  5,  6,  7],\n",
       "        [12, 13, 14, 15]]])"
      ]
     },
     "execution_count": 28,
     "metadata": {},
     "output_type": "execute_result"
    }
   ],
   "source": [
    "arr.transpose((1, 0, 2))"
   ]
  },
  {
   "cell_type": "markdown",
   "id": "3bb14b02-7f4b-40b1-aee3-0fb278392cbe",
   "metadata": {},
   "source": [
    "Here the axis have been reordered with the second axis first, the first axis second, and the last axis unchanged. "
   ]
  },
  {
   "cell_type": "markdown",
   "id": "86052bbd-4845-4bd9-8bb7-a300537fa9c2",
   "metadata": {},
   "source": [
    " **Swapping axes** (not to be confused with .T, which is a special case of swapping axes). "
   ]
  },
  {
   "cell_type": "code",
   "execution_count": 29,
   "id": "80d39751-a9d3-47bc-a927-b75722ed0ce8",
   "metadata": {},
   "outputs": [
    {
     "data": {
      "text/plain": [
       "array([[[ 0,  1,  2,  3],\n",
       "        [ 4,  5,  6,  7]],\n",
       "\n",
       "       [[ 8,  9, 10, 11],\n",
       "        [12, 13, 14, 15]]])"
      ]
     },
     "execution_count": 29,
     "metadata": {},
     "output_type": "execute_result"
    }
   ],
   "source": [
    "arr"
   ]
  },
  {
   "cell_type": "code",
   "execution_count": 30,
   "id": "a41ed922-f7f6-4d2a-b416-899a18fdd988",
   "metadata": {},
   "outputs": [
    {
     "data": {
      "text/plain": [
       "array([[[ 0,  4],\n",
       "        [ 1,  5],\n",
       "        [ 2,  6],\n",
       "        [ 3,  7]],\n",
       "\n",
       "       [[ 8, 12],\n",
       "        [ 9, 13],\n",
       "        [10, 14],\n",
       "        [11, 15]]])"
      ]
     },
     "execution_count": 30,
     "metadata": {},
     "output_type": "execute_result"
    }
   ],
   "source": [
    "arr.swapaxes(1,2)"
   ]
  },
  {
   "cell_type": "markdown",
   "id": "dce5f9be-82dd-4612-9c49-241b1da0ced9",
   "metadata": {},
   "source": [
    "# 4.2 Universal Functions: Fast Element-Wise Array Functions. "
   ]
  },
  {
   "cell_type": "markdown",
   "id": "eae224b5-c792-4bee-a2be-33ad5d2243a7",
   "metadata": {},
   "source": [
    "`ufunc` is a function that performs element-wise operations on data in ndarrays. In other words, fast vectorizes wrappers for simple functions that take one or more scalar values and produce one or more scalar results. \n",
    "- `np.sqrt()`\n",
    "- `np.exp()`\n",
    "- `np.maximum()` takes more than one array as args, and takes the element-wise maximum.\n",
    "- `np.modf()` although uncommon, this one returns more than one array, which returns that fractional id integral parts of a floating-point array. you can also assign a tuple to it when calling it so that they are easily identified. "
   ]
  },
  {
   "cell_type": "markdown",
   "id": "c8a1af95-1159-4162-af79-91f3a5bda610",
   "metadata": {},
   "source": [
    "`ufuncs` have an optional `out` argument that allows them to operate in-place on arrays. "
   ]
  },
  {
   "cell_type": "code",
   "execution_count": 31,
   "id": "5b174698-0401-49ab-8393-737771cfce1e",
   "metadata": {},
   "outputs": [
    {
     "data": {
      "text/plain": [
       "array([0, 1, 2, 3, 4, 5, 6, 7, 8, 9])"
      ]
     },
     "execution_count": 31,
     "metadata": {},
     "output_type": "execute_result"
    }
   ],
   "source": [
    "arr = np.arange(10)\n",
    "arr"
   ]
  },
  {
   "cell_type": "code",
   "execution_count": 32,
   "id": "c061a42b-3312-4d08-bdea-726c751f1627",
   "metadata": {},
   "outputs": [
    {
     "data": {
      "text/plain": [
       "array([0.        , 1.        , 1.41421356, 1.73205081, 2.        ,\n",
       "       2.23606798, 2.44948974, 2.64575131, 2.82842712, 3.        ])"
      ]
     },
     "execution_count": 32,
     "metadata": {},
     "output_type": "execute_result"
    }
   ],
   "source": [
    "np.sqrt(arr)"
   ]
  },
  {
   "cell_type": "code",
   "execution_count": 33,
   "id": "9610e924-2376-413e-b579-e27cdb58c639",
   "metadata": {},
   "outputs": [
    {
     "data": {
      "text/plain": [
       "array([0, 1, 2, 3, 4, 5, 6, 7, 8, 9])"
      ]
     },
     "execution_count": 33,
     "metadata": {},
     "output_type": "execute_result"
    }
   ],
   "source": [
    "arr"
   ]
  },
  {
   "cell_type": "code",
   "execution_count": 34,
   "id": "77a519ce-693c-454c-bda1-e308bfbd2e8c",
   "metadata": {},
   "outputs": [
    {
     "ename": "UFuncTypeError",
     "evalue": "Cannot cast ufunc 'sqrt' output from dtype('float64') to dtype('int64') with casting rule 'same_kind'",
     "output_type": "error",
     "traceback": [
      "\u001b[31m---------------------------------------------------------------------------\u001b[39m",
      "\u001b[31mUFuncTypeError\u001b[39m                            Traceback (most recent call last)",
      "\u001b[36mCell\u001b[39m\u001b[36m \u001b[39m\u001b[32mIn[34]\u001b[39m\u001b[32m, line 1\u001b[39m\n\u001b[32m----> \u001b[39m\u001b[32m1\u001b[39m \u001b[43mnp\u001b[49m\u001b[43m.\u001b[49m\u001b[43msqrt\u001b[49m\u001b[43m(\u001b[49m\u001b[43marr\u001b[49m\u001b[43m,\u001b[49m\u001b[43m \u001b[49m\u001b[43marr\u001b[49m\u001b[43m)\u001b[49m \n",
      "\u001b[31mUFuncTypeError\u001b[39m: Cannot cast ufunc 'sqrt' output from dtype('float64') to dtype('int64') with casting rule 'same_kind'"
     ]
    }
   ],
   "source": [
    "np.sqrt(arr, arr) "
   ]
  },
  {
   "cell_type": "markdown",
   "id": "dc72569e-6ef0-4fb8-9e9f-309028983733",
   "metadata": {},
   "source": [
    "Note: we cannot cast universal function `sqrt` output from `float64` to `int64` with casting rule `same_kind`. "
   ]
  },
  {
   "cell_type": "markdown",
   "id": "60a3e1ff-2001-493d-98b3-b143116e6bd2",
   "metadata": {},
   "source": [
    "To avoid this, assign `dtype = 'float64'` when making the array so that the output of `sqrt` can be cast from `float64` to `float64`. i.e. the same dtype. "
   ]
  },
  {
   "cell_type": "markdown",
   "id": "be8b0d19-ec9b-4fa7-9b5f-c504e05b9a41",
   "metadata": {},
   "source": [
    "# 4.3 Array Oriented Programming with Arrays "
   ]
  },
  {
   "cell_type": "markdown",
   "id": "3b36e48e-f270-4f53-bb46-b2aee6d005a7",
   "metadata": {},
   "source": [
    "Using numpy arrays enables us to express many kinds of data processing tasks as concise array experssions that might otherwise require loops. **This practice of replacing explicit loops with array expressions is commonly referred to as vectorization.** "
   ]
  },
  {
   "cell_type": "markdown",
   "id": "ad2ec810-dac4-4950-ab86-3bfcc75aef56",
   "metadata": {},
   "source": [
    "Ex. We wish to evaluate the function `sqrt(x^2 + y^2)` accross a regular grid of values. We can use the `np.meshgrid` function. This function takes two 1d arrays and produces two 2d matrices corresponding to all pairs of `(array1, array2)` values."
   ]
  },
  {
   "cell_type": "code",
   "execution_count": 35,
   "id": "6cd323ce-de6f-404a-9a56-122518376c4c",
   "metadata": {
    "scrolled": true
   },
   "outputs": [
    {
     "data": {
      "text/plain": [
       "array([-5.0000000e+00, -4.9900000e+00, -4.9800000e+00, -4.9700000e+00,\n",
       "       -4.9600000e+00, -4.9500000e+00, -4.9400000e+00, -4.9300000e+00,\n",
       "       -4.9200000e+00, -4.9100000e+00, -4.9000000e+00, -4.8900000e+00,\n",
       "       -4.8800000e+00, -4.8700000e+00, -4.8600000e+00, -4.8500000e+00,\n",
       "       -4.8400000e+00, -4.8300000e+00, -4.8200000e+00, -4.8100000e+00,\n",
       "       -4.8000000e+00, -4.7900000e+00, -4.7800000e+00, -4.7700000e+00,\n",
       "       -4.7600000e+00, -4.7500000e+00, -4.7400000e+00, -4.7300000e+00,\n",
       "       -4.7200000e+00, -4.7100000e+00, -4.7000000e+00, -4.6900000e+00,\n",
       "       -4.6800000e+00, -4.6700000e+00, -4.6600000e+00, -4.6500000e+00,\n",
       "       -4.6400000e+00, -4.6300000e+00, -4.6200000e+00, -4.6100000e+00,\n",
       "       -4.6000000e+00, -4.5900000e+00, -4.5800000e+00, -4.5700000e+00,\n",
       "       -4.5600000e+00, -4.5500000e+00, -4.5400000e+00, -4.5300000e+00,\n",
       "       -4.5200000e+00, -4.5100000e+00, -4.5000000e+00, -4.4900000e+00,\n",
       "       -4.4800000e+00, -4.4700000e+00, -4.4600000e+00, -4.4500000e+00,\n",
       "       -4.4400000e+00, -4.4300000e+00, -4.4200000e+00, -4.4100000e+00,\n",
       "       -4.4000000e+00, -4.3900000e+00, -4.3800000e+00, -4.3700000e+00,\n",
       "       -4.3600000e+00, -4.3500000e+00, -4.3400000e+00, -4.3300000e+00,\n",
       "       -4.3200000e+00, -4.3100000e+00, -4.3000000e+00, -4.2900000e+00,\n",
       "       -4.2800000e+00, -4.2700000e+00, -4.2600000e+00, -4.2500000e+00,\n",
       "       -4.2400000e+00, -4.2300000e+00, -4.2200000e+00, -4.2100000e+00,\n",
       "       -4.2000000e+00, -4.1900000e+00, -4.1800000e+00, -4.1700000e+00,\n",
       "       -4.1600000e+00, -4.1500000e+00, -4.1400000e+00, -4.1300000e+00,\n",
       "       -4.1200000e+00, -4.1100000e+00, -4.1000000e+00, -4.0900000e+00,\n",
       "       -4.0800000e+00, -4.0700000e+00, -4.0600000e+00, -4.0500000e+00,\n",
       "       -4.0400000e+00, -4.0300000e+00, -4.0200000e+00, -4.0100000e+00,\n",
       "       -4.0000000e+00, -3.9900000e+00, -3.9800000e+00, -3.9700000e+00,\n",
       "       -3.9600000e+00, -3.9500000e+00, -3.9400000e+00, -3.9300000e+00,\n",
       "       -3.9200000e+00, -3.9100000e+00, -3.9000000e+00, -3.8900000e+00,\n",
       "       -3.8800000e+00, -3.8700000e+00, -3.8600000e+00, -3.8500000e+00,\n",
       "       -3.8400000e+00, -3.8300000e+00, -3.8200000e+00, -3.8100000e+00,\n",
       "       -3.8000000e+00, -3.7900000e+00, -3.7800000e+00, -3.7700000e+00,\n",
       "       -3.7600000e+00, -3.7500000e+00, -3.7400000e+00, -3.7300000e+00,\n",
       "       -3.7200000e+00, -3.7100000e+00, -3.7000000e+00, -3.6900000e+00,\n",
       "       -3.6800000e+00, -3.6700000e+00, -3.6600000e+00, -3.6500000e+00,\n",
       "       -3.6400000e+00, -3.6300000e+00, -3.6200000e+00, -3.6100000e+00,\n",
       "       -3.6000000e+00, -3.5900000e+00, -3.5800000e+00, -3.5700000e+00,\n",
       "       -3.5600000e+00, -3.5500000e+00, -3.5400000e+00, -3.5300000e+00,\n",
       "       -3.5200000e+00, -3.5100000e+00, -3.5000000e+00, -3.4900000e+00,\n",
       "       -3.4800000e+00, -3.4700000e+00, -3.4600000e+00, -3.4500000e+00,\n",
       "       -3.4400000e+00, -3.4300000e+00, -3.4200000e+00, -3.4100000e+00,\n",
       "       -3.4000000e+00, -3.3900000e+00, -3.3800000e+00, -3.3700000e+00,\n",
       "       -3.3600000e+00, -3.3500000e+00, -3.3400000e+00, -3.3300000e+00,\n",
       "       -3.3200000e+00, -3.3100000e+00, -3.3000000e+00, -3.2900000e+00,\n",
       "       -3.2800000e+00, -3.2700000e+00, -3.2600000e+00, -3.2500000e+00,\n",
       "       -3.2400000e+00, -3.2300000e+00, -3.2200000e+00, -3.2100000e+00,\n",
       "       -3.2000000e+00, -3.1900000e+00, -3.1800000e+00, -3.1700000e+00,\n",
       "       -3.1600000e+00, -3.1500000e+00, -3.1400000e+00, -3.1300000e+00,\n",
       "       -3.1200000e+00, -3.1100000e+00, -3.1000000e+00, -3.0900000e+00,\n",
       "       -3.0800000e+00, -3.0700000e+00, -3.0600000e+00, -3.0500000e+00,\n",
       "       -3.0400000e+00, -3.0300000e+00, -3.0200000e+00, -3.0100000e+00,\n",
       "       -3.0000000e+00, -2.9900000e+00, -2.9800000e+00, -2.9700000e+00,\n",
       "       -2.9600000e+00, -2.9500000e+00, -2.9400000e+00, -2.9300000e+00,\n",
       "       -2.9200000e+00, -2.9100000e+00, -2.9000000e+00, -2.8900000e+00,\n",
       "       -2.8800000e+00, -2.8700000e+00, -2.8600000e+00, -2.8500000e+00,\n",
       "       -2.8400000e+00, -2.8300000e+00, -2.8200000e+00, -2.8100000e+00,\n",
       "       -2.8000000e+00, -2.7900000e+00, -2.7800000e+00, -2.7700000e+00,\n",
       "       -2.7600000e+00, -2.7500000e+00, -2.7400000e+00, -2.7300000e+00,\n",
       "       -2.7200000e+00, -2.7100000e+00, -2.7000000e+00, -2.6900000e+00,\n",
       "       -2.6800000e+00, -2.6700000e+00, -2.6600000e+00, -2.6500000e+00,\n",
       "       -2.6400000e+00, -2.6300000e+00, -2.6200000e+00, -2.6100000e+00,\n",
       "       -2.6000000e+00, -2.5900000e+00, -2.5800000e+00, -2.5700000e+00,\n",
       "       -2.5600000e+00, -2.5500000e+00, -2.5400000e+00, -2.5300000e+00,\n",
       "       -2.5200000e+00, -2.5100000e+00, -2.5000000e+00, -2.4900000e+00,\n",
       "       -2.4800000e+00, -2.4700000e+00, -2.4600000e+00, -2.4500000e+00,\n",
       "       -2.4400000e+00, -2.4300000e+00, -2.4200000e+00, -2.4100000e+00,\n",
       "       -2.4000000e+00, -2.3900000e+00, -2.3800000e+00, -2.3700000e+00,\n",
       "       -2.3600000e+00, -2.3500000e+00, -2.3400000e+00, -2.3300000e+00,\n",
       "       -2.3200000e+00, -2.3100000e+00, -2.3000000e+00, -2.2900000e+00,\n",
       "       -2.2800000e+00, -2.2700000e+00, -2.2600000e+00, -2.2500000e+00,\n",
       "       -2.2400000e+00, -2.2300000e+00, -2.2200000e+00, -2.2100000e+00,\n",
       "       -2.2000000e+00, -2.1900000e+00, -2.1800000e+00, -2.1700000e+00,\n",
       "       -2.1600000e+00, -2.1500000e+00, -2.1400000e+00, -2.1300000e+00,\n",
       "       -2.1200000e+00, -2.1100000e+00, -2.1000000e+00, -2.0900000e+00,\n",
       "       -2.0800000e+00, -2.0700000e+00, -2.0600000e+00, -2.0500000e+00,\n",
       "       -2.0400000e+00, -2.0300000e+00, -2.0200000e+00, -2.0100000e+00,\n",
       "       -2.0000000e+00, -1.9900000e+00, -1.9800000e+00, -1.9700000e+00,\n",
       "       -1.9600000e+00, -1.9500000e+00, -1.9400000e+00, -1.9300000e+00,\n",
       "       -1.9200000e+00, -1.9100000e+00, -1.9000000e+00, -1.8900000e+00,\n",
       "       -1.8800000e+00, -1.8700000e+00, -1.8600000e+00, -1.8500000e+00,\n",
       "       -1.8400000e+00, -1.8300000e+00, -1.8200000e+00, -1.8100000e+00,\n",
       "       -1.8000000e+00, -1.7900000e+00, -1.7800000e+00, -1.7700000e+00,\n",
       "       -1.7600000e+00, -1.7500000e+00, -1.7400000e+00, -1.7300000e+00,\n",
       "       -1.7200000e+00, -1.7100000e+00, -1.7000000e+00, -1.6900000e+00,\n",
       "       -1.6800000e+00, -1.6700000e+00, -1.6600000e+00, -1.6500000e+00,\n",
       "       -1.6400000e+00, -1.6300000e+00, -1.6200000e+00, -1.6100000e+00,\n",
       "       -1.6000000e+00, -1.5900000e+00, -1.5800000e+00, -1.5700000e+00,\n",
       "       -1.5600000e+00, -1.5500000e+00, -1.5400000e+00, -1.5300000e+00,\n",
       "       -1.5200000e+00, -1.5100000e+00, -1.5000000e+00, -1.4900000e+00,\n",
       "       -1.4800000e+00, -1.4700000e+00, -1.4600000e+00, -1.4500000e+00,\n",
       "       -1.4400000e+00, -1.4300000e+00, -1.4200000e+00, -1.4100000e+00,\n",
       "       -1.4000000e+00, -1.3900000e+00, -1.3800000e+00, -1.3700000e+00,\n",
       "       -1.3600000e+00, -1.3500000e+00, -1.3400000e+00, -1.3300000e+00,\n",
       "       -1.3200000e+00, -1.3100000e+00, -1.3000000e+00, -1.2900000e+00,\n",
       "       -1.2800000e+00, -1.2700000e+00, -1.2600000e+00, -1.2500000e+00,\n",
       "       -1.2400000e+00, -1.2300000e+00, -1.2200000e+00, -1.2100000e+00,\n",
       "       -1.2000000e+00, -1.1900000e+00, -1.1800000e+00, -1.1700000e+00,\n",
       "       -1.1600000e+00, -1.1500000e+00, -1.1400000e+00, -1.1300000e+00,\n",
       "       -1.1200000e+00, -1.1100000e+00, -1.1000000e+00, -1.0900000e+00,\n",
       "       -1.0800000e+00, -1.0700000e+00, -1.0600000e+00, -1.0500000e+00,\n",
       "       -1.0400000e+00, -1.0300000e+00, -1.0200000e+00, -1.0100000e+00,\n",
       "       -1.0000000e+00, -9.9000000e-01, -9.8000000e-01, -9.7000000e-01,\n",
       "       -9.6000000e-01, -9.5000000e-01, -9.4000000e-01, -9.3000000e-01,\n",
       "       -9.2000000e-01, -9.1000000e-01, -9.0000000e-01, -8.9000000e-01,\n",
       "       -8.8000000e-01, -8.7000000e-01, -8.6000000e-01, -8.5000000e-01,\n",
       "       -8.4000000e-01, -8.3000000e-01, -8.2000000e-01, -8.1000000e-01,\n",
       "       -8.0000000e-01, -7.9000000e-01, -7.8000000e-01, -7.7000000e-01,\n",
       "       -7.6000000e-01, -7.5000000e-01, -7.4000000e-01, -7.3000000e-01,\n",
       "       -7.2000000e-01, -7.1000000e-01, -7.0000000e-01, -6.9000000e-01,\n",
       "       -6.8000000e-01, -6.7000000e-01, -6.6000000e-01, -6.5000000e-01,\n",
       "       -6.4000000e-01, -6.3000000e-01, -6.2000000e-01, -6.1000000e-01,\n",
       "       -6.0000000e-01, -5.9000000e-01, -5.8000000e-01, -5.7000000e-01,\n",
       "       -5.6000000e-01, -5.5000000e-01, -5.4000000e-01, -5.3000000e-01,\n",
       "       -5.2000000e-01, -5.1000000e-01, -5.0000000e-01, -4.9000000e-01,\n",
       "       -4.8000000e-01, -4.7000000e-01, -4.6000000e-01, -4.5000000e-01,\n",
       "       -4.4000000e-01, -4.3000000e-01, -4.2000000e-01, -4.1000000e-01,\n",
       "       -4.0000000e-01, -3.9000000e-01, -3.8000000e-01, -3.7000000e-01,\n",
       "       -3.6000000e-01, -3.5000000e-01, -3.4000000e-01, -3.3000000e-01,\n",
       "       -3.2000000e-01, -3.1000000e-01, -3.0000000e-01, -2.9000000e-01,\n",
       "       -2.8000000e-01, -2.7000000e-01, -2.6000000e-01, -2.5000000e-01,\n",
       "       -2.4000000e-01, -2.3000000e-01, -2.2000000e-01, -2.1000000e-01,\n",
       "       -2.0000000e-01, -1.9000000e-01, -1.8000000e-01, -1.7000000e-01,\n",
       "       -1.6000000e-01, -1.5000000e-01, -1.4000000e-01, -1.3000000e-01,\n",
       "       -1.2000000e-01, -1.1000000e-01, -1.0000000e-01, -9.0000000e-02,\n",
       "       -8.0000000e-02, -7.0000000e-02, -6.0000000e-02, -5.0000000e-02,\n",
       "       -4.0000000e-02, -3.0000000e-02, -2.0000000e-02, -1.0000000e-02,\n",
       "       -1.0658141e-13,  1.0000000e-02,  2.0000000e-02,  3.0000000e-02,\n",
       "        4.0000000e-02,  5.0000000e-02,  6.0000000e-02,  7.0000000e-02,\n",
       "        8.0000000e-02,  9.0000000e-02,  1.0000000e-01,  1.1000000e-01,\n",
       "        1.2000000e-01,  1.3000000e-01,  1.4000000e-01,  1.5000000e-01,\n",
       "        1.6000000e-01,  1.7000000e-01,  1.8000000e-01,  1.9000000e-01,\n",
       "        2.0000000e-01,  2.1000000e-01,  2.2000000e-01,  2.3000000e-01,\n",
       "        2.4000000e-01,  2.5000000e-01,  2.6000000e-01,  2.7000000e-01,\n",
       "        2.8000000e-01,  2.9000000e-01,  3.0000000e-01,  3.1000000e-01,\n",
       "        3.2000000e-01,  3.3000000e-01,  3.4000000e-01,  3.5000000e-01,\n",
       "        3.6000000e-01,  3.7000000e-01,  3.8000000e-01,  3.9000000e-01,\n",
       "        4.0000000e-01,  4.1000000e-01,  4.2000000e-01,  4.3000000e-01,\n",
       "        4.4000000e-01,  4.5000000e-01,  4.6000000e-01,  4.7000000e-01,\n",
       "        4.8000000e-01,  4.9000000e-01,  5.0000000e-01,  5.1000000e-01,\n",
       "        5.2000000e-01,  5.3000000e-01,  5.4000000e-01,  5.5000000e-01,\n",
       "        5.6000000e-01,  5.7000000e-01,  5.8000000e-01,  5.9000000e-01,\n",
       "        6.0000000e-01,  6.1000000e-01,  6.2000000e-01,  6.3000000e-01,\n",
       "        6.4000000e-01,  6.5000000e-01,  6.6000000e-01,  6.7000000e-01,\n",
       "        6.8000000e-01,  6.9000000e-01,  7.0000000e-01,  7.1000000e-01,\n",
       "        7.2000000e-01,  7.3000000e-01,  7.4000000e-01,  7.5000000e-01,\n",
       "        7.6000000e-01,  7.7000000e-01,  7.8000000e-01,  7.9000000e-01,\n",
       "        8.0000000e-01,  8.1000000e-01,  8.2000000e-01,  8.3000000e-01,\n",
       "        8.4000000e-01,  8.5000000e-01,  8.6000000e-01,  8.7000000e-01,\n",
       "        8.8000000e-01,  8.9000000e-01,  9.0000000e-01,  9.1000000e-01,\n",
       "        9.2000000e-01,  9.3000000e-01,  9.4000000e-01,  9.5000000e-01,\n",
       "        9.6000000e-01,  9.7000000e-01,  9.8000000e-01,  9.9000000e-01,\n",
       "        1.0000000e+00,  1.0100000e+00,  1.0200000e+00,  1.0300000e+00,\n",
       "        1.0400000e+00,  1.0500000e+00,  1.0600000e+00,  1.0700000e+00,\n",
       "        1.0800000e+00,  1.0900000e+00,  1.1000000e+00,  1.1100000e+00,\n",
       "        1.1200000e+00,  1.1300000e+00,  1.1400000e+00,  1.1500000e+00,\n",
       "        1.1600000e+00,  1.1700000e+00,  1.1800000e+00,  1.1900000e+00,\n",
       "        1.2000000e+00,  1.2100000e+00,  1.2200000e+00,  1.2300000e+00,\n",
       "        1.2400000e+00,  1.2500000e+00,  1.2600000e+00,  1.2700000e+00,\n",
       "        1.2800000e+00,  1.2900000e+00,  1.3000000e+00,  1.3100000e+00,\n",
       "        1.3200000e+00,  1.3300000e+00,  1.3400000e+00,  1.3500000e+00,\n",
       "        1.3600000e+00,  1.3700000e+00,  1.3800000e+00,  1.3900000e+00,\n",
       "        1.4000000e+00,  1.4100000e+00,  1.4200000e+00,  1.4300000e+00,\n",
       "        1.4400000e+00,  1.4500000e+00,  1.4600000e+00,  1.4700000e+00,\n",
       "        1.4800000e+00,  1.4900000e+00,  1.5000000e+00,  1.5100000e+00,\n",
       "        1.5200000e+00,  1.5300000e+00,  1.5400000e+00,  1.5500000e+00,\n",
       "        1.5600000e+00,  1.5700000e+00,  1.5800000e+00,  1.5900000e+00,\n",
       "        1.6000000e+00,  1.6100000e+00,  1.6200000e+00,  1.6300000e+00,\n",
       "        1.6400000e+00,  1.6500000e+00,  1.6600000e+00,  1.6700000e+00,\n",
       "        1.6800000e+00,  1.6900000e+00,  1.7000000e+00,  1.7100000e+00,\n",
       "        1.7200000e+00,  1.7300000e+00,  1.7400000e+00,  1.7500000e+00,\n",
       "        1.7600000e+00,  1.7700000e+00,  1.7800000e+00,  1.7900000e+00,\n",
       "        1.8000000e+00,  1.8100000e+00,  1.8200000e+00,  1.8300000e+00,\n",
       "        1.8400000e+00,  1.8500000e+00,  1.8600000e+00,  1.8700000e+00,\n",
       "        1.8800000e+00,  1.8900000e+00,  1.9000000e+00,  1.9100000e+00,\n",
       "        1.9200000e+00,  1.9300000e+00,  1.9400000e+00,  1.9500000e+00,\n",
       "        1.9600000e+00,  1.9700000e+00,  1.9800000e+00,  1.9900000e+00,\n",
       "        2.0000000e+00,  2.0100000e+00,  2.0200000e+00,  2.0300000e+00,\n",
       "        2.0400000e+00,  2.0500000e+00,  2.0600000e+00,  2.0700000e+00,\n",
       "        2.0800000e+00,  2.0900000e+00,  2.1000000e+00,  2.1100000e+00,\n",
       "        2.1200000e+00,  2.1300000e+00,  2.1400000e+00,  2.1500000e+00,\n",
       "        2.1600000e+00,  2.1700000e+00,  2.1800000e+00,  2.1900000e+00,\n",
       "        2.2000000e+00,  2.2100000e+00,  2.2200000e+00,  2.2300000e+00,\n",
       "        2.2400000e+00,  2.2500000e+00,  2.2600000e+00,  2.2700000e+00,\n",
       "        2.2800000e+00,  2.2900000e+00,  2.3000000e+00,  2.3100000e+00,\n",
       "        2.3200000e+00,  2.3300000e+00,  2.3400000e+00,  2.3500000e+00,\n",
       "        2.3600000e+00,  2.3700000e+00,  2.3800000e+00,  2.3900000e+00,\n",
       "        2.4000000e+00,  2.4100000e+00,  2.4200000e+00,  2.4300000e+00,\n",
       "        2.4400000e+00,  2.4500000e+00,  2.4600000e+00,  2.4700000e+00,\n",
       "        2.4800000e+00,  2.4900000e+00,  2.5000000e+00,  2.5100000e+00,\n",
       "        2.5200000e+00,  2.5300000e+00,  2.5400000e+00,  2.5500000e+00,\n",
       "        2.5600000e+00,  2.5700000e+00,  2.5800000e+00,  2.5900000e+00,\n",
       "        2.6000000e+00,  2.6100000e+00,  2.6200000e+00,  2.6300000e+00,\n",
       "        2.6400000e+00,  2.6500000e+00,  2.6600000e+00,  2.6700000e+00,\n",
       "        2.6800000e+00,  2.6900000e+00,  2.7000000e+00,  2.7100000e+00,\n",
       "        2.7200000e+00,  2.7300000e+00,  2.7400000e+00,  2.7500000e+00,\n",
       "        2.7600000e+00,  2.7700000e+00,  2.7800000e+00,  2.7900000e+00,\n",
       "        2.8000000e+00,  2.8100000e+00,  2.8200000e+00,  2.8300000e+00,\n",
       "        2.8400000e+00,  2.8500000e+00,  2.8600000e+00,  2.8700000e+00,\n",
       "        2.8800000e+00,  2.8900000e+00,  2.9000000e+00,  2.9100000e+00,\n",
       "        2.9200000e+00,  2.9300000e+00,  2.9400000e+00,  2.9500000e+00,\n",
       "        2.9600000e+00,  2.9700000e+00,  2.9800000e+00,  2.9900000e+00,\n",
       "        3.0000000e+00,  3.0100000e+00,  3.0200000e+00,  3.0300000e+00,\n",
       "        3.0400000e+00,  3.0500000e+00,  3.0600000e+00,  3.0700000e+00,\n",
       "        3.0800000e+00,  3.0900000e+00,  3.1000000e+00,  3.1100000e+00,\n",
       "        3.1200000e+00,  3.1300000e+00,  3.1400000e+00,  3.1500000e+00,\n",
       "        3.1600000e+00,  3.1700000e+00,  3.1800000e+00,  3.1900000e+00,\n",
       "        3.2000000e+00,  3.2100000e+00,  3.2200000e+00,  3.2300000e+00,\n",
       "        3.2400000e+00,  3.2500000e+00,  3.2600000e+00,  3.2700000e+00,\n",
       "        3.2800000e+00,  3.2900000e+00,  3.3000000e+00,  3.3100000e+00,\n",
       "        3.3200000e+00,  3.3300000e+00,  3.3400000e+00,  3.3500000e+00,\n",
       "        3.3600000e+00,  3.3700000e+00,  3.3800000e+00,  3.3900000e+00,\n",
       "        3.4000000e+00,  3.4100000e+00,  3.4200000e+00,  3.4300000e+00,\n",
       "        3.4400000e+00,  3.4500000e+00,  3.4600000e+00,  3.4700000e+00,\n",
       "        3.4800000e+00,  3.4900000e+00,  3.5000000e+00,  3.5100000e+00,\n",
       "        3.5200000e+00,  3.5300000e+00,  3.5400000e+00,  3.5500000e+00,\n",
       "        3.5600000e+00,  3.5700000e+00,  3.5800000e+00,  3.5900000e+00,\n",
       "        3.6000000e+00,  3.6100000e+00,  3.6200000e+00,  3.6300000e+00,\n",
       "        3.6400000e+00,  3.6500000e+00,  3.6600000e+00,  3.6700000e+00,\n",
       "        3.6800000e+00,  3.6900000e+00,  3.7000000e+00,  3.7100000e+00,\n",
       "        3.7200000e+00,  3.7300000e+00,  3.7400000e+00,  3.7500000e+00,\n",
       "        3.7600000e+00,  3.7700000e+00,  3.7800000e+00,  3.7900000e+00,\n",
       "        3.8000000e+00,  3.8100000e+00,  3.8200000e+00,  3.8300000e+00,\n",
       "        3.8400000e+00,  3.8500000e+00,  3.8600000e+00,  3.8700000e+00,\n",
       "        3.8800000e+00,  3.8900000e+00,  3.9000000e+00,  3.9100000e+00,\n",
       "        3.9200000e+00,  3.9300000e+00,  3.9400000e+00,  3.9500000e+00,\n",
       "        3.9600000e+00,  3.9700000e+00,  3.9800000e+00,  3.9900000e+00,\n",
       "        4.0000000e+00,  4.0100000e+00,  4.0200000e+00,  4.0300000e+00,\n",
       "        4.0400000e+00,  4.0500000e+00,  4.0600000e+00,  4.0700000e+00,\n",
       "        4.0800000e+00,  4.0900000e+00,  4.1000000e+00,  4.1100000e+00,\n",
       "        4.1200000e+00,  4.1300000e+00,  4.1400000e+00,  4.1500000e+00,\n",
       "        4.1600000e+00,  4.1700000e+00,  4.1800000e+00,  4.1900000e+00,\n",
       "        4.2000000e+00,  4.2100000e+00,  4.2200000e+00,  4.2300000e+00,\n",
       "        4.2400000e+00,  4.2500000e+00,  4.2600000e+00,  4.2700000e+00,\n",
       "        4.2800000e+00,  4.2900000e+00,  4.3000000e+00,  4.3100000e+00,\n",
       "        4.3200000e+00,  4.3300000e+00,  4.3400000e+00,  4.3500000e+00,\n",
       "        4.3600000e+00,  4.3700000e+00,  4.3800000e+00,  4.3900000e+00,\n",
       "        4.4000000e+00,  4.4100000e+00,  4.4200000e+00,  4.4300000e+00,\n",
       "        4.4400000e+00,  4.4500000e+00,  4.4600000e+00,  4.4700000e+00,\n",
       "        4.4800000e+00,  4.4900000e+00,  4.5000000e+00,  4.5100000e+00,\n",
       "        4.5200000e+00,  4.5300000e+00,  4.5400000e+00,  4.5500000e+00,\n",
       "        4.5600000e+00,  4.5700000e+00,  4.5800000e+00,  4.5900000e+00,\n",
       "        4.6000000e+00,  4.6100000e+00,  4.6200000e+00,  4.6300000e+00,\n",
       "        4.6400000e+00,  4.6500000e+00,  4.6600000e+00,  4.6700000e+00,\n",
       "        4.6800000e+00,  4.6900000e+00,  4.7000000e+00,  4.7100000e+00,\n",
       "        4.7200000e+00,  4.7300000e+00,  4.7400000e+00,  4.7500000e+00,\n",
       "        4.7600000e+00,  4.7700000e+00,  4.7800000e+00,  4.7900000e+00,\n",
       "        4.8000000e+00,  4.8100000e+00,  4.8200000e+00,  4.8300000e+00,\n",
       "        4.8400000e+00,  4.8500000e+00,  4.8600000e+00,  4.8700000e+00,\n",
       "        4.8800000e+00,  4.8900000e+00,  4.9000000e+00,  4.9100000e+00,\n",
       "        4.9200000e+00,  4.9300000e+00,  4.9400000e+00,  4.9500000e+00,\n",
       "        4.9600000e+00,  4.9700000e+00,  4.9800000e+00,  4.9900000e+00])"
      ]
     },
     "execution_count": 35,
     "metadata": {},
     "output_type": "execute_result"
    }
   ],
   "source": [
    "points = np.arange(-5, 5, .01) # 1d array, range from -5 to 5, step by 0.01\n",
    "points"
   ]
  },
  {
   "cell_type": "code",
   "execution_count": 36,
   "id": "172347d1-2e8b-48c6-b497-08dd02a7ab1b",
   "metadata": {},
   "outputs": [
    {
     "data": {
      "text/plain": [
       "array([[-5.  , -4.99, -4.98, ...,  4.97,  4.98,  4.99],\n",
       "       [-5.  , -4.99, -4.98, ...,  4.97,  4.98,  4.99],\n",
       "       [-5.  , -4.99, -4.98, ...,  4.97,  4.98,  4.99],\n",
       "       ...,\n",
       "       [-5.  , -4.99, -4.98, ...,  4.97,  4.98,  4.99],\n",
       "       [-5.  , -4.99, -4.98, ...,  4.97,  4.98,  4.99],\n",
       "       [-5.  , -4.99, -4.98, ...,  4.97,  4.98,  4.99]],\n",
       "      shape=(1000, 1000))"
      ]
     },
     "execution_count": 36,
     "metadata": {},
     "output_type": "execute_result"
    }
   ],
   "source": [
    "xs, ys = np.meshgrid(points, points) \n",
    "xs"
   ]
  },
  {
   "cell_type": "code",
   "execution_count": 37,
   "id": "0d20421c-13c7-44c5-ac4f-af6945a8bcb7",
   "metadata": {},
   "outputs": [
    {
     "data": {
      "text/plain": [
       "array([[-5.  , -5.  , -5.  , ..., -5.  , -5.  , -5.  ],\n",
       "       [-4.99, -4.99, -4.99, ..., -4.99, -4.99, -4.99],\n",
       "       [-4.98, -4.98, -4.98, ..., -4.98, -4.98, -4.98],\n",
       "       ...,\n",
       "       [ 4.97,  4.97,  4.97, ...,  4.97,  4.97,  4.97],\n",
       "       [ 4.98,  4.98,  4.98, ...,  4.98,  4.98,  4.98],\n",
       "       [ 4.99,  4.99,  4.99, ...,  4.99,  4.99,  4.99]],\n",
       "      shape=(1000, 1000))"
      ]
     },
     "execution_count": 37,
     "metadata": {},
     "output_type": "execute_result"
    }
   ],
   "source": [
    "ys"
   ]
  },
  {
   "cell_type": "code",
   "execution_count": 38,
   "id": "11557c11-e013-4520-b099-92b315720b1c",
   "metadata": {},
   "outputs": [
    {
     "data": {
      "text/plain": [
       "array([[7.07106781, 7.06400028, 7.05693985, ..., 7.04988652, 7.05693985,\n",
       "        7.06400028],\n",
       "       [7.06400028, 7.05692568, 7.04985815, ..., 7.04279774, 7.04985815,\n",
       "        7.05692568],\n",
       "       [7.05693985, 7.04985815, 7.04278354, ..., 7.03571603, 7.04278354,\n",
       "        7.04985815],\n",
       "       ...,\n",
       "       [7.04988652, 7.04279774, 7.03571603, ..., 7.0286414 , 7.03571603,\n",
       "        7.04279774],\n",
       "       [7.05693985, 7.04985815, 7.04278354, ..., 7.03571603, 7.04278354,\n",
       "        7.04985815],\n",
       "       [7.06400028, 7.05692568, 7.04985815, ..., 7.04279774, 7.04985815,\n",
       "        7.05692568]], shape=(1000, 1000))"
      ]
     },
     "execution_count": 38,
     "metadata": {},
     "output_type": "execute_result"
    }
   ],
   "source": [
    "# now we can evaluate the function \n",
    "# sqrt(x^2 + y^2)\n",
    "z = np.sqrt(xs **2 + ys ** 2)\n",
    "z"
   ]
  },
  {
   "cell_type": "markdown",
   "id": "c66db174-6d91-4853-a3ce-e60547c504b5",
   "metadata": {},
   "source": [
    "Let's visualize this: "
   ]
  },
  {
   "cell_type": "code",
   "execution_count": 39,
   "id": "bc9361c8-b54b-4753-b681-7838bfc0158e",
   "metadata": {},
   "outputs": [
    {
     "name": "stderr",
     "output_type": "stream",
     "text": [
      "<>:5: SyntaxWarning: invalid escape sequence '\\s'\n",
      "<>:5: SyntaxWarning: invalid escape sequence '\\s'\n",
      "/tmp/ipykernel_4553/3427615404.py:5: SyntaxWarning: invalid escape sequence '\\s'\n",
      "  plt.title(\"Image plot of $\\sqrt{x^2 + y^2}$ for a grid of values\")\n"
     ]
    },
    {
     "data": {
      "text/plain": [
       "Text(0.5, 1.0, 'Image plot of $\\\\sqrt{x^2 + y^2}$ for a grid of values')"
      ]
     },
     "execution_count": 39,
     "metadata": {},
     "output_type": "execute_result"
    },
    {
     "data": {
      "image/png": "[encoded data removed]",
      "text/plain": [
       "<Figure size 640x480 with 2 Axes>"
      ]
     },
     "metadata": {},
     "output_type": "display_data"
    }
   ],
   "source": [
    "import matplotlib.pyplot as plt \n",
    "plt.imshow(z, \n",
    "           cmap=plt.cm.gray);\n",
    "plt.colorbar()\n",
    "plt.title(\"Image plot of $\\sqrt{x^2 + y^2}$ for a grid of values\")\n"
   ]
  },
  {
   "cell_type": "markdown",
   "id": "6ab8b1e8-1caf-4121-9f79-b13023ec3f24",
   "metadata": {},
   "source": [
    "## Expressing Conditional Logic as Array Operations "
   ]
  },
  {
   "cell_type": "markdown",
   "id": "ebf41e40-4f18-4d80-9a2e-110262f49dff",
   "metadata": {},
   "source": [
    "The `numpy.where` function is a vectorized version of the ternary experssion `x if condition else y`"
   ]
  },
  {
   "cell_type": "code",
   "execution_count": 40,
   "id": "06f3164d-6333-4d85-afee-16bc9925d071",
   "metadata": {},
   "outputs": [],
   "source": [
    "# lets make a bool array (condition) and two arrays to work with \n",
    "cond = np.array([True, False, True, True, False])\n",
    "xarr = np.array([1.1, 1.2, 1.3, 1.4, 1.5])\n",
    "yarr = np.array([2.1, 2.2, 2.3, 2.4, 2.5])"
   ]
  },
  {
   "cell_type": "markdown",
   "id": "3f6c2d3f-d48f-4e82-8f61-30bf00414ce2",
   "metadata": {},
   "source": [
    "We want to take a value from `xarr` whenever the corresponding vbalue in the condition is True, otherwise we want to take the value from `yarr`"
   ]
  },
  {
   "cell_type": "markdown",
   "id": "58047dde-9210-4251-93eb-62b211f2ea9f",
   "metadata": {},
   "source": [
    "This can be done using a list comprehension like so: \n",
    "- `[(x if condition else y) for x, y, condition in zip(xarr, yarr, cond)`"
   ]
  },
  {
   "cell_type": "code",
   "execution_count": 41,
   "id": "a1dbb437-c9b7-4ba5-a77b-3f127a39f161",
   "metadata": {},
   "outputs": [
    {
     "data": {
      "text/plain": [
       "[np.float64(1.1),\n",
       " np.float64(2.2),\n",
       " np.float64(1.3),\n",
       " np.float64(1.4),\n",
       " np.float64(2.5)]"
      ]
     },
     "execution_count": 41,
     "metadata": {},
     "output_type": "execute_result"
    }
   ],
   "source": [
    "[(x if condition else y) for x, y, condition in zip(xarr, yarr, cond)]"
   ]
  },
  {
   "cell_type": "markdown",
   "id": "9efa89b3-7989-48ec-90ee-2863f934f6dd",
   "metadata": {},
   "source": [
    "Issues with this approach: \n",
    "    - not very fast with large arrays because all the work is being done in interpreted python code. \n",
    "    - will not work with multidimensional arrays. \n"
   ]
  },
  {
   "cell_type": "code",
   "execution_count": 42,
   "id": "e030dab5-f28e-45e3-adde-27173ef72d3e",
   "metadata": {},
   "outputs": [
    {
     "data": {
      "text/plain": [
       "array([1.1, 2.2, 1.3, 1.4, 2.5])"
      ]
     },
     "execution_count": 42,
     "metadata": {},
     "output_type": "execute_result"
    }
   ],
   "source": [
    "# write it with np.where\n",
    "\n",
    "np.where(cond, xarr, yarr)"
   ]
  },
  {
   "cell_type": "markdown",
   "id": "834b671b-eb06-474c-851c-d1ea0c8099fa",
   "metadata": {},
   "source": [
    "Note: The second and third condition in `np.where` dont need to be arrays; one or both of thm can be scalars. \n",
    "- A typical use of `where` in data analysis is to produce a new array of values based on another array."
   ]
  },
  {
   "cell_type": "markdown",
   "id": "332e4ee8-e5d3-46e4-af07-00b335b85245",
   "metadata": {},
   "source": [
    "Use this syntax: \n",
    "- `np.where( condition, if_condition_is_true, if_condition_is_untrue)`"
   ]
  },
  {
   "cell_type": "markdown",
   "id": "d1cf2b6c-8317-4337-94fe-c6c76c20ad06",
   "metadata": {},
   "source": [
    "## Mathematical and Statistical Methods"
   ]
  },
  {
   "cell_type": "markdown",
   "id": "5cf239ae-b621-450f-ba26-52ccfbe2f92b",
   "metadata": {},
   "source": [
    "- Aggregations (*reductions*) like `sum`, `mean`, `std`. "
   ]
  },
  {
   "cell_type": "markdown",
   "id": "999bb645-e318-45f7-99cd-73e99e79022c",
   "metadata": {},
   "source": [
    "You can either use the array instance method or the top-level NumPy function to call these. \n",
    "- `arr.mean()`\n",
    "- `np.mean(arr)`\n",
    "- `arr.sum()`\n",
    "\n",
    "These functions take an optional axis argument. This will result in an array with one fewer dimension. "
   ]
  },
  {
   "cell_type": "markdown",
   "id": "b24e57a0-d09f-44af-b9f3-f7bdd046115c",
   "metadata": {},
   "source": [
    "- `cumsum()`  and `cumprod()` produce the cumulative product or sum *up to that point* in the specified axis. "
   ]
  },
  {
   "cell_type": "markdown",
   "id": "a5a286bb-2df6-4418-acaf-3757fc00dd00",
   "metadata": {},
   "source": [
    "## Methods for Bool Arrays "
   ]
  },
  {
   "cell_type": "markdown",
   "id": "91156c57-3313-41fb-9a18-b0fa9d0f2487",
   "metadata": {},
   "source": [
    "Boolean values are coerced to 1 (True and  (False in the preceding methods. Thus, `sum` is often used as a means of counting True values in a bool array. "
   ]
  },
  {
   "cell_type": "code",
   "execution_count": 43,
   "id": "dac3762e-b716-47ae-bae3-da57b5d13663",
   "metadata": {},
   "outputs": [
    {
     "data": {
      "text/plain": [
       "array([-0.0233579 ,  1.11400359,  1.5422017 , -0.89591376, -0.55353649,\n",
       "        0.12478887, -0.58692216, -0.17182775,  1.0767491 ,  0.21945866,\n",
       "       -0.77350138, -0.02761757,  0.64774863,  0.2036197 ,  0.41258831,\n",
       "       -1.04367465, -1.83252762,  0.70580709, -0.27055502,  0.12254236,\n",
       "        1.38766729, -2.34007814, -0.66985449,  0.42885537, -0.08052572,\n",
       "        1.12860904, -0.95642616,  0.35546918,  0.30463934, -1.11254528,\n",
       "        1.220193  ,  0.59054346, -0.63863074, -2.16506741, -1.24264634,\n",
       "        0.25786656,  0.25650769, -0.06509242,  0.59288771,  0.300861  ,\n",
       "        0.95621198, -1.12243896,  0.18344074, -0.15080476, -1.93576685,\n",
       "       -0.44805187,  0.52494965,  0.10925599, -0.44878698,  0.97639128,\n",
       "       -1.04331003,  1.04360012,  0.190664  ,  0.50737122, -0.94681685,\n",
       "       -0.25202059, -0.58777983,  0.14853824,  0.31018532,  0.50767214,\n",
       "       -2.15493339,  1.0425513 ,  1.02991538,  0.48339422, -0.5242588 ,\n",
       "       -0.23250147,  1.29895799, -0.90016842,  1.42637472, -1.72386127,\n",
       "        2.25356626, -0.32753977, -1.31118477, -1.16489076,  1.56634189,\n",
       "        0.80305723, -0.64660606, -0.94848028,  2.44864119,  0.55274625,\n",
       "       -0.82850609, -0.92755772, -1.35454086,  1.33799735,  1.00757792,\n",
       "       -0.96279748,  0.62452093,  1.70195146, -0.77815683,  1.28230778,\n",
       "        1.11782631,  0.72701635,  0.51226591, -0.72416998,  1.27576841,\n",
       "       -0.54101057, -0.77657153, -1.90575981,  0.09068656, -0.06411992])"
      ]
     },
     "execution_count": 43,
     "metadata": {},
     "output_type": "execute_result"
    }
   ],
   "source": [
    "arr = np.random.randn(100)\n",
    "arr"
   ]
  },
  {
   "cell_type": "code",
   "execution_count": 46,
   "id": "ef2e5769-f888-41fd-b1f3-98b5c3d10815",
   "metadata": {},
   "outputs": [
    {
     "data": {
      "text/plain": [
       "np.int64(52)"
      ]
     },
     "execution_count": 46,
     "metadata": {},
     "output_type": "execute_result"
    }
   ],
   "source": [
    "# Number of positive values: sum the bool array that is made on the condition >0 \n",
    "(arr > 0).sum()"
   ]
  },
  {
   "cell_type": "markdown",
   "id": "e4751be7-1ac2-464e-ac42-3fec337a67bf",
   "metadata": {},
   "source": [
    "`any` and `all` are two more methods useful especially for boolean arrays. \n",
    "- `any` tests whether one or more values in an array is True\n",
    "- `all` tests whether every value is True\n",
    "These methods also work with non-boolean arrays, where non-zero elements evaluate to `True`"
   ]
  },
  {
   "cell_type": "markdown",
   "id": "dc4183e4-4ee3-4e1b-bc5a-05e2c75f2c5f",
   "metadata": {},
   "source": [
    "## Sorting"
   ]
  },
  {
   "cell_type": "markdown",
   "id": "7b62fb92-306f-47fc-a5f8-804ecbceb993",
   "metadata": {},
   "source": [
    "Arrays can be sorted *in place*"
   ]
  },
  {
   "cell_type": "code",
   "execution_count": 47,
   "id": "7abc4e8b-41a0-416c-8117-171118610e3c",
   "metadata": {},
   "outputs": [
    {
     "data": {
      "text/plain": [
       "array([ 0.51911516,  0.35326077,  0.39988518, -0.69564192,  1.56515985,\n",
       "       -0.87223594, -1.12445747,  0.78991085])"
      ]
     },
     "execution_count": 47,
     "metadata": {},
     "output_type": "execute_result"
    }
   ],
   "source": [
    "arr = np.random.randn(8)\n",
    "arr"
   ]
  },
  {
   "cell_type": "code",
   "execution_count": 48,
   "id": "d615dc8f-4a88-4187-8cfa-049ce993fae3",
   "metadata": {},
   "outputs": [],
   "source": [
    "arr.sort()"
   ]
  },
  {
   "cell_type": "code",
   "execution_count": 49,
   "id": "c73bb895-6f1c-41be-91e1-22f1891ba173",
   "metadata": {},
   "outputs": [
    {
     "data": {
      "text/plain": [
       "array([-1.12445747, -0.87223594, -0.69564192,  0.35326077,  0.39988518,\n",
       "        0.51911516,  0.78991085,  1.56515985])"
      ]
     },
     "execution_count": 49,
     "metadata": {},
     "output_type": "execute_result"
    }
   ],
   "source": [
    "arr"
   ]
  },
  {
   "cell_type": "markdown",
   "id": "0a190b0b-faa0-4b75-9b16-0bf14a8ec7c0",
   "metadata": {},
   "source": [
    "You can sort each one-dimensional section within a multi-dimensional array in-place along an axis by passing the **axis** to `sort()`.\n"
   ]
  },
  {
   "cell_type": "code",
   "execution_count": 50,
   "id": "19b968dc-69ea-48be-b60b-3e063f27c00e",
   "metadata": {},
   "outputs": [
    {
     "data": {
      "text/plain": [
       "array([[ 2.10282581,  1.46355577, -0.12055825, -0.2665154 ,  0.33606786],\n",
       "       [ 0.01150171, -0.91135468, -0.62893783,  0.05424285, -0.04481427],\n",
       "       [-1.7341631 , -0.45737448,  0.50452354,  0.35158179,  1.44339406],\n",
       "       [-0.48924922,  0.42684696, -0.57665748,  0.93941398, -0.26271718],\n",
       "       [-0.1953238 ,  1.70563867,  0.12515936,  1.06538173, -0.42813273],\n",
       "       [-1.39967459, -1.56267405,  1.06666092,  0.57933513, -0.48315754],\n",
       "       [ 0.8384595 ,  1.56665437, -0.32333211, -0.12503147, -1.07147357],\n",
       "       [ 0.432153  ,  0.50252156, -0.66587271,  0.23000867, -0.60593426]])"
      ]
     },
     "execution_count": 50,
     "metadata": {},
     "output_type": "execute_result"
    }
   ],
   "source": [
    "arr = np.random.randn(8, 5)\n",
    "arr"
   ]
  },
  {
   "cell_type": "code",
   "execution_count": 51,
   "id": "0cbf4f3b-ad4b-4f13-8a01-d45bdeff0397",
   "metadata": {},
   "outputs": [],
   "source": [
    "arr.sort(0)"
   ]
  },
  {
   "cell_type": "code",
   "execution_count": 52,
   "id": "7a7a8a40-47c5-4995-aa9d-bd9403c95626",
   "metadata": {},
   "outputs": [
    {
     "data": {
      "text/plain": [
       "array([[-1.7341631 , -1.56267405, -0.66587271, -0.2665154 , -1.07147357],\n",
       "       [-1.39967459, -0.91135468, -0.62893783, -0.12503147, -0.60593426],\n",
       "       [-0.48924922, -0.45737448, -0.57665748,  0.05424285, -0.48315754],\n",
       "       [-0.1953238 ,  0.42684696, -0.32333211,  0.23000867, -0.42813273],\n",
       "       [ 0.01150171,  0.50252156, -0.12055825,  0.35158179, -0.26271718],\n",
       "       [ 0.432153  ,  1.46355577,  0.12515936,  0.57933513, -0.04481427],\n",
       "       [ 0.8384595 ,  1.56665437,  0.50452354,  0.93941398,  0.33606786],\n",
       "       [ 2.10282581,  1.70563867,  1.06666092,  1.06538173,  1.44339406]])"
      ]
     },
     "execution_count": 52,
     "metadata": {},
     "output_type": "execute_result"
    }
   ],
   "source": [
    "arr"
   ]
  },
  {
   "cell_type": "markdown",
   "id": "1c4ff7cd-d508-4ede-a64d-4d76cb5d2bea",
   "metadata": {},
   "source": [
    "The top-level method `np.sort()` **returns a sorted copy of the array** instead of modifying the array in-place."
   ]
  },
  {
   "cell_type": "code",
   "execution_count": 54,
   "id": "d96f5577-5fb7-401d-a52d-06fc09b24dc6",
   "metadata": {},
   "outputs": [
    {
     "data": {
      "text/plain": [
       "array([[-1.7341631 , -1.56267405, -1.07147357, -0.66587271, -0.2665154 ],\n",
       "       [-1.39967459, -0.91135468, -0.62893783, -0.60593426, -0.12503147],\n",
       "       [-0.57665748, -0.48924922, -0.48315754, -0.45737448,  0.05424285],\n",
       "       [-0.42813273, -0.32333211, -0.1953238 ,  0.23000867,  0.42684696],\n",
       "       [-0.26271718, -0.12055825,  0.01150171,  0.35158179,  0.50252156],\n",
       "       [-0.04481427,  0.12515936,  0.432153  ,  0.57933513,  1.46355577],\n",
       "       [ 0.33606786,  0.50452354,  0.8384595 ,  0.93941398,  1.56665437],\n",
       "       [ 1.06538173,  1.06666092,  1.44339406,  1.70563867,  2.10282581]])"
      ]
     },
     "execution_count": 54,
     "metadata": {},
     "output_type": "execute_result"
    }
   ],
   "source": [
    "# sort the whole array (top-down) at once \n",
    "np.sort(arr)"
   ]
  },
  {
   "cell_type": "markdown",
   "id": "df4332e2-c9db-4bc2-abb1-723bdb1399cc",
   "metadata": {},
   "source": [
    "## Unique and Other Set Logic"
   ]
  },
  {
   "cell_type": "markdown",
   "id": "2c68f291-9b48-43d8-89a5-ecd064527f63",
   "metadata": {},
   "source": [
    "Basic set operations for 1d `ndarrays`"
   ]
  },
  {
   "cell_type": "code",
   "execution_count": 59,
   "id": "0ff4a308-7be9-4c70-91ce-420cfc220c4b",
   "metadata": {},
   "outputs": [
    {
     "data": {
      "text/plain": [
       "array(['we', 'we', 'Lee'], dtype='<U3')"
      ]
     },
     "execution_count": 59,
     "metadata": {},
     "output_type": "execute_result"
    }
   ],
   "source": [
    "# np.unique returns the sorted unique values in an array. \n",
    "arr = np.array(['we', 'we', 'Lee'])\n",
    "arr"
   ]
  },
  {
   "cell_type": "code",
   "execution_count": 60,
   "id": "5117756b-0de9-4609-b866-bdf484c67b5f",
   "metadata": {},
   "outputs": [
    {
     "data": {
      "text/plain": [
       "array(['Lee', 'we'], dtype='<U3')"
      ]
     },
     "execution_count": 60,
     "metadata": {},
     "output_type": "execute_result"
    }
   ],
   "source": [
    "np.unique(arr)"
   ]
  },
  {
   "cell_type": "markdown",
   "id": "e50cccae-c432-4dd1-a547-bc09a0629d26",
   "metadata": {},
   "source": [
    "Contrast `np.unique` with the pure python alternative. \n",
    "- `sorted(set(arr))`"
   ]
  },
  {
   "cell_type": "markdown",
   "id": "2a9e1b2e-5657-4743-baa5-b3687313b055",
   "metadata": {},
   "source": [
    "Another function, `np.in1d`, tests membership of the values on one array in another, returning a bool array. \n",
    "- Syntax: `np.in1d(array1, array2)` returns a bool array. `array1_value = True` if its in `array2`"
   ]
  },
  {
   "cell_type": "markdown",
   "id": "1d53400e-3111-432f-9189-ad7be3caba93",
   "metadata": {},
   "source": [
    "# 4.4 File Input and Output with Arrays"
   ]
  },
  {
   "cell_type": "markdown",
   "id": "5212510c-c555-4060-9520-297ecc13d1fa",
   "metadata": {},
   "source": [
    "NumPy is able to save and load data to and from disk either in text or binary format. We will only discuss NumPy's built-in binary format, since most users will prefer pandas and other tools for loading text or tabular data. "
   ]
  },
  {
   "cell_type": "markdown",
   "id": "04c54f8f-883f-4ee0-a17f-f7264bc73849",
   "metadata": {},
   "source": [
    "`np.save` and `np.load` are the two workhorse functions for efficiently saving and loading array data on disk. \n",
    "- Arrays are saved by default in an uncompressed raw binary format with file extension `.npy`.\n",
    "- `np.save('some_array', arr)` Note we did not specify `.npy`, we dont have to, it will be appended to `some_array`."
   ]
  },
  {
   "cell_type": "markdown",
   "id": "374eb705-e46e-4ed6-b24e-92ced8877624",
   "metadata": {},
   "source": [
    "..."
   ]
  },
  {
   "cell_type": "markdown",
   "id": "a8730a79-8b03-41b4-9fbc-e7a948168b40",
   "metadata": {},
   "source": [
    "# 4.5 Linear Algebra"
   ]
  },
  {
   "cell_type": "markdown",
   "id": "39f46287-1201-4673-a34a-8f71ee608532",
   "metadata": {},
   "source": [
    "Examples: \n",
    "- mattrix multiplication\n",
    "- decompositions\n",
    "- determinants\n",
    "- square matrix math\n",
    "\n",
    "All are an important part of any array library. "
   ]
  },
  {
   "cell_type": "markdown",
   "id": "c25edd46-92a0-4e26-989d-23d3d41387d0",
   "metadata": {},
   "source": [
    "Multiplying two 2d arrays with `*` is an element-wise product instead of a matrix dot product. Thus there is a function `dot`, both an array method and a function in the numpy namespace, for matrix multiplication: "
   ]
  },
  {
   "cell_type": "code",
   "execution_count": 63,
   "id": "e1384da0-c2ff-46e9-b9f9-fd0a173f8eda",
   "metadata": {},
   "outputs": [],
   "source": [
    "x = np.array([[1., 2., 3.],[4., 5., 6]])\n",
    "y = np.array([[6., 23. ],[-1, 7], [8, 9]])"
   ]
  },
  {
   "cell_type": "code",
   "execution_count": 64,
   "id": "fb0a6fad-d467-46f0-89c4-31a11952f448",
   "metadata": {},
   "outputs": [
    {
     "data": {
      "text/plain": [
       "array([[1., 2., 3.],\n",
       "       [4., 5., 6.]])"
      ]
     },
     "execution_count": 64,
     "metadata": {},
     "output_type": "execute_result"
    }
   ],
   "source": [
    "x"
   ]
  },
  {
   "cell_type": "code",
   "execution_count": 65,
   "id": "4433c981-49f5-400d-809f-f8e73d484429",
   "metadata": {},
   "outputs": [
    {
     "data": {
      "text/plain": [
       "array([[ 6., 23.],\n",
       "       [-1.,  7.],\n",
       "       [ 8.,  9.]])"
      ]
     },
     "execution_count": 65,
     "metadata": {},
     "output_type": "execute_result"
    }
   ],
   "source": [
    "y"
   ]
  },
  {
   "cell_type": "code",
   "execution_count": 67,
   "id": "7899399f-7531-4dd3-beb2-93c214f6716a",
   "metadata": {},
   "outputs": [
    {
     "data": {
      "text/plain": [
       "array([[ 28.,  64.],\n",
       "       [ 67., 181.]])"
      ]
     },
     "execution_count": 67,
     "metadata": {},
     "output_type": "execute_result"
    }
   ],
   "source": [
    "# dot product (mat mul) of x and y \n",
    "x.dot(y)"
   ]
  },
  {
   "cell_type": "markdown",
   "id": "897cd982-2555-4870-a10f-4da8f07e9429",
   "metadata": {},
   "source": [
    "Or just use `np.dot(x, y)`"
   ]
  },
  {
   "cell_type": "markdown",
   "id": "0d304ded-90ec-4f88-8211-20c1548346a5",
   "metadata": {},
   "source": [
    "Thre `@` symbol also works as an **infix operator** that performs matrix multiplication."
   ]
  },
  {
   "cell_type": "code",
   "execution_count": 68,
   "id": "2ba6453c-2e30-48e4-9a59-6b72b31062c1",
   "metadata": {},
   "outputs": [
    {
     "data": {
      "text/plain": [
       "array([ 6., 15.])"
      ]
     },
     "execution_count": 68,
     "metadata": {},
     "output_type": "execute_result"
    }
   ],
   "source": [
    "x @ np.ones(3)"
   ]
  },
  {
   "cell_type": "markdown",
   "id": "f024076c-4fe8-4ce0-a33a-23ac64b74940",
   "metadata": {},
   "source": [
    "`np.linalg` has a standard set of matrix decompositions and things like inverse and determinant. These are implemented under the hood via the same industry standard lin alg libraries use in other languages like MATLAB and R, such as BLAS, LAPACK, or possibly the proprietary Intel MKL. "
   ]
  },
  {
   "cell_type": "code",
   "execution_count": 73,
   "id": "5ad4367a-20fc-472a-95b8-5857874bfe59",
   "metadata": {},
   "outputs": [],
   "source": [
    "from numpy.linalg import inv, qr\n",
    "X = np.random.randn(5, 5)\n",
    "\n",
    "# compute the dot product of X with its transpose, X.T\n",
    "mat = X.T.dot(X)"
   ]
  },
  {
   "cell_type": "code",
   "execution_count": 74,
   "id": "80924af9-2ada-4dac-9e25-98b697381e3c",
   "metadata": {},
   "outputs": [
    {
     "data": {
      "text/plain": [
       "array([[ 2.70908753, -0.46360965, -1.52387515,  1.70367689, -1.52415219],\n",
       "       [-0.46360965,  2.37172581, -1.09196201, -0.99270282,  0.07991333],\n",
       "       [-1.52387515, -1.09196201,  1.88489242, -0.6110139 ,  1.11761243],\n",
       "       [ 1.70367689, -0.99270282, -0.6110139 ,  1.57471947, -1.01523544],\n",
       "       [-1.52415219,  0.07991333,  1.11761243, -1.01523544,  1.15311294]])"
      ]
     },
     "execution_count": 74,
     "metadata": {},
     "output_type": "execute_result"
    }
   ],
   "source": [
    "inv(mat)"
   ]
  },
  {
   "cell_type": "code",
   "execution_count": 75,
   "id": "9c8518dc-b893-49c7-8780-6a33f04d7dee",
   "metadata": {},
   "outputs": [
    {
     "data": {
      "text/plain": [
       "array([[ 1.00000000e+00, -3.79313553e-16,  4.40103477e-16,\n",
       "        -4.90586610e-16,  6.00387185e-16],\n",
       "       [-4.26783332e-16,  1.00000000e+00,  4.15629056e-16,\n",
       "         4.82692627e-16,  1.26749140e-15],\n",
       "       [ 1.29827765e-15,  8.91323334e-16,  1.00000000e+00,\n",
       "         6.86711126e-16,  8.31522661e-16],\n",
       "       [-6.66535169e-16, -6.48563281e-17,  7.29133643e-16,\n",
       "         1.00000000e+00,  4.19301476e-16],\n",
       "       [ 6.47321804e-16, -1.18151249e-15,  5.87826254e-17,\n",
       "         1.50155137e-16,  1.00000000e+00]])"
      ]
     },
     "execution_count": 75,
     "metadata": {},
     "output_type": "execute_result"
    }
   ],
   "source": [
    "mat.dot(inv(mat))"
   ]
  },
  {
   "cell_type": "code",
   "execution_count": 76,
   "id": "b10d4d3b-585e-4db4-b339-efc100fb3b4f",
   "metadata": {},
   "outputs": [],
   "source": [
    "q, r = qr(mat)"
   ]
  },
  {
   "cell_type": "code",
   "execution_count": 77,
   "id": "bf54b4e8-7ecc-4219-a259-1ee558f35a64",
   "metadata": {},
   "outputs": [
    {
     "data": {
      "text/plain": [
       "array([[-4.08811134, -3.15435109, -6.31901724,  1.78269462,  2.46209067],\n",
       "       [ 0.        , -4.30113505, -5.80448202, -3.09128405,  3.48149293],\n",
       "       [ 0.        ,  0.        , -2.68498759,  3.1329577 ,  6.05898139],\n",
       "       [ 0.        ,  0.        ,  0.        , -0.83101441, -0.85751767],\n",
       "       [ 0.        ,  0.        ,  0.        ,  0.        ,  0.41034449]])"
      ]
     },
     "execution_count": 77,
     "metadata": {},
     "output_type": "execute_result"
    }
   ],
   "source": [
    "r"
   ]
  },
  {
   "cell_type": "markdown",
   "id": "eae78b4c-bf10-42f9-9fa0-cf304674f7a5",
   "metadata": {},
   "source": [
    "Most commonly used lin alg functions: \n",
    "- `diag` Return the diagonal (or off-diagonal) elements of a square matrix as a 1D array, or convert a 1D array into a square matrix with zero's on the off diagonal.\n",
    "- `dot` matmul\n",
    "- `trace` Compute the sum of the diagonal elements\n",
    "- `det` compute the matrix determinant\n",
    "- `eig`compute the eigenvalues and eigenvectors of a square matrix\n",
    "- `inv` compute the inverse of a square matrix\n",
    "- `pinv` compute the moore-penrose pseudo-inverse of a matrix\n",
    "- `qr` compute the qr-decomposition\n",
    "- `svd` compute the singular value decomposition(SVD)\n",
    "- `solve` Solve the linear system `Ax=b` for `x`, where `A` is a square matrix\n",
    "- `lstsq` Compute the least-squares solution to `Ax=b`"
   ]
  },
  {
   "cell_type": "markdown",
   "id": "d27fa515-b6ef-4bd0-83a7-39ecdceac4c2",
   "metadata": {},
   "source": [
    "# 4.6 Pseudorandom Number Generation "
   ]
  },
  {
   "cell_type": "markdown",
   "id": "3654750c-cfd5-4359-9825-d9ec6782e89d",
   "metadata": {},
   "source": [
    "`numpy.random` module supplements the built-in python `random` with functions for efficiency generating whole arrays of sample values from many kinds of probability distributions. "
   ]
  },
  {
   "cell_type": "code",
   "execution_count": 79,
   "id": "f240e017-8f65-4a32-ab33-7944dfd0c2c3",
   "metadata": {},
   "outputs": [
    {
     "data": {
      "text/plain": [
       "array([[-0.51703283,  2.91625562,  0.56169545, -0.71817932],\n",
       "       [ 0.0114251 , -0.82139648,  0.05399349, -1.08150959],\n",
       "       [-0.61469956, -0.83275352,  0.78719286, -0.93082927],\n",
       "       [-0.92806201,  0.19817552, -0.87455478,  0.63178279]])"
      ]
     },
     "execution_count": 79,
     "metadata": {},
     "output_type": "execute_result"
    }
   ],
   "source": [
    "# get a 4x4 array of samples from the standard normal distribution using `normal`\n",
    "samples = np.random.normal(size = (4, 4))\n",
    "samples"
   ]
  },
  {
   "cell_type": "markdown",
   "id": "b8eab810-b503-4006-909a-57286a7b623d",
   "metadata": {},
   "source": [
    "Pythons `random` module, by contrast, only samples one value at a time, As you can see from this benchmark `numpy.random` is well over an order of magnitude faster for generating very large samples. "
   ]
  },
  {
   "cell_type": "code",
   "execution_count": 80,
   "id": "f9bab9ba-a3e3-4d19-aaea-cf1f58ee1446",
   "metadata": {},
   "outputs": [
    {
     "name": "stdout",
     "output_type": "stream",
     "text": [
      "405 ms ± 14.5 ms per loop (mean ± std. dev. of 7 runs, 1 loop each)\n"
     ]
    }
   ],
   "source": [
    "from random import normalvariate\n",
    "N = 1000000\n",
    "%timeit samples = [normalvariate(0,1) for _ in range(N)]"
   ]
  },
  {
   "cell_type": "code",
   "execution_count": 90,
   "id": "aa4b2eb0-cde2-472b-9c94-48ac624236c6",
   "metadata": {},
   "outputs": [
    {
     "name": "stdout",
     "output_type": "stream",
     "text": [
      "17.5 ms ± 478 μs per loop (mean ± std. dev. of 7 runs, 100 loops each)\n"
     ]
    }
   ],
   "source": [
    "%timeit samples = [np.random.normal(size=N)]"
   ]
  },
  {
   "cell_type": "markdown",
   "id": "359721b6-d6d2-45ce-b447-723d650250d2",
   "metadata": {},
   "source": [
    "We say that theseare **pseudorandom** numbers because they are generated by an algorithm with deterministic behavior based on the seed of the RNG. You can change the seed of NumPy's RNG using np.random.seed:\n",
    "- `np.random.seed(1234)`"
   ]
  },
  {
   "cell_type": "markdown",
   "id": "46194109-2ea8-4de3-823e-1eb69b2862a1",
   "metadata": {},
   "source": [
    "Note: the data generation funcitons in `numpy.random` use a global random seed. To avoid global state, you can use `numpy.random.RandomState` to create a RNG isolated from others. \n",
    "- `rng = np.random.RandomState(1234)`"
   ]
  },
  {
   "cell_type": "markdown",
   "id": "1acb4d78-537c-423d-b0b8-a050488fa726",
   "metadata": {},
   "source": [
    "Partial list of functions available in `numpy.random`\n",
    "- `seed` Seed the rng\n",
    "- `permutation` Rnadom permutation of a sequence, or return a permuted range\n",
    "- `rand` Draw samples from a uniform distribution\n",
    "- `randint`Draw random integersfrom a given low-to-high range\n",
    "- `randn` Draw samples from a normal dist with mean 0 and sd 1\n",
    "- `binomial` Draw samples from a binomial distribution\n",
    "- `normal` Draw samples from a normal(Gaussian) distribution\n",
    "- `beta` Draw samples from a beta distribution\n",
    "- `chisquared` Draw samples fdrom a chi-square distribution\n",
    "- `gamma` Draw samples from a gamma distribution\n",
    "- `uniform` Draw samples from a uniform distribution. "
   ]
  },
  {
   "cell_type": "markdown",
   "id": "d30e8c3d-061b-44e9-b88b-9dc9230c4713",
   "metadata": {},
   "source": [
    "# 4.7 Example: Random Walks "
   ]
  },
  {
   "cell_type": "markdown",
   "id": "b29e29fc-c8be-4038-8a66-8e9416657583",
   "metadata": {},
   "source": [
    "Utilizing array operations. "
   ]
  },
  {
   "cell_type": "markdown",
   "id": "7bb5aa56-010b-4d01-9eeb-ad21bdd459e0",
   "metadata": {},
   "source": [
    "Consider a simple random walk starting at 0 with steps of 1 and -1 occurring with equal probability. We will start with a pure python way to implement this with 1000 walks. "
   ]
  },
  {
   "cell_type": "code",
   "execution_count": 91,
   "id": "a16cd355-8d4d-4126-9ff2-3a0338ba09ca",
   "metadata": {},
   "outputs": [],
   "source": [
    "import random \n",
    "position = 0\n",
    "walk = [position]\n",
    "steps = 1000\n",
    "for i in range(steps):\n",
    "    step = 1 if random.randint(0,1) else -1\n",
    "    position += step \n",
    "    walk.append(position)"
   ]
  },
  {
   "cell_type": "code",
   "execution_count": 93,
   "id": "49d3ef77-f3bb-45d9-b99e-2969207f11c4",
   "metadata": {},
   "outputs": [
    {
     "data": {
      "text/plain": [
       "[<matplotlib.lines.Line2D at 0x7201a3d79220>]"
      ]
     },
     "execution_count": 93,
     "metadata": {},
     "output_type": "execute_result"
    },
    {
     "data": {
      "image/png": "[encoded data removed]",
      "text/plain": [
       "<Figure size 640x480 with 1 Axes>"
      ]
     },
     "metadata": {},
     "output_type": "display_data"
    }
   ],
   "source": [
    "plt.plot(walk)"
   ]
  },
  {
   "cell_type": "markdown",
   "id": "7022624f-4754-426e-aead-f408844d106a",
   "metadata": {},
   "source": [
    "Now, we could make the observation that walk is simply the cumulative sum of the random steps and could be evaluated as an array expression. Thus, we use the `numpy.random` module to draw `1000` coin flips at once, set these to `1` and `-1`, and compute the cumulative sum:"
   ]
  },
  {
   "cell_type": "code",
   "execution_count": 96,
   "id": "c776b2d8-6a4a-4895-b8e9-7a06856e2823",
   "metadata": {},
   "outputs": [],
   "source": [
    "nsteps = 1000\n",
    "draws = np.random.randint(0,2, size=nsteps)\n",
    "steps = np.where(draws > 0, 1, -1)\n",
    "walk = steps.cumsum()"
   ]
  },
  {
   "cell_type": "code",
   "execution_count": 98,
   "id": "22189da7-7b19-4094-9160-f7b345e3ff58",
   "metadata": {},
   "outputs": [
    {
     "data": {
      "text/plain": [
       "[<matplotlib.lines.Line2D at 0x7201a563db20>]"
      ]
     },
     "execution_count": 98,
     "metadata": {},
     "output_type": "execute_result"
    },
    {
     "data": {
      "image/png": "[encoded data removed]",
      "text/plain": [
       "<Figure size 640x480 with 1 Axes>"
      ]
     },
     "metadata": {},
     "output_type": "display_data"
    }
   ],
   "source": [
    "plt.plot(walk)"
   ]
  },
  {
   "cell_type": "markdown",
   "id": "24fd3891-4a0b-42a6-92f8-28ecf57dbd28",
   "metadata": {},
   "source": [
    "Extract stats: \n"
   ]
  },
  {
   "cell_type": "code",
   "execution_count": 99,
   "id": "79d0d694-36a8-498d-a816-2755ab8aa539",
   "metadata": {},
   "outputs": [
    {
     "data": {
      "text/plain": [
       "np.int64(2606)"
      ]
     },
     "execution_count": 99,
     "metadata": {},
     "output_type": "execute_result"
    }
   ],
   "source": [
    "walk.sum()"
   ]
  },
  {
   "cell_type": "code",
   "execution_count": 101,
   "id": "8d97e322-e147-41e5-ae7f-ca486a1f4af9",
   "metadata": {},
   "outputs": [
    {
     "data": {
      "text/plain": [
       "np.float64(2.606)"
      ]
     },
     "execution_count": 101,
     "metadata": {},
     "output_type": "execute_result"
    }
   ],
   "source": [
    "walk.mean()"
   ]
  },
  {
   "cell_type": "code",
   "execution_count": 102,
   "id": "efca35ed-2589-4170-9dd4-2734f0298f63",
   "metadata": {},
   "outputs": [
    {
     "data": {
      "text/plain": [
       "np.float64(7.1986640427234825)"
      ]
     },
     "execution_count": 102,
     "metadata": {},
     "output_type": "execute_result"
    }
   ],
   "source": [
    "walk.std()"
   ]
  },
  {
   "cell_type": "markdown",
   "id": "19497a36-bfa8-484c-8f72-bcdfeff0483a",
   "metadata": {},
   "source": [
    "Lets look into the first crossing time, the step at which the random walk reaches a particular value. Here we might want to know how long it took the random walk to get at least 10 steps away from the origin `0` in either direction. `np.abs(walk) >= 10` gives us a boolean array indicating where the walk has reached or exceeded 10, but we want the index of the first `10` or `-10`. Turns out, we can compute this using argmax, which returns the first index of the maximum value in the boolean array (True is the max value) \n"
   ]
  },
  {
   "cell_type": "code",
   "execution_count": 103,
   "id": "4b2dadf5-e6e3-4d88-858a-1dc916ba9b4c",
   "metadata": {},
   "outputs": [
    {
     "data": {
      "text/plain": [
       "np.int64(47)"
      ]
     },
     "execution_count": 103,
     "metadata": {},
     "output_type": "execute_result"
    }
   ],
   "source": [
    "(np.abs(walk) >= 10).argmax()"
   ]
  },
  {
   "cell_type": "markdown",
   "id": "925ec3f1-cba6-4e5b-8d55-222618b26efe",
   "metadata": {},
   "source": [
    "Note; Its not always efficient to use argmax here because it always makes a full ascan of the array. In this special case, once a True is observed, we know it to be the max value. "
   ]
  },
  {
   "cell_type": "markdown",
   "id": "4a78e7a7-5eae-42d1-9b43-bc38798bb2c2",
   "metadata": {},
   "source": [
    "## Simulating Many Random Walks at Once "
   ]
  },
  {
   "cell_type": "markdown",
   "id": "d4b08bf6-5962-4e0a-b9a3-cf3c58960451",
   "metadata": {},
   "source": [
    "Make several random walks with minor modificatios to the preceding code. \n",
    "- if passed a 2-tuple, the `numpy.random` functions will generate a 2d array of draws\n",
    "- we can compute the cumsum across the rows to compute, say, 5000 random walks in one shot.\n"
   ]
  },
  {
   "cell_type": "code",
   "execution_count": 104,
   "id": "770ec171-a3c8-48ad-92c1-99e72a4603e7",
   "metadata": {},
   "outputs": [],
   "source": [
    "nwalks = 5000\n",
    "nsteps = 1000\n",
    "draws = np.random.randint(0,2,size=(nwalks, nsteps)) # 0 or 1\n",
    "steps = np.where(draws > 0, 1, -1)\n",
    "\n",
    "walks = steps.cumsum(1)"
   ]
  },
  {
   "cell_type": "code",
   "execution_count": 105,
   "id": "a2c68862-6ad1-48a9-b2cc-330324d3b573",
   "metadata": {},
   "outputs": [
    {
     "data": {
      "text/plain": [
       "array([[ -1,   0,  -1, ...,  52,  53,  52],\n",
       "       [ -1,  -2,  -1, ...,  42,  41,  40],\n",
       "       [  1,   0,   1, ...,  -4,  -5,  -6],\n",
       "       ...,\n",
       "       [  1,   0,  -1, ...,   6,   7,   8],\n",
       "       [  1,   2,   1, ..., -22, -23, -24],\n",
       "       [  1,   2,   1, ..., -16, -15, -16]], shape=(5000, 1000))"
      ]
     },
     "execution_count": 105,
     "metadata": {},
     "output_type": "execute_result"
    }
   ],
   "source": [
    "walks"
   ]
  },
  {
   "cell_type": "markdown",
   "id": "77b5f911-f990-4a03-970b-519581bd130a",
   "metadata": {},
   "source": [
    "Now, we can compute the max and min values obtained over all of the walks. "
   ]
  },
  {
   "cell_type": "code",
   "execution_count": 106,
   "id": "e22e6135-0775-4b99-968b-4783e205ad14",
   "metadata": {},
   "outputs": [
    {
     "data": {
      "text/plain": [
       "np.int64(132)"
      ]
     },
     "execution_count": 106,
     "metadata": {},
     "output_type": "execute_result"
    }
   ],
   "source": [
    "walks.max()"
   ]
  },
  {
   "cell_type": "code",
   "execution_count": 107,
   "id": "859c2e70-88ec-4ba6-99b6-4c9596326142",
   "metadata": {},
   "outputs": [
    {
     "data": {
      "text/plain": [
       "np.int64(-117)"
      ]
     },
     "execution_count": 107,
     "metadata": {},
     "output_type": "execute_result"
    }
   ],
   "source": [
    "walks.min()"
   ]
  },
  {
   "cell_type": "markdown",
   "id": "6260919f-a90f-4e1f-9019-83ad0b68d259",
   "metadata": {},
   "source": [
    "Lets compute the minimum crossing time again. "
   ]
  },
  {
   "cell_type": "code",
   "execution_count": 109,
   "id": "aebd47b7-cb62-4a4a-ae10-49dd8b876e84",
   "metadata": {},
   "outputs": [],
   "source": [
    "hits30 = (np.abs(walks) >=30).any(1)"
   ]
  },
  {
   "cell_type": "code",
   "execution_count": 110,
   "id": "6d2043a1-df0b-4fc5-b7c5-ca8aea407ce3",
   "metadata": {},
   "outputs": [
    {
     "data": {
      "text/plain": [
       "array([ True,  True,  True, ..., False,  True,  True], shape=(5000,))"
      ]
     },
     "execution_count": 110,
     "metadata": {},
     "output_type": "execute_result"
    }
   ],
   "source": [
    "hits30"
   ]
  },
  {
   "cell_type": "code",
   "execution_count": 111,
   "id": "7ad502fe-bcd2-42f9-b43d-6e37f4014bec",
   "metadata": {},
   "outputs": [
    {
     "data": {
      "text/plain": [
       "np.int64(3398)"
      ]
     },
     "execution_count": 111,
     "metadata": {},
     "output_type": "execute_result"
    }
   ],
   "source": [
    "hits30.sum()"
   ]
  },
  {
   "cell_type": "markdown",
   "id": "1b14bbff-5a7f-4cf9-9f23-4d002f11c131",
   "metadata": {},
   "source": [
    "Select out the rows (using the bool array) that actually cross the absolute 30 level and call `argmax` across axis `1` to get the crossing times. "
   ]
  },
  {
   "cell_type": "code",
   "execution_count": 112,
   "id": "6bcc540c-b04b-4f2a-8918-a1382625254d",
   "metadata": {},
   "outputs": [],
   "source": [
    "crossing_time = (np.abs(walks[hits30]) >= 30).argmax(1)"
   ]
  },
  {
   "cell_type": "code",
   "execution_count": 115,
   "id": "e99b58cf-36ea-40fb-a0ff-74c87ebe086d",
   "metadata": {},
   "outputs": [
    {
     "data": {
      "text/plain": [
       "array([275, 541, 361, ..., 345, 819, 485], shape=(3398,))"
      ]
     },
     "execution_count": 115,
     "metadata": {},
     "output_type": "execute_result"
    }
   ],
   "source": [
    "crossing_time"
   ]
  },
  {
   "cell_type": "markdown",
   "id": "53b10b8b-9860-42ce-a2a4-e63c1eccef9e",
   "metadata": {},
   "source": [
    "Lastly we comput the average minimum crossing time. "
   ]
  },
  {
   "cell_type": "code",
   "execution_count": 116,
   "id": "3536b5e7-2437-4480-b311-34f87a7720d2",
   "metadata": {},
   "outputs": [
    {
     "data": {
      "text/plain": [
       "np.float64(503.77869334902886)"
      ]
     },
     "execution_count": 116,
     "metadata": {},
     "output_type": "execute_result"
    }
   ],
   "source": [
    "crossing_time.mean()"
   ]
  }
 ],
 "metadata": {
  "kernelspec": {
   "display_name": "Python 3 (ipykernel)",
   "language": "python",
   "name": "python3"
  },
  "language_info": {
   "codemirror_mode": {
    "name": "ipython",
    "version": 3
   },
   "file_extension": ".py",
   "mimetype": "text/x-python",
   "name": "python",
   "nbconvert_exporter": "python",
   "pygments_lexer": "ipython3",
   "version": "3.12.3"
  }
 },
 "nbformat": 4,
 "nbformat_minor": 5
}
