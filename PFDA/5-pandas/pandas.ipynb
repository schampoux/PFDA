{
 "cells": [
  {
   "cell_type": "markdown",
   "id": "c0e28c6b-08fd-46bc-a26c-910c45574441",
   "metadata": {},
   "source": [
    "## Getting Started with Pandas"
   ]
  },
  {
   "cell_type": "markdown",
   "id": "6c4bf6c1-2420-42a3-93f8-8a61cb8102fe",
   "metadata": {},
   "source": [
    "`pandas` adopts significant parts of NumPy's idiomatic stype of array-based computing, especially array-based functions and a preference for data processing without for loops. "
   ]
  },
  {
   "cell_type": "markdown",
   "id": "f83ef094-086d-494d-a988-ba8d2b6c55be",
   "metadata": {},
   "source": [
    "The biggest difference is `pandas` is designed for working with tabular or heterogeneous data, whereas NumPy, by contrast is best suited for working with homogeneous numerical array data.  "
   ]
  },
  {
   "cell_type": "code",
   "execution_count": 1,
   "id": "f4a1a673-a838-4188-95e1-d3c13f95bdd4",
   "metadata": {},
   "outputs": [],
   "source": [
    "import pandas as pd\n",
    "from pandas import Series, DataFrame"
   ]
  },
  {
   "cell_type": "markdown",
   "id": "8f3bcbf5-a039-4e43-a634-df50a06544b6",
   "metadata": {},
   "source": [
    "# 5.1 Introduction to pandas Data Structures "
   ]
  },
  {
   "cell_type": "markdown",
   "id": "1f350246-3007-4ad3-ac5b-0bd9d2c86dac",
   "metadata": {},
   "source": [
    "## Series"
   ]
  },
  {
   "cell_type": "markdown",
   "id": "5ac4b0a6-b25b-4364-a6f6-c88be58b6c5a",
   "metadata": {},
   "source": [
    " 1d array-like object containing a sequence of values, and an associated array of data labels, called its index. "
   ]
  },
  {
   "cell_type": "code",
   "execution_count": 2,
   "id": "e5abbca0-dbcb-4eb6-85f7-b849d6e2fce4",
   "metadata": {},
   "outputs": [
    {
     "data": {
      "text/plain": [
       "0    1\n",
       "1    2\n",
       "2    3\n",
       "3    4\n",
       "dtype: int64"
      ]
     },
     "execution_count": 2,
     "metadata": {},
     "output_type": "execute_result"
    }
   ],
   "source": [
    "# The simplest series is formed from only an array of data \n",
    "obj = pd.Series([1, 2, 3, 4])\n",
    "obj"
   ]
  },
  {
   "cell_type": "code",
   "execution_count": 3,
   "id": "60b1b944-2989-44fb-ab26-3ea3022b1532",
   "metadata": {},
   "outputs": [
    {
     "data": {
      "text/plain": [
       "RangeIndex(start=0, stop=4, step=1)"
      ]
     },
     "execution_count": 3,
     "metadata": {},
     "output_type": "execute_result"
    }
   ],
   "source": [
    "obj.index"
   ]
  },
  {
   "cell_type": "code",
   "execution_count": 4,
   "id": "3cfdd5a1-8723-4d4f-80a6-2ff6ce1415d8",
   "metadata": {},
   "outputs": [
    {
     "data": {
      "text/plain": [
       "array([1, 2, 3, 4])"
      ]
     },
     "execution_count": 4,
     "metadata": {},
     "output_type": "execute_result"
    }
   ],
   "source": [
    "obj.values"
   ]
  },
  {
   "cell_type": "markdown",
   "id": "497ca584-8735-4aff-9f9c-a3629c529848",
   "metadata": {},
   "source": [
    " Since we didnt assign an index, one was assigned automatically. Its often desirable to create a Series with an index identifying each data point with a **label**:"
   ]
  },
  {
   "cell_type": "code",
   "execution_count": 5,
   "id": "1d6e6e91-8eb1-46b2-9efa-531fa85e54b1",
   "metadata": {},
   "outputs": [
    {
     "data": {
      "text/plain": [
       "a    4\n",
       "b    7\n",
       "c   -5\n",
       "d    3\n",
       "dtype: int64"
      ]
     },
     "execution_count": 5,
     "metadata": {},
     "output_type": "execute_result"
    }
   ],
   "source": [
    "obj2 = pd.Series([4,7,-5,3], index=['a', 'b', 'c', 'd'])\n",
    "obj2"
   ]
  },
  {
   "cell_type": "code",
   "execution_count": 6,
   "id": "50ee0fb8-6e04-4ac7-89e8-8eeb84a2f837",
   "metadata": {},
   "outputs": [
    {
     "data": {
      "text/plain": [
       "Index(['a', 'b', 'c', 'd'], dtype='object')"
      ]
     },
     "execution_count": 6,
     "metadata": {},
     "output_type": "execute_result"
    }
   ],
   "source": [
    "obj2.index"
   ]
  },
  {
   "cell_type": "markdown",
   "id": "8d42bf83-50bd-4d75-8bb0-5e941c5cf0e5",
   "metadata": {},
   "source": [
    "Note: you can use labels to index the series"
   ]
  },
  {
   "cell_type": "code",
   "execution_count": 7,
   "id": "05e9a2a5-2ac6-4001-9fe7-002fb4ab22e4",
   "metadata": {},
   "outputs": [
    {
     "data": {
      "text/plain": [
       "np.int64(7)"
      ]
     },
     "execution_count": 7,
     "metadata": {},
     "output_type": "execute_result"
    }
   ],
   "source": [
    "obj2['b']"
   ]
  },
  {
   "cell_type": "markdown",
   "id": "17da7d4f-90ef-4169-8c7b-81d65e06f889",
   "metadata": {},
   "source": [
    "Using NumPy functions or NumPy-like operations, such as filtering with a `boolean` array, scalar multiplication, or applying math functions, will preserve the index-value link. "
   ]
  },
  {
   "cell_type": "code",
   "execution_count": 9,
   "id": "4d89dcac-f67c-43d3-8133-bc4222e883bf",
   "metadata": {},
   "outputs": [
    {
     "data": {
      "text/plain": [
       "a    4\n",
       "b    7\n",
       "d    3\n",
       "dtype: int64"
      ]
     },
     "execution_count": 9,
     "metadata": {},
     "output_type": "execute_result"
    }
   ],
   "source": [
    "obj2[obj2 > 0]"
   ]
  },
  {
   "cell_type": "code",
   "execution_count": 10,
   "id": "0df979e8-7b72-4cf4-91c5-a50b57441f03",
   "metadata": {},
   "outputs": [
    {
     "data": {
      "text/plain": [
       "0    2\n",
       "1    4\n",
       "2    6\n",
       "3    8\n",
       "dtype: int64"
      ]
     },
     "execution_count": 10,
     "metadata": {},
     "output_type": "execute_result"
    }
   ],
   "source": [
    "obj*2"
   ]
  },
  {
   "cell_type": "code",
   "execution_count": 11,
   "id": "998d3c83-b094-48d8-bd0c-bd7f237bc0f1",
   "metadata": {},
   "outputs": [
    {
     "data": {
      "text/plain": [
       "a     8\n",
       "b    14\n",
       "c   -10\n",
       "d     6\n",
       "dtype: int64"
      ]
     },
     "execution_count": 11,
     "metadata": {},
     "output_type": "execute_result"
    }
   ],
   "source": [
    "obj2*2"
   ]
  },
  {
   "cell_type": "code",
   "execution_count": 13,
   "id": "df12700c-e800-4f2c-8d9d-c51576870a02",
   "metadata": {},
   "outputs": [
    {
     "data": {
      "text/plain": [
       "a      54.598150\n",
       "b    1096.633158\n",
       "c       0.006738\n",
       "d      20.085537\n",
       "dtype: float64"
      ]
     },
     "execution_count": 13,
     "metadata": {},
     "output_type": "execute_result"
    }
   ],
   "source": [
    "import numpy as np\n",
    "np.exp(obj2)"
   ]
  },
  {
   "cell_type": "markdown",
   "id": "75c98403-d3c4-45d1-8d2f-3d6d12dd0cfa",
   "metadata": {},
   "source": [
    "**Another way to think about a Series is as a fixed-length, ordered dict, as it is a mapping of index values to data values.** "
   ]
  },
  {
   "cell_type": "code",
   "execution_count": 14,
   "id": "92acd478-d10e-4cce-9c1c-77800ac8cd99",
   "metadata": {},
   "outputs": [
    {
     "data": {
      "text/plain": [
       "True"
      ]
     },
     "execution_count": 14,
     "metadata": {},
     "output_type": "execute_result"
    }
   ],
   "source": [
    "# use it as if it were a dictionary \n",
    "'b' in obj2"
   ]
  },
  {
   "cell_type": "code",
   "execution_count": 15,
   "id": "9b2812b3-52f4-444b-a6c2-5193a4a1f201",
   "metadata": {},
   "outputs": [
    {
     "data": {
      "text/plain": [
       "False"
      ]
     },
     "execution_count": 15,
     "metadata": {},
     "output_type": "execute_result"
    }
   ],
   "source": [
    "'e' in obj2"
   ]
  },
  {
   "cell_type": "markdown",
   "id": "6e34da5e-101a-4ea9-b6db-b4fd602bb590",
   "metadata": {},
   "source": [
    "As you might have guessed, you can pass a python dict in Series creation \n"
   ]
  },
  {
   "cell_type": "code",
   "execution_count": 16,
   "id": "f24e4b99-e222-4e26-8d32-0ceb7ed40591",
   "metadata": {},
   "outputs": [
    {
     "data": {
      "text/plain": [
       "Ohio      35000\n",
       "Texas     71000\n",
       "Oregon    16000\n",
       "Utah       5000\n",
       "dtype: int64"
      ]
     },
     "execution_count": 16,
     "metadata": {},
     "output_type": "execute_result"
    }
   ],
   "source": [
    "sdata = {'Ohio': 35000, 'Texas': 71000, 'Oregon': 16000, 'Utah':5000}\n",
    "obj3=pd.Series(sdata)\n",
    "obj3"
   ]
  },
  {
   "cell_type": "markdown",
   "id": "60b058db-a5e1-4f4d-9e65-90681903beda",
   "metadata": {},
   "source": [
    "Notice that the indeces are the dict keys from the source, in the order they were passed. This can be overridden by passing the dict keys in the order we want them to appear in the resulting Series.  "
   ]
  },
  {
   "cell_type": "code",
   "execution_count": 17,
   "id": "5561bf9a-197f-4236-9bd6-e717b964a3f1",
   "metadata": {},
   "outputs": [],
   "source": [
    "states = ['California', 'Ohio', 'Oregon', 'Texas']"
   ]
  },
  {
   "cell_type": "code",
   "execution_count": 18,
   "id": "cc72e934-3ecd-4e9e-84c7-96bf18df6aa8",
   "metadata": {},
   "outputs": [
    {
     "data": {
      "text/plain": [
       "California        NaN\n",
       "Ohio          35000.0\n",
       "Oregon        16000.0\n",
       "Texas         71000.0\n",
       "dtype: float64"
      ]
     },
     "execution_count": 18,
     "metadata": {},
     "output_type": "execute_result"
    }
   ],
   "source": [
    "obj4 = pd.Series(sdata, index=states)\n",
    "obj4"
   ]
  },
  {
   "cell_type": "markdown",
   "id": "893fd23c-b73c-48c8-af3a-4199ce573c63",
   "metadata": {},
   "source": [
    "`NaN` (not a number) is considered in pandas to mark missing or `NA` values. If we want to detect **missing** or **NA** values in our data, we can use the `isnull` and `notnull` functions in pandas. "
   ]
  },
  {
   "cell_type": "code",
   "execution_count": 19,
   "id": "b63db282-8cb3-45c9-9561-26d8156739a6",
   "metadata": {},
   "outputs": [
    {
     "data": {
      "text/plain": [
       "California     True\n",
       "Ohio          False\n",
       "Oregon        False\n",
       "Texas         False\n",
       "dtype: bool"
      ]
     },
     "execution_count": 19,
     "metadata": {},
     "output_type": "execute_result"
    }
   ],
   "source": [
    "pd.isnull(obj4)"
   ]
  },
  {
   "cell_type": "code",
   "execution_count": 20,
   "id": "3bfa1819-c96f-462f-83a1-0adb32d2d0e2",
   "metadata": {},
   "outputs": [
    {
     "data": {
      "text/plain": [
       "California    False\n",
       "Ohio           True\n",
       "Oregon         True\n",
       "Texas          True\n",
       "dtype: bool"
      ]
     },
     "execution_count": 20,
     "metadata": {},
     "output_type": "execute_result"
    }
   ],
   "source": [
    "pd.notnull(obj4) "
   ]
  },
  {
   "cell_type": "markdown",
   "id": "48efdb9b-64ad-4e05-b1fe-15fcfb89bdce",
   "metadata": {},
   "source": [
    " These are pandas functions as well as Series instance methods. "
   ]
  },
  {
   "cell_type": "code",
   "execution_count": 21,
   "id": "80eef47c-58e3-4e44-bead-fe587b72e046",
   "metadata": {},
   "outputs": [
    {
     "data": {
      "text/plain": [
       "California     True\n",
       "Ohio          False\n",
       "Oregon        False\n",
       "Texas         False\n",
       "dtype: bool"
      ]
     },
     "execution_count": 21,
     "metadata": {},
     "output_type": "execute_result"
    }
   ],
   "source": [
    "obj4.isnull()"
   ]
  },
  {
   "cell_type": "markdown",
   "id": "524ee52a-a227-4ef6-8c7a-9cbc2f75820c",
   "metadata": {},
   "source": [
    "A useful feature for Series' is that it automatically aligns by index label in arithmetic operations. "
   ]
  },
  {
   "cell_type": "code",
   "execution_count": 22,
   "id": "d474a24a-a69f-4c7a-9943-937900dbae73",
   "metadata": {},
   "outputs": [
    {
     "data": {
      "text/plain": [
       "Ohio      35000\n",
       "Texas     71000\n",
       "Oregon    16000\n",
       "Utah       5000\n",
       "dtype: int64"
      ]
     },
     "execution_count": 22,
     "metadata": {},
     "output_type": "execute_result"
    }
   ],
   "source": [
    "obj3"
   ]
  },
  {
   "cell_type": "code",
   "execution_count": 23,
   "id": "fd3e13f8-be9d-4d41-8382-3919dc3ce16a",
   "metadata": {},
   "outputs": [
    {
     "data": {
      "text/plain": [
       "California        NaN\n",
       "Ohio          35000.0\n",
       "Oregon        16000.0\n",
       "Texas         71000.0\n",
       "dtype: float64"
      ]
     },
     "execution_count": 23,
     "metadata": {},
     "output_type": "execute_result"
    }
   ],
   "source": [
    "obj4"
   ]
  },
  {
   "cell_type": "code",
   "execution_count": 24,
   "id": "244da516-4698-447d-a840-c47461165996",
   "metadata": {},
   "outputs": [
    {
     "data": {
      "text/plain": [
       "California         NaN\n",
       "Ohio           70000.0\n",
       "Oregon         32000.0\n",
       "Texas         142000.0\n",
       "Utah               NaN\n",
       "dtype: float64"
      ]
     },
     "execution_count": 24,
     "metadata": {},
     "output_type": "execute_result"
    }
   ],
   "source": [
    "obj3 + obj4"
   ]
  },
  {
   "cell_type": "markdown",
   "id": "7932e313-4b3b-4c5a-a8f9-1ee55765b0f7",
   "metadata": {},
   "source": [
    "This is similar to a `join` operation. "
   ]
  },
  {
   "cell_type": "markdown",
   "id": "0a5c6081-6736-4673-8b78-6933a1a9aa52",
   "metadata": {},
   "source": [
    "Both the Series object **and** its index have a `name` attribute, which integrates with other key areas of pandas functionality."
   ]
  },
  {
   "cell_type": "code",
   "execution_count": 26,
   "id": "491c3e2c-6307-47ae-a403-8feab347b7bb",
   "metadata": {},
   "outputs": [],
   "source": [
    "obj4.name = 'population'"
   ]
  },
  {
   "cell_type": "code",
   "execution_count": 27,
   "id": "3d3b9913-ea78-4c0a-a12a-e10e7bfb6364",
   "metadata": {},
   "outputs": [],
   "source": [
    "obj4.index.name = 'state'"
   ]
  },
  {
   "cell_type": "code",
   "execution_count": 28,
   "id": "2c5d9edc-68f3-4612-bb17-2793e315e7be",
   "metadata": {},
   "outputs": [
    {
     "data": {
      "text/plain": [
       "state\n",
       "California        NaN\n",
       "Ohio          35000.0\n",
       "Oregon        16000.0\n",
       "Texas         71000.0\n",
       "Name: population, dtype: float64"
      ]
     },
     "execution_count": 28,
     "metadata": {},
     "output_type": "execute_result"
    }
   ],
   "source": [
    "obj4"
   ]
  },
  {
   "cell_type": "code",
   "execution_count": 29,
   "id": "704e4765-fd34-4a37-a239-652a5ff1d9a3",
   "metadata": {},
   "outputs": [
    {
     "data": {
      "text/plain": [
       "Index(['California', 'Ohio', 'Oregon', 'Texas'], dtype='object', name='state')"
      ]
     },
     "execution_count": 29,
     "metadata": {},
     "output_type": "execute_result"
    }
   ],
   "source": [
    "obj4.index"
   ]
  },
  {
   "cell_type": "markdown",
   "id": "bb942925-14f4-4578-82ab-86de7b3a82ea",
   "metadata": {},
   "source": [
    " A Series' index can be altered in-place by assignment:"
   ]
  },
  {
   "cell_type": "code",
   "execution_count": 30,
   "id": "4c3a1e67-f6b2-4aef-ae9a-8514a6a2f2e1",
   "metadata": {},
   "outputs": [
    {
     "data": {
      "text/plain": [
       "0    1\n",
       "1    2\n",
       "2    3\n",
       "3    4\n",
       "dtype: int64"
      ]
     },
     "execution_count": 30,
     "metadata": {},
     "output_type": "execute_result"
    }
   ],
   "source": [
    "obj"
   ]
  },
  {
   "cell_type": "code",
   "execution_count": 31,
   "id": "07595f5a-2071-48c6-b743-4a31487191ad",
   "metadata": {},
   "outputs": [
    {
     "data": {
      "text/plain": [
       "Bob      1\n",
       "Steve    2\n",
       "Jeff     3\n",
       "Ryan     4\n",
       "dtype: int64"
      ]
     },
     "execution_count": 31,
     "metadata": {},
     "output_type": "execute_result"
    }
   ],
   "source": [
    "obj.index = ['Bob', 'Steve', 'Jeff', 'Ryan']\n",
    "obj"
   ]
  },
  {
   "cell_type": "markdown",
   "id": "a65ae95b-fbc9-45cf-9b3f-a459ff77e80e",
   "metadata": {},
   "source": [
    "## Data Frame "
   ]
  },
  {
   "cell_type": "markdown",
   "id": "bf8c4735-8d83-4a44-8fd4-090f036240e2",
   "metadata": {},
   "source": [
    "Represents a rectangular table of data and contains an ordered collection of columns, each of whichcan be a different value type (numeric, string, bool, etc.). The DF has both a row and column index; it can be thought of as a dict of Series alll sharing the same index. \n",
    "- There are many ways to construct one, one of the most common is from a dict of **equal length lists or numpy arrays**"
   ]
  },
  {
   "cell_type": "code",
   "execution_count": 33,
   "id": "2b00d581-7df1-4da5-b2db-401a4548d375",
   "metadata": {},
   "outputs": [],
   "source": [
    "data = {'state': ['Ohio', 'Ohio', 'Ohio', 'Nevada', 'Nevada', 'Nevada'],\n",
    "        'year': [2000, 2001, 2002, 2001, 2002, 2003],\n",
    "        'pop': [1.5, 1.7, 3.6, 2.4, 2.9, 3.2]}"
   ]
  },
  {
   "cell_type": "code",
   "execution_count": 35,
   "id": "c8be503f-cf87-4e8f-8e95-3b08814ff63c",
   "metadata": {},
   "outputs": [],
   "source": [
    "frame = pd.DataFrame(data) "
   ]
  },
  {
   "cell_type": "code",
   "execution_count": 36,
   "id": "02a59d24-9c85-406e-a89e-3b5e4f55e0b6",
   "metadata": {},
   "outputs": [
    {
     "data": {
      "text/html": [
       "<div>\n",
       "<style scoped>\n",
       "    .dataframe tbody tr th:only-of-type {\n",
       "        vertical-align: middle;\n",
       "    }\n",
       "\n",
       "    .dataframe tbody tr th {\n",
       "        vertical-align: top;\n",
       "    }\n",
       "\n",
       "    .dataframe thead th {\n",
       "        text-align: right;\n",
       "    }\n",
       "</style>\n",
       "<table border=\"1\" class=\"dataframe\">\n",
       "  <thead>\n",
       "    <tr style=\"text-align: right;\">\n",
       "      <th></th>\n",
       "      <th>state</th>\n",
       "      <th>year</th>\n",
       "      <th>pop</th>\n",
       "    </tr>\n",
       "  </thead>\n",
       "  <tbody>\n",
       "    <tr>\n",
       "      <th>0</th>\n",
       "      <td>Ohio</td>\n",
       "      <td>2000</td>\n",
       "      <td>1.5</td>\n",
       "    </tr>\n",
       "    <tr>\n",
       "      <th>1</th>\n",
       "      <td>Ohio</td>\n",
       "      <td>2001</td>\n",
       "      <td>1.7</td>\n",
       "    </tr>\n",
       "    <tr>\n",
       "      <th>2</th>\n",
       "      <td>Ohio</td>\n",
       "      <td>2002</td>\n",
       "      <td>3.6</td>\n",
       "    </tr>\n",
       "    <tr>\n",
       "      <th>3</th>\n",
       "      <td>Nevada</td>\n",
       "      <td>2001</td>\n",
       "      <td>2.4</td>\n",
       "    </tr>\n",
       "    <tr>\n",
       "      <th>4</th>\n",
       "      <td>Nevada</td>\n",
       "      <td>2002</td>\n",
       "      <td>2.9</td>\n",
       "    </tr>\n",
       "    <tr>\n",
       "      <th>5</th>\n",
       "      <td>Nevada</td>\n",
       "      <td>2003</td>\n",
       "      <td>3.2</td>\n",
       "    </tr>\n",
       "  </tbody>\n",
       "</table>\n",
       "</div>"
      ],
      "text/plain": [
       "    state  year  pop\n",
       "0    Ohio  2000  1.5\n",
       "1    Ohio  2001  1.7\n",
       "2    Ohio  2002  3.6\n",
       "3  Nevada  2001  2.4\n",
       "4  Nevada  2002  2.9\n",
       "5  Nevada  2003  3.2"
      ]
     },
     "execution_count": 36,
     "metadata": {},
     "output_type": "execute_result"
    }
   ],
   "source": [
    "frame"
   ]
  },
  {
   "cell_type": "markdown",
   "id": "3755b28f-c7dd-4a50-886a-d710c28a372c",
   "metadata": {},
   "source": [
    "Just like with `Series` we did not assign an index, so it will be assigned automatically. Also columns are palced in sorted order, just as they were passed to `pd.DataFrame`"
   ]
  },
  {
   "cell_type": "code",
   "execution_count": 37,
   "id": "7260ffbe-3e1a-42d4-822f-e1471d97b38b",
   "metadata": {},
   "outputs": [
    {
     "data": {
      "text/html": [
       "<div>\n",
       "<style scoped>\n",
       "    .dataframe tbody tr th:only-of-type {\n",
       "        vertical-align: middle;\n",
       "    }\n",
       "\n",
       "    .dataframe tbody tr th {\n",
       "        vertical-align: top;\n",
       "    }\n",
       "\n",
       "    .dataframe thead th {\n",
       "        text-align: right;\n",
       "    }\n",
       "</style>\n",
       "<table border=\"1\" class=\"dataframe\">\n",
       "  <thead>\n",
       "    <tr style=\"text-align: right;\">\n",
       "      <th></th>\n",
       "      <th>state</th>\n",
       "      <th>year</th>\n",
       "      <th>pop</th>\n",
       "    </tr>\n",
       "  </thead>\n",
       "  <tbody>\n",
       "    <tr>\n",
       "      <th>0</th>\n",
       "      <td>Ohio</td>\n",
       "      <td>2000</td>\n",
       "      <td>1.5</td>\n",
       "    </tr>\n",
       "    <tr>\n",
       "      <th>1</th>\n",
       "      <td>Ohio</td>\n",
       "      <td>2001</td>\n",
       "      <td>1.7</td>\n",
       "    </tr>\n",
       "    <tr>\n",
       "      <th>2</th>\n",
       "      <td>Ohio</td>\n",
       "      <td>2002</td>\n",
       "      <td>3.6</td>\n",
       "    </tr>\n",
       "    <tr>\n",
       "      <th>3</th>\n",
       "      <td>Nevada</td>\n",
       "      <td>2001</td>\n",
       "      <td>2.4</td>\n",
       "    </tr>\n",
       "    <tr>\n",
       "      <th>4</th>\n",
       "      <td>Nevada</td>\n",
       "      <td>2002</td>\n",
       "      <td>2.9</td>\n",
       "    </tr>\n",
       "  </tbody>\n",
       "</table>\n",
       "</div>"
      ],
      "text/plain": [
       "    state  year  pop\n",
       "0    Ohio  2000  1.5\n",
       "1    Ohio  2001  1.7\n",
       "2    Ohio  2002  3.6\n",
       "3  Nevada  2001  2.4\n",
       "4  Nevada  2002  2.9"
      ]
     },
     "execution_count": 37,
     "metadata": {},
     "output_type": "execute_result"
    }
   ],
   "source": [
    "# select the first 5 rows with the .head() method \n",
    "frame.head()"
   ]
  },
  {
   "cell_type": "markdown",
   "id": "0524068d-c11e-4acf-98bb-d6794541d004",
   "metadata": {},
   "source": [
    "When creating the dataframe, use the `columns` argument to specify the order. "
   ]
  },
  {
   "cell_type": "code",
   "execution_count": 38,
   "id": "caefba6c-fe96-40fc-b3e9-edbca199a621",
   "metadata": {},
   "outputs": [
    {
     "data": {
      "text/html": [
       "<div>\n",
       "<style scoped>\n",
       "    .dataframe tbody tr th:only-of-type {\n",
       "        vertical-align: middle;\n",
       "    }\n",
       "\n",
       "    .dataframe tbody tr th {\n",
       "        vertical-align: top;\n",
       "    }\n",
       "\n",
       "    .dataframe thead th {\n",
       "        text-align: right;\n",
       "    }\n",
       "</style>\n",
       "<table border=\"1\" class=\"dataframe\">\n",
       "  <thead>\n",
       "    <tr style=\"text-align: right;\">\n",
       "      <th></th>\n",
       "      <th>year</th>\n",
       "      <th>state</th>\n",
       "      <th>pop</th>\n",
       "    </tr>\n",
       "  </thead>\n",
       "  <tbody>\n",
       "    <tr>\n",
       "      <th>0</th>\n",
       "      <td>2000</td>\n",
       "      <td>Ohio</td>\n",
       "      <td>1.5</td>\n",
       "    </tr>\n",
       "    <tr>\n",
       "      <th>1</th>\n",
       "      <td>2001</td>\n",
       "      <td>Ohio</td>\n",
       "      <td>1.7</td>\n",
       "    </tr>\n",
       "    <tr>\n",
       "      <th>2</th>\n",
       "      <td>2002</td>\n",
       "      <td>Ohio</td>\n",
       "      <td>3.6</td>\n",
       "    </tr>\n",
       "    <tr>\n",
       "      <th>3</th>\n",
       "      <td>2001</td>\n",
       "      <td>Nevada</td>\n",
       "      <td>2.4</td>\n",
       "    </tr>\n",
       "    <tr>\n",
       "      <th>4</th>\n",
       "      <td>2002</td>\n",
       "      <td>Nevada</td>\n",
       "      <td>2.9</td>\n",
       "    </tr>\n",
       "    <tr>\n",
       "      <th>5</th>\n",
       "      <td>2003</td>\n",
       "      <td>Nevada</td>\n",
       "      <td>3.2</td>\n",
       "    </tr>\n",
       "  </tbody>\n",
       "</table>\n",
       "</div>"
      ],
      "text/plain": [
       "   year   state  pop\n",
       "0  2000    Ohio  1.5\n",
       "1  2001    Ohio  1.7\n",
       "2  2002    Ohio  3.6\n",
       "3  2001  Nevada  2.4\n",
       "4  2002  Nevada  2.9\n",
       "5  2003  Nevada  3.2"
      ]
     },
     "execution_count": 38,
     "metadata": {},
     "output_type": "execute_result"
    }
   ],
   "source": [
    "pd.DataFrame(data, columns=['year', 'state', 'pop'])"
   ]
  },
  {
   "cell_type": "markdown",
   "id": "94656e1b-44a3-40f9-b425-ce7efc38aeb2",
   "metadata": {},
   "source": [
    " If you pass a column that isn't contained in the dict (input data) it will appear with missing values in the result"
   ]
  },
  {
   "cell_type": "code",
   "execution_count": 39,
   "id": "8bace5fb-5d50-4fe3-9591-79559e53e631",
   "metadata": {},
   "outputs": [
    {
     "data": {
      "text/html": [
       "<div>\n",
       "<style scoped>\n",
       "    .dataframe tbody tr th:only-of-type {\n",
       "        vertical-align: middle;\n",
       "    }\n",
       "\n",
       "    .dataframe tbody tr th {\n",
       "        vertical-align: top;\n",
       "    }\n",
       "\n",
       "    .dataframe thead th {\n",
       "        text-align: right;\n",
       "    }\n",
       "</style>\n",
       "<table border=\"1\" class=\"dataframe\">\n",
       "  <thead>\n",
       "    <tr style=\"text-align: right;\">\n",
       "      <th></th>\n",
       "      <th>year</th>\n",
       "      <th>state</th>\n",
       "      <th>pop</th>\n",
       "      <th>debt</th>\n",
       "    </tr>\n",
       "  </thead>\n",
       "  <tbody>\n",
       "    <tr>\n",
       "      <th>one</th>\n",
       "      <td>2000</td>\n",
       "      <td>Ohio</td>\n",
       "      <td>1.5</td>\n",
       "      <td>NaN</td>\n",
       "    </tr>\n",
       "    <tr>\n",
       "      <th>two</th>\n",
       "      <td>2001</td>\n",
       "      <td>Ohio</td>\n",
       "      <td>1.7</td>\n",
       "      <td>NaN</td>\n",
       "    </tr>\n",
       "    <tr>\n",
       "      <th>three</th>\n",
       "      <td>2002</td>\n",
       "      <td>Ohio</td>\n",
       "      <td>3.6</td>\n",
       "      <td>NaN</td>\n",
       "    </tr>\n",
       "    <tr>\n",
       "      <th>four</th>\n",
       "      <td>2001</td>\n",
       "      <td>Nevada</td>\n",
       "      <td>2.4</td>\n",
       "      <td>NaN</td>\n",
       "    </tr>\n",
       "    <tr>\n",
       "      <th>five</th>\n",
       "      <td>2002</td>\n",
       "      <td>Nevada</td>\n",
       "      <td>2.9</td>\n",
       "      <td>NaN</td>\n",
       "    </tr>\n",
       "    <tr>\n",
       "      <th>six</th>\n",
       "      <td>2003</td>\n",
       "      <td>Nevada</td>\n",
       "      <td>3.2</td>\n",
       "      <td>NaN</td>\n",
       "    </tr>\n",
       "  </tbody>\n",
       "</table>\n",
       "</div>"
      ],
      "text/plain": [
       "       year   state  pop debt\n",
       "one    2000    Ohio  1.5  NaN\n",
       "two    2001    Ohio  1.7  NaN\n",
       "three  2002    Ohio  3.6  NaN\n",
       "four   2001  Nevada  2.4  NaN\n",
       "five   2002  Nevada  2.9  NaN\n",
       "six    2003  Nevada  3.2  NaN"
      ]
     },
     "execution_count": 39,
     "metadata": {},
     "output_type": "execute_result"
    }
   ],
   "source": [
    "frame2 = pd.DataFrame(data, columns=['year', 'state', 'pop', 'debt'], index=['one', 'two', 'three', 'four', 'five', 'six'])\n",
    "frame2"
   ]
  },
  {
   "cell_type": "code",
   "execution_count": 40,
   "id": "5d600c84-4e86-4439-bc18-9305893c54b3",
   "metadata": {},
   "outputs": [
    {
     "data": {
      "text/plain": [
       "Index(['year', 'state', 'pop', 'debt'], dtype='object')"
      ]
     },
     "execution_count": 40,
     "metadata": {},
     "output_type": "execute_result"
    }
   ],
   "source": [
    "frame2.columns"
   ]
  },
  {
   "cell_type": "code",
   "execution_count": 41,
   "id": "3e8b53ca-d983-4b91-9fe3-1f24ed3b6ac5",
   "metadata": {},
   "outputs": [
    {
     "data": {
      "text/plain": [
       "Index(['one', 'two', 'three', 'four', 'five', 'six'], dtype='object')"
      ]
     },
     "execution_count": 41,
     "metadata": {},
     "output_type": "execute_result"
    }
   ],
   "source": [
    "frame2.index"
   ]
  },
  {
   "cell_type": "markdown",
   "id": "afaee2ae-ce7d-4158-8234-c3d93adf35eb",
   "metadata": {},
   "source": [
    "A column in a DF can be retrieved as a series either by dict-like notation or as an attribute"
   ]
  },
  {
   "cell_type": "code",
   "execution_count": 42,
   "id": "1b6f02b4-317d-4710-ac7e-61fbb90e8474",
   "metadata": {},
   "outputs": [
    {
     "data": {
      "text/plain": [
       "one      2000\n",
       "two      2001\n",
       "three    2002\n",
       "four     2001\n",
       "five     2002\n",
       "six      2003\n",
       "Name: year, dtype: int64"
      ]
     },
     "execution_count": 42,
     "metadata": {},
     "output_type": "execute_result"
    }
   ],
   "source": [
    "frame2['year']"
   ]
  },
  {
   "cell_type": "code",
   "execution_count": 43,
   "id": "cc246ff9-93e6-436a-8180-314095d6bd95",
   "metadata": {},
   "outputs": [
    {
     "data": {
      "text/plain": [
       "one      2000\n",
       "two      2001\n",
       "three    2002\n",
       "four     2001\n",
       "five     2002\n",
       "six      2003\n",
       "Name: year, dtype: int64"
      ]
     },
     "execution_count": 43,
     "metadata": {},
     "output_type": "execute_result"
    }
   ],
   "source": [
    "frame2.year"
   ]
  },
  {
   "cell_type": "markdown",
   "id": "b6efa376-883e-473c-8165-faab21bcdb18",
   "metadata": {},
   "source": [
    "Note, the returned Series have the same index as the DF, and their name attribute has been appropriately set. "
   ]
  },
  {
   "cell_type": "code",
   "execution_count": 44,
   "id": "6f59e633-3b4d-4a93-9492-40c5749510cd",
   "metadata": {},
   "outputs": [
    {
     "data": {
      "text/plain": [
       "'year'"
      ]
     },
     "execution_count": 44,
     "metadata": {},
     "output_type": "execute_result"
    }
   ],
   "source": [
    "frame2.year.name"
   ]
  },
  {
   "cell_type": "markdown",
   "id": "63ce4fa9-63e0-4c39-9d10-67406cd1c7d7",
   "metadata": {},
   "source": [
    "**Rows** can also be retreived by position or name with the special `loc` attribute. "
   ]
  },
  {
   "cell_type": "code",
   "execution_count": 45,
   "id": "ed40c827-6105-41c1-b3bd-511285a26531",
   "metadata": {},
   "outputs": [
    {
     "data": {
      "text/plain": [
       "year     2002\n",
       "state    Ohio\n",
       "pop       3.6\n",
       "debt      NaN\n",
       "Name: three, dtype: object"
      ]
     },
     "execution_count": 45,
     "metadata": {},
     "output_type": "execute_result"
    }
   ],
   "source": [
    "frame2.loc['three']"
   ]
  },
  {
   "cell_type": "markdown",
   "id": "4887ed5c-5746-4dcb-b1b3-4cd0f3058b85",
   "metadata": {},
   "source": [
    "Columns can be modified by assignment. Let's use this to assign values to the `debt` column. "
   ]
  },
  {
   "cell_type": "code",
   "execution_count": 48,
   "id": "8bebc376-64fd-42e6-8af1-56e0455d8883",
   "metadata": {},
   "outputs": [
    {
     "data": {
      "text/html": [
       "<div>\n",
       "<style scoped>\n",
       "    .dataframe tbody tr th:only-of-type {\n",
       "        vertical-align: middle;\n",
       "    }\n",
       "\n",
       "    .dataframe tbody tr th {\n",
       "        vertical-align: top;\n",
       "    }\n",
       "\n",
       "    .dataframe thead th {\n",
       "        text-align: right;\n",
       "    }\n",
       "</style>\n",
       "<table border=\"1\" class=\"dataframe\">\n",
       "  <thead>\n",
       "    <tr style=\"text-align: right;\">\n",
       "      <th></th>\n",
       "      <th>year</th>\n",
       "      <th>state</th>\n",
       "      <th>pop</th>\n",
       "      <th>debt</th>\n",
       "    </tr>\n",
       "  </thead>\n",
       "  <tbody>\n",
       "    <tr>\n",
       "      <th>one</th>\n",
       "      <td>2000</td>\n",
       "      <td>Ohio</td>\n",
       "      <td>1.5</td>\n",
       "      <td>16.5</td>\n",
       "    </tr>\n",
       "    <tr>\n",
       "      <th>two</th>\n",
       "      <td>2001</td>\n",
       "      <td>Ohio</td>\n",
       "      <td>1.7</td>\n",
       "      <td>16.5</td>\n",
       "    </tr>\n",
       "    <tr>\n",
       "      <th>three</th>\n",
       "      <td>2002</td>\n",
       "      <td>Ohio</td>\n",
       "      <td>3.6</td>\n",
       "      <td>16.5</td>\n",
       "    </tr>\n",
       "    <tr>\n",
       "      <th>four</th>\n",
       "      <td>2001</td>\n",
       "      <td>Nevada</td>\n",
       "      <td>2.4</td>\n",
       "      <td>16.5</td>\n",
       "    </tr>\n",
       "    <tr>\n",
       "      <th>five</th>\n",
       "      <td>2002</td>\n",
       "      <td>Nevada</td>\n",
       "      <td>2.9</td>\n",
       "      <td>16.5</td>\n",
       "    </tr>\n",
       "    <tr>\n",
       "      <th>six</th>\n",
       "      <td>2003</td>\n",
       "      <td>Nevada</td>\n",
       "      <td>3.2</td>\n",
       "      <td>16.5</td>\n",
       "    </tr>\n",
       "  </tbody>\n",
       "</table>\n",
       "</div>"
      ],
      "text/plain": [
       "       year   state  pop  debt\n",
       "one    2000    Ohio  1.5  16.5\n",
       "two    2001    Ohio  1.7  16.5\n",
       "three  2002    Ohio  3.6  16.5\n",
       "four   2001  Nevada  2.4  16.5\n",
       "five   2002  Nevada  2.9  16.5\n",
       "six    2003  Nevada  3.2  16.5"
      ]
     },
     "execution_count": 48,
     "metadata": {},
     "output_type": "execute_result"
    }
   ],
   "source": [
    "frame2.debt = 16.5\n",
    "frame2"
   ]
  },
  {
   "cell_type": "code",
   "execution_count": 52,
   "id": "6821ef1d-337a-40ff-9161-c463a95ff4f1",
   "metadata": {},
   "outputs": [
    {
     "data": {
      "text/plain": [
       "one      0.0\n",
       "two      1.0\n",
       "three    2.0\n",
       "four     3.0\n",
       "five     4.0\n",
       "six      5.0\n",
       "Name: debt, dtype: float64"
      ]
     },
     "execution_count": 52,
     "metadata": {},
     "output_type": "execute_result"
    }
   ],
   "source": [
    "frame2['debt'] = np.arange(6.)\n",
    "frame2['debt']"
   ]
  },
  {
   "cell_type": "markdown",
   "id": "e40f765c-7140-46a4-a5f1-ff79799a17ec",
   "metadata": {},
   "source": [
    "When assigning lists or arrays to a column, the value's **length** must match the length of the DF. \n",
    "- If you assign a series, its labels will be realigned exactly to the DF's index, inserting missing values into any holes.\n",
    "- - So technically in this case it does not have to be the same length, you just have to provide the labels of where u want the data to go. "
   ]
  },
  {
   "cell_type": "code",
   "execution_count": 54,
   "id": "a833f0c6-fb11-4da4-9182-122d9efd694e",
   "metadata": {},
   "outputs": [
    {
     "data": {
      "text/html": [
       "<div>\n",
       "<style scoped>\n",
       "    .dataframe tbody tr th:only-of-type {\n",
       "        vertical-align: middle;\n",
       "    }\n",
       "\n",
       "    .dataframe tbody tr th {\n",
       "        vertical-align: top;\n",
       "    }\n",
       "\n",
       "    .dataframe thead th {\n",
       "        text-align: right;\n",
       "    }\n",
       "</style>\n",
       "<table border=\"1\" class=\"dataframe\">\n",
       "  <thead>\n",
       "    <tr style=\"text-align: right;\">\n",
       "      <th></th>\n",
       "      <th>year</th>\n",
       "      <th>state</th>\n",
       "      <th>pop</th>\n",
       "      <th>debt</th>\n",
       "    </tr>\n",
       "  </thead>\n",
       "  <tbody>\n",
       "    <tr>\n",
       "      <th>one</th>\n",
       "      <td>2000</td>\n",
       "      <td>Ohio</td>\n",
       "      <td>1.5</td>\n",
       "      <td>NaN</td>\n",
       "    </tr>\n",
       "    <tr>\n",
       "      <th>two</th>\n",
       "      <td>2001</td>\n",
       "      <td>Ohio</td>\n",
       "      <td>1.7</td>\n",
       "      <td>-1.2</td>\n",
       "    </tr>\n",
       "    <tr>\n",
       "      <th>three</th>\n",
       "      <td>2002</td>\n",
       "      <td>Ohio</td>\n",
       "      <td>3.6</td>\n",
       "      <td>NaN</td>\n",
       "    </tr>\n",
       "    <tr>\n",
       "      <th>four</th>\n",
       "      <td>2001</td>\n",
       "      <td>Nevada</td>\n",
       "      <td>2.4</td>\n",
       "      <td>-1.5</td>\n",
       "    </tr>\n",
       "    <tr>\n",
       "      <th>five</th>\n",
       "      <td>2002</td>\n",
       "      <td>Nevada</td>\n",
       "      <td>2.9</td>\n",
       "      <td>-1.7</td>\n",
       "    </tr>\n",
       "    <tr>\n",
       "      <th>six</th>\n",
       "      <td>2003</td>\n",
       "      <td>Nevada</td>\n",
       "      <td>3.2</td>\n",
       "      <td>NaN</td>\n",
       "    </tr>\n",
       "  </tbody>\n",
       "</table>\n",
       "</div>"
      ],
      "text/plain": [
       "       year   state  pop  debt\n",
       "one    2000    Ohio  1.5   NaN\n",
       "two    2001    Ohio  1.7  -1.2\n",
       "three  2002    Ohio  3.6   NaN\n",
       "four   2001  Nevada  2.4  -1.5\n",
       "five   2002  Nevada  2.9  -1.7\n",
       "six    2003  Nevada  3.2   NaN"
      ]
     },
     "execution_count": 54,
     "metadata": {},
     "output_type": "execute_result"
    }
   ],
   "source": [
    "val = pd.Series([-1.2, -1.5, -1.7,], index=['two', 'four', 'five'])\n",
    "\n",
    "frame2['debt']=val\n",
    "\n",
    "frame2"
   ]
  },
  {
   "cell_type": "markdown",
   "id": "aac59295-5aa1-470e-9bda-c5a1f5258548",
   "metadata": {},
   "source": [
    "- Assigning a column that doesnt exist will create a new column.\n",
    "- Columns can not be assigned with the `frame.column` syntax\n",
    "- The `del` key will delete columns as with a dict.  "
   ]
  },
  {
   "cell_type": "code",
   "execution_count": 58,
   "id": "18dc4547-bc7c-4acd-a974-32c14f0ca8fc",
   "metadata": {},
   "outputs": [
    {
     "data": {
      "text/html": [
       "<div>\n",
       "<style scoped>\n",
       "    .dataframe tbody tr th:only-of-type {\n",
       "        vertical-align: middle;\n",
       "    }\n",
       "\n",
       "    .dataframe tbody tr th {\n",
       "        vertical-align: top;\n",
       "    }\n",
       "\n",
       "    .dataframe thead th {\n",
       "        text-align: right;\n",
       "    }\n",
       "</style>\n",
       "<table border=\"1\" class=\"dataframe\">\n",
       "  <thead>\n",
       "    <tr style=\"text-align: right;\">\n",
       "      <th></th>\n",
       "      <th>year</th>\n",
       "      <th>state</th>\n",
       "      <th>pop</th>\n",
       "      <th>debt</th>\n",
       "      <th>bool_column</th>\n",
       "    </tr>\n",
       "  </thead>\n",
       "  <tbody>\n",
       "    <tr>\n",
       "      <th>one</th>\n",
       "      <td>2000</td>\n",
       "      <td>Ohio</td>\n",
       "      <td>1.5</td>\n",
       "      <td>NaN</td>\n",
       "      <td>False</td>\n",
       "    </tr>\n",
       "    <tr>\n",
       "      <th>two</th>\n",
       "      <td>2001</td>\n",
       "      <td>Ohio</td>\n",
       "      <td>1.7</td>\n",
       "      <td>-1.2</td>\n",
       "      <td>False</td>\n",
       "    </tr>\n",
       "    <tr>\n",
       "      <th>three</th>\n",
       "      <td>2002</td>\n",
       "      <td>Ohio</td>\n",
       "      <td>3.6</td>\n",
       "      <td>NaN</td>\n",
       "      <td>False</td>\n",
       "    </tr>\n",
       "    <tr>\n",
       "      <th>four</th>\n",
       "      <td>2001</td>\n",
       "      <td>Nevada</td>\n",
       "      <td>2.4</td>\n",
       "      <td>-1.5</td>\n",
       "      <td>True</td>\n",
       "    </tr>\n",
       "    <tr>\n",
       "      <th>five</th>\n",
       "      <td>2002</td>\n",
       "      <td>Nevada</td>\n",
       "      <td>2.9</td>\n",
       "      <td>-1.7</td>\n",
       "      <td>True</td>\n",
       "    </tr>\n",
       "    <tr>\n",
       "      <th>six</th>\n",
       "      <td>2003</td>\n",
       "      <td>Nevada</td>\n",
       "      <td>3.2</td>\n",
       "      <td>NaN</td>\n",
       "      <td>True</td>\n",
       "    </tr>\n",
       "  </tbody>\n",
       "</table>\n",
       "</div>"
      ],
      "text/plain": [
       "       year   state  pop  debt  bool_column\n",
       "one    2000    Ohio  1.5   NaN        False\n",
       "two    2001    Ohio  1.7  -1.2        False\n",
       "three  2002    Ohio  3.6   NaN        False\n",
       "four   2001  Nevada  2.4  -1.5         True\n",
       "five   2002  Nevada  2.9  -1.7         True\n",
       "six    2003  Nevada  3.2   NaN         True"
      ]
     },
     "execution_count": 58,
     "metadata": {},
     "output_type": "execute_result"
    }
   ],
   "source": [
    "# add a bool column tothe dict using the method above \n",
    "frame2['bool_column'] = frame2.state == 'Nevada'\n",
    "frame2"
   ]
  },
  {
   "cell_type": "code",
   "execution_count": 59,
   "id": "39f2bd15-01c9-4a61-a375-95e9acba26be",
   "metadata": {},
   "outputs": [
    {
     "data": {
      "text/html": [
       "<div>\n",
       "<style scoped>\n",
       "    .dataframe tbody tr th:only-of-type {\n",
       "        vertical-align: middle;\n",
       "    }\n",
       "\n",
       "    .dataframe tbody tr th {\n",
       "        vertical-align: top;\n",
       "    }\n",
       "\n",
       "    .dataframe thead th {\n",
       "        text-align: right;\n",
       "    }\n",
       "</style>\n",
       "<table border=\"1\" class=\"dataframe\">\n",
       "  <thead>\n",
       "    <tr style=\"text-align: right;\">\n",
       "      <th></th>\n",
       "      <th>year</th>\n",
       "      <th>state</th>\n",
       "      <th>pop</th>\n",
       "      <th>debt</th>\n",
       "    </tr>\n",
       "  </thead>\n",
       "  <tbody>\n",
       "    <tr>\n",
       "      <th>one</th>\n",
       "      <td>2000</td>\n",
       "      <td>Ohio</td>\n",
       "      <td>1.5</td>\n",
       "      <td>NaN</td>\n",
       "    </tr>\n",
       "    <tr>\n",
       "      <th>two</th>\n",
       "      <td>2001</td>\n",
       "      <td>Ohio</td>\n",
       "      <td>1.7</td>\n",
       "      <td>-1.2</td>\n",
       "    </tr>\n",
       "    <tr>\n",
       "      <th>three</th>\n",
       "      <td>2002</td>\n",
       "      <td>Ohio</td>\n",
       "      <td>3.6</td>\n",
       "      <td>NaN</td>\n",
       "    </tr>\n",
       "    <tr>\n",
       "      <th>four</th>\n",
       "      <td>2001</td>\n",
       "      <td>Nevada</td>\n",
       "      <td>2.4</td>\n",
       "      <td>-1.5</td>\n",
       "    </tr>\n",
       "    <tr>\n",
       "      <th>five</th>\n",
       "      <td>2002</td>\n",
       "      <td>Nevada</td>\n",
       "      <td>2.9</td>\n",
       "      <td>-1.7</td>\n",
       "    </tr>\n",
       "    <tr>\n",
       "      <th>six</th>\n",
       "      <td>2003</td>\n",
       "      <td>Nevada</td>\n",
       "      <td>3.2</td>\n",
       "      <td>NaN</td>\n",
       "    </tr>\n",
       "  </tbody>\n",
       "</table>\n",
       "</div>"
      ],
      "text/plain": [
       "       year   state  pop  debt\n",
       "one    2000    Ohio  1.5   NaN\n",
       "two    2001    Ohio  1.7  -1.2\n",
       "three  2002    Ohio  3.6   NaN\n",
       "four   2001  Nevada  2.4  -1.5\n",
       "five   2002  Nevada  2.9  -1.7\n",
       "six    2003  Nevada  3.2   NaN"
      ]
     },
     "execution_count": 59,
     "metadata": {},
     "output_type": "execute_result"
    }
   ],
   "source": [
    "# delete that column \n",
    "del frame2['bool_column']\n",
    "frame2"
   ]
  },
  {
   "cell_type": "markdown",
   "id": "3f58a054-54ef-4437-81a5-78ba1fe4b25f",
   "metadata": {},
   "source": [
    " The column returned from indexing a DF is a **view** on the underlying data, not a copy. Thus, any in-place modificaitons to the Series will be reflected in the DF. The column can be explicitly copied with the Series' `copy` method. "
   ]
  },
  {
   "cell_type": "code",
   "execution_count": 61,
   "id": "d72fd9e1-e716-49a4-a4d1-f596180da0ca",
   "metadata": {},
   "outputs": [
    {
     "data": {
      "text/html": [
       "<div>\n",
       "<style scoped>\n",
       "    .dataframe tbody tr th:only-of-type {\n",
       "        vertical-align: middle;\n",
       "    }\n",
       "\n",
       "    .dataframe tbody tr th {\n",
       "        vertical-align: top;\n",
       "    }\n",
       "\n",
       "    .dataframe thead th {\n",
       "        text-align: right;\n",
       "    }\n",
       "</style>\n",
       "<table border=\"1\" class=\"dataframe\">\n",
       "  <thead>\n",
       "    <tr style=\"text-align: right;\">\n",
       "      <th></th>\n",
       "      <th>Nevada</th>\n",
       "      <th>Ohio</th>\n",
       "    </tr>\n",
       "  </thead>\n",
       "  <tbody>\n",
       "    <tr>\n",
       "      <th>2001</th>\n",
       "      <td>2.4</td>\n",
       "      <td>1.7</td>\n",
       "    </tr>\n",
       "    <tr>\n",
       "      <th>2002</th>\n",
       "      <td>2.9</td>\n",
       "      <td>3.6</td>\n",
       "    </tr>\n",
       "    <tr>\n",
       "      <th>2000</th>\n",
       "      <td>NaN</td>\n",
       "      <td>1.5</td>\n",
       "    </tr>\n",
       "  </tbody>\n",
       "</table>\n",
       "</div>"
      ],
      "text/plain": [
       "      Nevada  Ohio\n",
       "2001     2.4   1.7\n",
       "2002     2.9   3.6\n",
       "2000     NaN   1.5"
      ]
     },
     "execution_count": 61,
     "metadata": {},
     "output_type": "execute_result"
    }
   ],
   "source": [
    "# nested dict of dicts. \n",
    "pop = {'Nevada': {2001: 2.4, 2002: 2.9},\n",
    "       'Ohio': {2000: 1.5, 2001: 1.7, 2002: 3.6}\n",
    "       }\n",
    "frame3 = pd.DataFrame(pop)\n",
    "frame3"
   ]
  },
  {
   "cell_type": "markdown",
   "id": "4a1c396c-802c-40b0-bcd3-4019d982bd3c",
   "metadata": {},
   "source": [
    " If the nested dict is passed to the DF, pandas will interpret the outer dict keys as the columns and the inner keys as the row indeces."
   ]
  },
  {
   "cell_type": "markdown",
   "id": "1e434dfd-2b1d-4501-b963-c5525564a0db",
   "metadata": {},
   "source": [
    "Transposing syntax is similar to NumPy"
   ]
  },
  {
   "cell_type": "code",
   "execution_count": 62,
   "id": "948b56e8-3846-45f5-980f-7e62a6bb4063",
   "metadata": {},
   "outputs": [
    {
     "data": {
      "text/html": [
       "<div>\n",
       "<style scoped>\n",
       "    .dataframe tbody tr th:only-of-type {\n",
       "        vertical-align: middle;\n",
       "    }\n",
       "\n",
       "    .dataframe tbody tr th {\n",
       "        vertical-align: top;\n",
       "    }\n",
       "\n",
       "    .dataframe thead th {\n",
       "        text-align: right;\n",
       "    }\n",
       "</style>\n",
       "<table border=\"1\" class=\"dataframe\">\n",
       "  <thead>\n",
       "    <tr style=\"text-align: right;\">\n",
       "      <th></th>\n",
       "      <th>2001</th>\n",
       "      <th>2002</th>\n",
       "      <th>2000</th>\n",
       "    </tr>\n",
       "  </thead>\n",
       "  <tbody>\n",
       "    <tr>\n",
       "      <th>Nevada</th>\n",
       "      <td>2.4</td>\n",
       "      <td>2.9</td>\n",
       "      <td>NaN</td>\n",
       "    </tr>\n",
       "    <tr>\n",
       "      <th>Ohio</th>\n",
       "      <td>1.7</td>\n",
       "      <td>3.6</td>\n",
       "      <td>1.5</td>\n",
       "    </tr>\n",
       "  </tbody>\n",
       "</table>\n",
       "</div>"
      ],
      "text/plain": [
       "        2001  2002  2000\n",
       "Nevada   2.4   2.9   NaN\n",
       "Ohio     1.7   3.6   1.5"
      ]
     },
     "execution_count": 62,
     "metadata": {},
     "output_type": "execute_result"
    }
   ],
   "source": [
    "frame3.T"
   ]
  },
  {
   "cell_type": "markdown",
   "id": "e45faf5f-8c38-426e-a120-231cf105a15a",
   "metadata": {},
   "source": [
    "The keys in the innder dicts (of a nested dict input) are combined and sorted to form the index inthe result. This isn't true if an explicit index is specified."
   ]
  },
  {
   "cell_type": "code",
   "execution_count": 63,
   "id": "4fab1298-b8ad-4363-a2a4-1e54c4cec92f",
   "metadata": {},
   "outputs": [
    {
     "data": {
      "text/html": [
       "<div>\n",
       "<style scoped>\n",
       "    .dataframe tbody tr th:only-of-type {\n",
       "        vertical-align: middle;\n",
       "    }\n",
       "\n",
       "    .dataframe tbody tr th {\n",
       "        vertical-align: top;\n",
       "    }\n",
       "\n",
       "    .dataframe thead th {\n",
       "        text-align: right;\n",
       "    }\n",
       "</style>\n",
       "<table border=\"1\" class=\"dataframe\">\n",
       "  <thead>\n",
       "    <tr style=\"text-align: right;\">\n",
       "      <th></th>\n",
       "      <th>Nevada</th>\n",
       "      <th>Ohio</th>\n",
       "    </tr>\n",
       "  </thead>\n",
       "  <tbody>\n",
       "    <tr>\n",
       "      <th>2000</th>\n",
       "      <td>NaN</td>\n",
       "      <td>1.5</td>\n",
       "    </tr>\n",
       "    <tr>\n",
       "      <th>2001</th>\n",
       "      <td>2.4</td>\n",
       "      <td>1.7</td>\n",
       "    </tr>\n",
       "    <tr>\n",
       "      <th>2002</th>\n",
       "      <td>2.9</td>\n",
       "      <td>3.6</td>\n",
       "    </tr>\n",
       "  </tbody>\n",
       "</table>\n",
       "</div>"
      ],
      "text/plain": [
       "      Nevada  Ohio\n",
       "2000     NaN   1.5\n",
       "2001     2.4   1.7\n",
       "2002     2.9   3.6"
      ]
     },
     "execution_count": 63,
     "metadata": {},
     "output_type": "execute_result"
    }
   ],
   "source": [
    "pd.DataFrame(pop, index=[2000, 2001, 2002])"
   ]
  },
  {
   "cell_type": "code",
   "execution_count": 69,
   "id": "8485bd35-10ff-4156-9eaf-5b36a3e24d1d",
   "metadata": {},
   "outputs": [],
   "source": [
    "# dicts of series are treated in much the same way. \n",
    "pdata = {'Ohio': frame3['Ohio'][:-1],\n",
    "'Nevada': frame3['Nevada'][:2]}"
   ]
  },
  {
   "cell_type": "code",
   "execution_count": 70,
   "id": "f5fa87f9-8acd-4f68-891f-b2617d13fb18",
   "metadata": {},
   "outputs": [
    {
     "data": {
      "text/html": [
       "<div>\n",
       "<style scoped>\n",
       "    .dataframe tbody tr th:only-of-type {\n",
       "        vertical-align: middle;\n",
       "    }\n",
       "\n",
       "    .dataframe tbody tr th {\n",
       "        vertical-align: top;\n",
       "    }\n",
       "\n",
       "    .dataframe thead th {\n",
       "        text-align: right;\n",
       "    }\n",
       "</style>\n",
       "<table border=\"1\" class=\"dataframe\">\n",
       "  <thead>\n",
       "    <tr style=\"text-align: right;\">\n",
       "      <th></th>\n",
       "      <th>Ohio</th>\n",
       "      <th>Nevada</th>\n",
       "    </tr>\n",
       "  </thead>\n",
       "  <tbody>\n",
       "    <tr>\n",
       "      <th>2001</th>\n",
       "      <td>1.7</td>\n",
       "      <td>2.4</td>\n",
       "    </tr>\n",
       "    <tr>\n",
       "      <th>2002</th>\n",
       "      <td>3.6</td>\n",
       "      <td>2.9</td>\n",
       "    </tr>\n",
       "  </tbody>\n",
       "</table>\n",
       "</div>"
      ],
      "text/plain": [
       "      Ohio  Nevada\n",
       "2001   1.7     2.4\n",
       "2002   3.6     2.9"
      ]
     },
     "execution_count": 70,
     "metadata": {},
     "output_type": "execute_result"
    }
   ],
   "source": [
    "pd.DataFrame(pdata)"
   ]
  },
  {
   "cell_type": "markdown",
   "id": "ee857696-a60e-4f65-bee2-0d3adc3c9d1c",
   "metadata": {},
   "source": [
    "If the DF's `index` and icolumns` have their `name` arrtibutes set, These will also be displayed. "
   ]
  },
  {
   "cell_type": "code",
   "execution_count": 71,
   "id": "92b52564-2701-428c-89c7-73a6646634d0",
   "metadata": {},
   "outputs": [],
   "source": [
    "frame3.index.name='year'; frame3.columns.name='state'"
   ]
  },
  {
   "cell_type": "code",
   "execution_count": 72,
   "id": "19fbc629-d5cd-4166-9241-d32eeedf82b4",
   "metadata": {},
   "outputs": [
    {
     "data": {
      "text/html": [
       "<div>\n",
       "<style scoped>\n",
       "    .dataframe tbody tr th:only-of-type {\n",
       "        vertical-align: middle;\n",
       "    }\n",
       "\n",
       "    .dataframe tbody tr th {\n",
       "        vertical-align: top;\n",
       "    }\n",
       "\n",
       "    .dataframe thead th {\n",
       "        text-align: right;\n",
       "    }\n",
       "</style>\n",
       "<table border=\"1\" class=\"dataframe\">\n",
       "  <thead>\n",
       "    <tr style=\"text-align: right;\">\n",
       "      <th>state</th>\n",
       "      <th>Nevada</th>\n",
       "      <th>Ohio</th>\n",
       "    </tr>\n",
       "    <tr>\n",
       "      <th>year</th>\n",
       "      <th></th>\n",
       "      <th></th>\n",
       "    </tr>\n",
       "  </thead>\n",
       "  <tbody>\n",
       "    <tr>\n",
       "      <th>2001</th>\n",
       "      <td>2.4</td>\n",
       "      <td>1.7</td>\n",
       "    </tr>\n",
       "    <tr>\n",
       "      <th>2002</th>\n",
       "      <td>2.9</td>\n",
       "      <td>3.6</td>\n",
       "    </tr>\n",
       "    <tr>\n",
       "      <th>2000</th>\n",
       "      <td>NaN</td>\n",
       "      <td>1.5</td>\n",
       "    </tr>\n",
       "  </tbody>\n",
       "</table>\n",
       "</div>"
      ],
      "text/plain": [
       "state  Nevada  Ohio\n",
       "year               \n",
       "2001      2.4   1.7\n",
       "2002      2.9   3.6\n",
       "2000      NaN   1.5"
      ]
     },
     "execution_count": 72,
     "metadata": {},
     "output_type": "execute_result"
    }
   ],
   "source": [
    "frame3"
   ]
  },
  {
   "cell_type": "markdown",
   "id": "30eca6e2-de73-404a-9372-ecf733dd4ad0",
   "metadata": {},
   "source": [
    " **As with `Series`, the `values` attr. returns the data contained in the DF as a 2d Array**\n",
    " - Remember its an attribute, so you dont need to attach the `()` on the end of it. "
   ]
  },
  {
   "cell_type": "code",
   "execution_count": 74,
   "id": "fcc8d6b7-a2dd-47e0-8f03-2ddd4507431f",
   "metadata": {},
   "outputs": [
    {
     "data": {
      "text/plain": [
       "array([2.4, 2.9, nan])"
      ]
     },
     "execution_count": 74,
     "metadata": {},
     "output_type": "execute_result"
    }
   ],
   "source": [
    "frame3['Nevada'].values"
   ]
  },
  {
   "cell_type": "markdown",
   "id": "001c10fd-45ea-4e4d-852a-9cd1237d7d0b",
   "metadata": {},
   "source": [
    " If the DF's columns are different dtypes, the dtype of the values array will be chosen to accommodate all of the columns: "
   ]
  },
  {
   "cell_type": "code",
   "execution_count": 75,
   "id": "dc169ea5-324d-499f-9384-e4d54f941cae",
   "metadata": {},
   "outputs": [
    {
     "data": {
      "text/plain": [
       "array([[2000, 'Ohio', 1.5, nan],\n",
       "       [2001, 'Ohio', 1.7, -1.2],\n",
       "       [2002, 'Ohio', 3.6, nan],\n",
       "       [2001, 'Nevada', 2.4, -1.5],\n",
       "       [2002, 'Nevada', 2.9, -1.7],\n",
       "       [2003, 'Nevada', 3.2, nan]], dtype=object)"
      ]
     },
     "execution_count": 75,
     "metadata": {},
     "output_type": "execute_result"
    }
   ],
   "source": [
    "frame2.values"
   ]
  },
  {
   "cell_type": "markdown",
   "id": "cf477062-30be-4fbc-8020-7e3cbad89921",
   "metadata": {},
   "source": [
    "Possible data inputs to DF constructor. \n",
    "- **2D ndarray:** A matrix of data, passing optional row and column labels\n",
    "- **dict of arrays, lists, or tuples:** Each sequence becomes a column in the DF; all sequences must be the same length\n",
    "- **NumPy structured/record array:** Treated as the \"dict of arrays\" case\n",
    "- **dict of series:** Each value becomes a column; indexes from each Seriesa are unioned together to form the result's row index if no explicit index is passed\n",
    "- **dict of dicts:** Each inner dict becomes a column; keys are unioned to form the row index as in the \"dict of Series\" case.\n",
    "- **List of dicts or Series:** Each item becomes a row in the DF; union of dict keys or Series indexes become the DF's column labels.\n",
    "- **List of lists or tuples:** 2D ndarray case\n",
    "- **Another DF:** DF's indexes are used unless different ones are passed.\n",
    "- **NumPy MaskewdArray:** Like the 2d ndarray case except masked values become NA/missing in the DF result. "
   ]
  },
  {
   "cell_type": "markdown",
   "id": "66e3109b-3324-4d85-85e1-389943ada487",
   "metadata": {},
   "source": [
    "## Index Objects "
   ]
  },
  {
   "cell_type": "markdown",
   "id": "8fcfe944-9ed5-4719-bf51-4e4ef1e8a0df",
   "metadata": {},
   "source": [
    " Responsible for holding the axis labels and other metadata (like the axis name or names)"
   ]
  },
  {
   "cell_type": "code",
   "execution_count": 78,
   "id": "077e5572-d089-4b3e-8546-22cfccab19e6",
   "metadata": {},
   "outputs": [
    {
     "data": {
      "text/plain": [
       "Index(['a', 'b', 'c'], dtype='object')"
      ]
     },
     "execution_count": 78,
     "metadata": {},
     "output_type": "execute_result"
    }
   ],
   "source": [
    "# arrays opr sequences of labels passed to the `index` arg are converted to an Index\n",
    "obj = pd.Series(range(3), index=['a','b','c'])\n",
    "obj.index"
   ]
  },
  {
   "cell_type": "markdown",
   "id": "743d869c-e5a9-480a-98e6-6e4ccb23bdca",
   "metadata": {},
   "source": [
    "Index objects can be indexed. "
   ]
  },
  {
   "cell_type": "code",
   "execution_count": 79,
   "id": "3c455b8b-4b70-4ef5-a9a3-2d1955243668",
   "metadata": {},
   "outputs": [
    {
     "data": {
      "text/plain": [
       "'a'"
      ]
     },
     "execution_count": 79,
     "metadata": {},
     "output_type": "execute_result"
    }
   ],
   "source": [
    "obj.index[0]"
   ]
  },
  {
   "cell_type": "markdown",
   "id": "1fb31cf7-f389-4f27-bc98-a4cbb059b5cc",
   "metadata": {},
   "source": [
    "Index objects are **immutable**. This makes it safer to share objects among data structures. "
   ]
  },
  {
   "cell_type": "code",
   "execution_count": 80,
   "id": "256cce97-f8b0-4c11-8374-00baf9b43e80",
   "metadata": {},
   "outputs": [
    {
     "data": {
      "text/plain": [
       "Index([0, 1, 2], dtype='int64')"
      ]
     },
     "execution_count": 80,
     "metadata": {},
     "output_type": "execute_result"
    }
   ],
   "source": [
    "labels = pd.Index(np.arange(3))\n",
    "labels"
   ]
  },
  {
   "cell_type": "code",
   "execution_count": 81,
   "id": "182c1a1f-13d8-46fc-9326-2dff6b4210a5",
   "metadata": {},
   "outputs": [
    {
     "data": {
      "text/plain": [
       "Index([0, 1, 2], dtype='int64')"
      ]
     },
     "execution_count": 81,
     "metadata": {},
     "output_type": "execute_result"
    }
   ],
   "source": [
    "obj2 = pd.Series([1.5, -2.5, 0], index=labels)\n",
    "obj2.index"
   ]
  },
  {
   "cell_type": "code",
   "execution_count": 84,
   "id": "2f4a1b7d-5b03-4bc6-882a-232d12792a38",
   "metadata": {},
   "outputs": [
    {
     "data": {
      "text/plain": [
       "True"
      ]
     },
     "execution_count": 84,
     "metadata": {},
     "output_type": "execute_result"
    }
   ],
   "source": [
    "obj2.index is labels "
   ]
  },
  {
   "cell_type": "markdown",
   "id": "d37abc29-bbf7-4e6e-bc67-2f91164c33f2",
   "metadata": {},
   "source": [
    "It also behaves like a fixed-size set. But unlike python sets, they can contain duplicate labels. "
   ]
  },
  {
   "cell_type": "code",
   "execution_count": 87,
   "id": "299229d1-2807-41a8-ac4e-077fd7f4f49c",
   "metadata": {},
   "outputs": [
    {
     "data": {
      "text/plain": [
       "True"
      ]
     },
     "execution_count": 87,
     "metadata": {},
     "output_type": "execute_result"
    }
   ],
   "source": [
    "1 in obj2.index"
   ]
  },
  {
   "cell_type": "markdown",
   "id": "c62e7d2e-01b6-4787-b8e0-7298bac6b4db",
   "metadata": {},
   "source": [
    " Selections with duplicate labels will select all occurrences of that label. "
   ]
  },
  {
   "cell_type": "markdown",
   "id": "7d04ef2b-c811-4a64-9c7d-67c626e18419",
   "metadata": {},
   "source": [
    "Index objects have a number of methods and properties for set logic\n",
    "- `append`\n",
    "- `difference`\n",
    "- `intersection`\n",
    "- `union`\n",
    "- `isin`\n",
    "- `delete`\n",
    "- `drop`\n",
    "- `insert`\n",
    "- `is_monotonic`\n",
    "- `is_unique`\n",
    "- `unique`"
   ]
  },
  {
   "cell_type": "markdown",
   "id": "cc0c4723-d69e-454f-8a57-437e3a9a9d3c",
   "metadata": {},
   "source": [
    "# 5.2 Essential Functionality"
   ]
  },
  {
   "cell_type": "markdown",
   "id": "d9b3762a-c18f-4164-9223-c8bb6f1d218f",
   "metadata": {},
   "source": [
    "## Reindexing"
   ]
  },
  {
   "cell_type": "markdown",
   "id": "c87efd56-006e-48a7-87b0-9b94a2aef974",
   "metadata": {},
   "source": [
    " This is an in-place method. "
   ]
  },
  {
   "cell_type": "code",
   "execution_count": 91,
   "id": "aca65575-f68f-4c71-b98d-209c20b7ac45",
   "metadata": {},
   "outputs": [
    {
     "data": {
      "text/plain": [
       "d    4.5\n",
       "b    7.2\n",
       "a   -5.3\n",
       "c    3.6\n",
       "dtype: float64"
      ]
     },
     "execution_count": 91,
     "metadata": {},
     "output_type": "execute_result"
    }
   ],
   "source": [
    "# reindexing is creating a new object with the data conformed to a new index. \n",
    "# NaNs are introduced if there is no value for that label/index\n",
    "obj = pd.Series([4.5,7.2,-5.3,3.6], index=['d', 'b', 'a', 'c'])\n",
    "obj"
   ]
  },
  {
   "cell_type": "code",
   "execution_count": 92,
   "id": "7db32ba8-b6c5-4385-9a7f-09248dee1c15",
   "metadata": {},
   "outputs": [
    {
     "data": {
      "text/plain": [
       "a   -5.3\n",
       "b    7.2\n",
       "c    3.6\n",
       "d    4.5\n",
       "e    NaN\n",
       "dtype: float64"
      ]
     },
     "execution_count": 92,
     "metadata": {},
     "output_type": "execute_result"
    }
   ],
   "source": [
    "obj2 = obj.reindex(['a','b','c','d','e'])\n",
    "obj2"
   ]
  },
  {
   "cell_type": "markdown",
   "id": "ea36c13d-d618-4ff7-a911-2f1ef915bc68",
   "metadata": {},
   "source": [
    "You can specify the `method` argument when reindexing. "
   ]
  },
  {
   "cell_type": "code",
   "execution_count": 104,
   "id": "5ede488b-6039-4c72-a2c9-bd477a74370a",
   "metadata": {},
   "outputs": [
    {
     "data": {
      "text/plain": [
       "0      blue\n",
       "2    purple\n",
       "4    yellow\n",
       "dtype: object"
      ]
     },
     "execution_count": 104,
     "metadata": {},
     "output_type": "execute_result"
    }
   ],
   "source": [
    "# forward fill method `ffill`\n",
    "obj3 = pd.Series(['blue','purple','yellow'],index=[0,2,4])\n",
    "obj3"
   ]
  },
  {
   "cell_type": "code",
   "execution_count": 105,
   "id": "749f6bcd-1f0a-4eb8-9cfd-7d36bff3ccd4",
   "metadata": {},
   "outputs": [
    {
     "data": {
      "text/plain": [
       "0      blue\n",
       "1      blue\n",
       "2    purple\n",
       "3    purple\n",
       "4    yellow\n",
       "5    yellow\n",
       "dtype: object"
      ]
     },
     "execution_count": 105,
     "metadata": {},
     "output_type": "execute_result"
    }
   ],
   "source": [
    "obj3.reindex(range(6), method='ffill')"
   ]
  },
  {
   "cell_type": "markdown",
   "id": "c814e880-dac7-4f88-81b0-005f6940fe66",
   "metadata": {},
   "source": [
    "Reindexing a DF"
   ]
  },
  {
   "cell_type": "code",
   "execution_count": 109,
   "id": "7a85d325-2077-4626-b970-6a25b90da8b0",
   "metadata": {},
   "outputs": [
    {
     "data": {
      "text/html": [
       "<div>\n",
       "<style scoped>\n",
       "    .dataframe tbody tr th:only-of-type {\n",
       "        vertical-align: middle;\n",
       "    }\n",
       "\n",
       "    .dataframe tbody tr th {\n",
       "        vertical-align: top;\n",
       "    }\n",
       "\n",
       "    .dataframe thead th {\n",
       "        text-align: right;\n",
       "    }\n",
       "</style>\n",
       "<table border=\"1\" class=\"dataframe\">\n",
       "  <thead>\n",
       "    <tr style=\"text-align: right;\">\n",
       "      <th></th>\n",
       "      <th>Ohio</th>\n",
       "      <th>Texas</th>\n",
       "      <th>California</th>\n",
       "    </tr>\n",
       "  </thead>\n",
       "  <tbody>\n",
       "    <tr>\n",
       "      <th>a</th>\n",
       "      <td>0</td>\n",
       "      <td>1</td>\n",
       "      <td>2</td>\n",
       "    </tr>\n",
       "    <tr>\n",
       "      <th>c</th>\n",
       "      <td>3</td>\n",
       "      <td>4</td>\n",
       "      <td>5</td>\n",
       "    </tr>\n",
       "    <tr>\n",
       "      <th>d</th>\n",
       "      <td>6</td>\n",
       "      <td>7</td>\n",
       "      <td>8</td>\n",
       "    </tr>\n",
       "  </tbody>\n",
       "</table>\n",
       "</div>"
      ],
      "text/plain": [
       "   Ohio  Texas  California\n",
       "a     0      1           2\n",
       "c     3      4           5\n",
       "d     6      7           8"
      ]
     },
     "execution_count": 109,
     "metadata": {},
     "output_type": "execute_result"
    }
   ],
   "source": [
    "frame = pd.DataFrame(np.arange(9).reshape((3,3)),\n",
    "                     index=['a','c','d'],\n",
    "                     columns=['Ohio','Texas','California'])\n",
    "frame                              "
   ]
  },
  {
   "cell_type": "code",
   "execution_count": 110,
   "id": "76e907bf-a516-4ba7-ac03-fc9737c96fbe",
   "metadata": {},
   "outputs": [
    {
     "data": {
      "text/html": [
       "<div>\n",
       "<style scoped>\n",
       "    .dataframe tbody tr th:only-of-type {\n",
       "        vertical-align: middle;\n",
       "    }\n",
       "\n",
       "    .dataframe tbody tr th {\n",
       "        vertical-align: top;\n",
       "    }\n",
       "\n",
       "    .dataframe thead th {\n",
       "        text-align: right;\n",
       "    }\n",
       "</style>\n",
       "<table border=\"1\" class=\"dataframe\">\n",
       "  <thead>\n",
       "    <tr style=\"text-align: right;\">\n",
       "      <th></th>\n",
       "      <th>Ohio</th>\n",
       "      <th>Texas</th>\n",
       "      <th>California</th>\n",
       "    </tr>\n",
       "  </thead>\n",
       "  <tbody>\n",
       "    <tr>\n",
       "      <th>a</th>\n",
       "      <td>0.0</td>\n",
       "      <td>1.0</td>\n",
       "      <td>2.0</td>\n",
       "    </tr>\n",
       "    <tr>\n",
       "      <th>b</th>\n",
       "      <td>NaN</td>\n",
       "      <td>NaN</td>\n",
       "      <td>NaN</td>\n",
       "    </tr>\n",
       "    <tr>\n",
       "      <th>c</th>\n",
       "      <td>3.0</td>\n",
       "      <td>4.0</td>\n",
       "      <td>5.0</td>\n",
       "    </tr>\n",
       "    <tr>\n",
       "      <th>d</th>\n",
       "      <td>6.0</td>\n",
       "      <td>7.0</td>\n",
       "      <td>8.0</td>\n",
       "    </tr>\n",
       "  </tbody>\n",
       "</table>\n",
       "</div>"
      ],
      "text/plain": [
       "   Ohio  Texas  California\n",
       "a   0.0    1.0         2.0\n",
       "b   NaN    NaN         NaN\n",
       "c   3.0    4.0         5.0\n",
       "d   6.0    7.0         8.0"
      ]
     },
     "execution_count": 110,
     "metadata": {},
     "output_type": "execute_result"
    }
   ],
   "source": [
    "frame2 = frame.reindex(['a','b','c','d'])\n",
    "frame2"
   ]
  },
  {
   "cell_type": "markdown",
   "id": "672ffb9e-7162-4dcb-82ac-2ad4bc9c25a9",
   "metadata": {},
   "source": [
    " If you want to reindex on the columns, pass the `columns` keyword to the reindex method. "
   ]
  },
  {
   "cell_type": "code",
   "execution_count": 117,
   "id": "66384a87-98e5-4d31-8900-8fa4e4ec27e8",
   "metadata": {},
   "outputs": [],
   "source": [
    "states=['Texas', 'Utah', 'California']\n",
    "frame = frame.reindex(columns=states)"
   ]
  },
  {
   "cell_type": "markdown",
   "id": "77051266-9de8-48d6-8e83-0521ff6a2c53",
   "metadata": {},
   "source": [
    "Lastly, you can reindex using `loc` known as label-indexing"
   ]
  },
  {
   "cell_type": "code",
   "execution_count": 118,
   "id": "f748c61b-272c-4476-8176-e917af1bc5af",
   "metadata": {},
   "outputs": [
    {
     "data": {
      "text/html": [
       "<div>\n",
       "<style scoped>\n",
       "    .dataframe tbody tr th:only-of-type {\n",
       "        vertical-align: middle;\n",
       "    }\n",
       "\n",
       "    .dataframe tbody tr th {\n",
       "        vertical-align: top;\n",
       "    }\n",
       "\n",
       "    .dataframe thead th {\n",
       "        text-align: right;\n",
       "    }\n",
       "</style>\n",
       "<table border=\"1\" class=\"dataframe\">\n",
       "  <thead>\n",
       "    <tr style=\"text-align: right;\">\n",
       "      <th></th>\n",
       "      <th>Texas</th>\n",
       "      <th>Utah</th>\n",
       "      <th>California</th>\n",
       "    </tr>\n",
       "  </thead>\n",
       "  <tbody>\n",
       "    <tr>\n",
       "      <th>a</th>\n",
       "      <td>1</td>\n",
       "      <td>NaN</td>\n",
       "      <td>2</td>\n",
       "    </tr>\n",
       "    <tr>\n",
       "      <th>c</th>\n",
       "      <td>4</td>\n",
       "      <td>NaN</td>\n",
       "      <td>5</td>\n",
       "    </tr>\n",
       "    <tr>\n",
       "      <th>d</th>\n",
       "      <td>7</td>\n",
       "      <td>NaN</td>\n",
       "      <td>8</td>\n",
       "    </tr>\n",
       "  </tbody>\n",
       "</table>\n",
       "</div>"
      ],
      "text/plain": [
       "   Texas  Utah  California\n",
       "a      1   NaN           2\n",
       "c      4   NaN           5\n",
       "d      7   NaN           8"
      ]
     },
     "execution_count": 118,
     "metadata": {},
     "output_type": "execute_result"
    }
   ],
   "source": [
    "frame.loc[['a','c','d'],states]"
   ]
  },
  {
   "cell_type": "markdown",
   "id": "a31889de-5d6a-412b-b737-415fa424938d",
   "metadata": {},
   "source": [
    " Reindex function arguments:\n",
    " - `index`\n",
    " - `method`\n",
    " - `fill_value`\n",
    " - `limit`\n",
    " - `tolerance`\n",
    " - `level`\n",
    " - `copy`"
   ]
  },
  {
   "cell_type": "markdown",
   "id": "69a9b7a6-3c33-48da-b135-f1ef52ebab0b",
   "metadata": {},
   "source": [
    "## Dropping entries from an axis"
   ]
  },
  {
   "cell_type": "markdown",
   "id": "1245d588-1143-4398-b0bd-b40d921b5a9b",
   "metadata": {},
   "source": [
    "`drop` method will return a new object with the indicated value or values deleted from an axis. "
   ]
  },
  {
   "cell_type": "code",
   "execution_count": 4,
   "id": "bb7c435c-8bff-4de8-b606-75c2a1397262",
   "metadata": {},
   "outputs": [
    {
     "data": {
      "text/plain": [
       "a    0.0\n",
       "b    1.0\n",
       "c    2.0\n",
       "d    3.0\n",
       "e    4.0\n",
       "dtype: float64"
      ]
     },
     "execution_count": 4,
     "metadata": {},
     "output_type": "execute_result"
    }
   ],
   "source": [
    "import pandas as pd \n",
    "import numpy as np \n",
    "\n",
    "obj = pd.Series(np.arange(5.), index=['a', 'b', 'c', 'd', 'e'])\n",
    "obj"
   ]
  },
  {
   "cell_type": "code",
   "execution_count": 8,
   "id": "c4e4c22f-b2fa-4bc0-aeb5-d8220c93bcb2",
   "metadata": {},
   "outputs": [
    {
     "data": {
      "text/plain": [
       "a    0.0\n",
       "b    1.0\n",
       "d    3.0\n",
       "e    4.0\n",
       "dtype: float64"
      ]
     },
     "execution_count": 8,
     "metadata": {},
     "output_type": "execute_result"
    }
   ],
   "source": [
    "new_obj = obj.drop('c')\n",
    "new_obj"
   ]
  },
  {
   "cell_type": "markdown",
   "id": "74c4f1d2-f544-47bd-bf64-0eb8c00d65d1",
   "metadata": {},
   "source": [
    " You can also pass a list of row indeces to drop more than one row at a time. "
   ]
  },
  {
   "cell_type": "markdown",
   "id": "4095cbff-299a-4f80-867e-464ac7607775",
   "metadata": {},
   "source": [
    "In a DF, index values can be deleted from either axis. \n",
    "- to drop from the columns use `axis=1` or `axis = 'columns'`\n",
    "- combine this argument with the name of the column you want to drop\n",
    "- **Note:** many functions, such as `drop`, that modify the size and shape of the DF, can do this in-place by using the `inplace=True` argument. "
   ]
  },
  {
   "cell_type": "markdown",
   "id": "b0cfeac9-fd18-469f-bf4b-21c1b5d32793",
   "metadata": {},
   "source": [
    "## Indexing, Slicing, Filtering"
   ]
  },
  {
   "cell_type": "markdown",
   "id": "11378b7c-d53b-4371-b0cc-2daadbab92a2",
   "metadata": {},
   "source": [
    "Series indexing `obj[...]` works analagously to NumPy array indexing, except you can **also** use the Series index values if you would like to use them instead of just integers. \n",
    "- for example if you set `index=['a', 'b', 'c']` when you create the DF, you can use these values for indexing. "
   ]
  },
  {
   "cell_type": "code",
   "execution_count": 9,
   "id": "ba3c4940-c993-4022-9070-591b578619eb",
   "metadata": {},
   "outputs": [
    {
     "data": {
      "text/plain": [
       "a    0.0\n",
       "b    1.0\n",
       "c    2.0\n",
       "d    3.0\n",
       "dtype: float64"
      ]
     },
     "execution_count": 9,
     "metadata": {},
     "output_type": "execute_result"
    }
   ],
   "source": [
    "obj = pd.Series(np.arange(4.), index = ['a','b','c','d'])\n",
    "obj"
   ]
  },
  {
   "cell_type": "code",
   "execution_count": 10,
   "id": "a925d478-4df6-495a-9b95-176964bab2ce",
   "metadata": {},
   "outputs": [
    {
     "data": {
      "text/plain": [
       "np.float64(1.0)"
      ]
     },
     "execution_count": 10,
     "metadata": {},
     "output_type": "execute_result"
    }
   ],
   "source": [
    "obj['b']"
   ]
  },
  {
   "cell_type": "code",
   "execution_count": 11,
   "id": "cac84dba-d9ab-495a-8216-fde077ace6a7",
   "metadata": {},
   "outputs": [
    {
     "name": "stderr",
     "output_type": "stream",
     "text": [
      "/tmp/ipykernel_4207/2469632899.py:1: FutureWarning: Series.__getitem__ treating keys as positions is deprecated. In a future version, integer keys will always be treated as labels (consistent with DataFrame behavior). To access a value by position, use `ser.iloc[pos]`\n",
      "  obj[1]\n"
     ]
    },
    {
     "data": {
      "text/plain": [
       "np.float64(1.0)"
      ]
     },
     "execution_count": 11,
     "metadata": {},
     "output_type": "execute_result"
    }
   ],
   "source": [
    "obj[1]"
   ]
  },
  {
   "cell_type": "code",
   "execution_count": 13,
   "id": "ca6e6950-0c3f-4f1a-8a4e-5972cff2a3a1",
   "metadata": {},
   "outputs": [
    {
     "data": {
      "text/plain": [
       "c    2.0\n",
       "d    3.0\n",
       "dtype: float64"
      ]
     },
     "execution_count": 13,
     "metadata": {},
     "output_type": "execute_result"
    }
   ],
   "source": [
    "obj[2:4]"
   ]
  },
  {
   "cell_type": "code",
   "execution_count": 14,
   "id": "3ae56d02-96fe-4f18-af0d-096d0acb7436",
   "metadata": {},
   "outputs": [
    {
     "name": "stderr",
     "output_type": "stream",
     "text": [
      "/tmp/ipykernel_4207/1781339481.py:1: FutureWarning: Series.__getitem__ treating keys as positions is deprecated. In a future version, integer keys will always be treated as labels (consistent with DataFrame behavior). To access a value by position, use `ser.iloc[pos]`\n",
      "  obj[[1,3]]\n"
     ]
    },
    {
     "data": {
      "text/plain": [
       "b    1.0\n",
       "d    3.0\n",
       "dtype: float64"
      ]
     },
     "execution_count": 14,
     "metadata": {},
     "output_type": "execute_result"
    }
   ],
   "source": [
    "obj[[1,3]]"
   ]
  },
  {
   "cell_type": "code",
   "execution_count": 15,
   "id": "63cb8cc3-853d-4072-adb6-5fc43ba28fa9",
   "metadata": {},
   "outputs": [
    {
     "data": {
      "text/plain": [
       "a    0.0\n",
       "b    1.0\n",
       "dtype: float64"
      ]
     },
     "execution_count": 15,
     "metadata": {},
     "output_type": "execute_result"
    }
   ],
   "source": [
    "obj[obj<2]"
   ]
  },
  {
   "cell_type": "markdown",
   "id": "0e40a843-66fc-4b61-9106-7e7ee58dc1e1",
   "metadata": {},
   "source": [
    "**Slicing with labels behaves differently than normal Python slicing in that the endpoint is includive**"
   ]
  },
  {
   "cell_type": "markdown",
   "id": "74dad75a-d28d-4613-8008-73fdfdb0c5f5",
   "metadata": {},
   "source": [
    "Setting using these methods \n",
    "- `obj['b', 'c'] = 5`\n",
    "\n",
    "modifies the corresponding section of the Series. "
   ]
  },
  {
   "cell_type": "markdown",
   "id": "aac22a7a-863a-4421-b117-89e03f9ede92",
   "metadata": {},
   "source": [
    "Indexing into a Data Frame is for retrieving one or more columns either with a single value or sequence\n",
    "- `data['column_name']`\n",
    "- `data[['col_1', 'col_2']]`"
   ]
  },
  {
   "cell_type": "markdown",
   "id": "43139d22-06b1-4895-a61c-a854ab20e10b",
   "metadata": {},
   "source": [
    "Slicing or indexing data with a boolean array:\n",
    "- `data[:2]` selects rows `0, 1`\n",
    "- `data[data['column'] > 5]` We create a boolean array out of `'column'`, then we use that boolean array to select rows.\n",
    "- `data < 5` makes boolean arrays out of thw whole DF\n",
    "- `data[data < 5] = 0` sets the values from all rows and columns to 0 if they are less than 5."
   ]
  },
  {
   "cell_type": "markdown",
   "id": "eb899265-649e-4f72-b94c-0034446e17b1",
   "metadata": {},
   "source": [
    "### Selecting with `loc` and `iloc`"
   ]
  },
  {
   "cell_type": "markdown",
   "id": "bc306b39-e35a-411e-8d9f-abd8c426e172",
   "metadata": {},
   "source": [
    "These are two special indexing operators. They enable you to select a subset of the rows and columns from a DF with NumPy-like notation using either axis labels `loc` or integers `iloc`"
   ]
  },
  {
   "cell_type": "markdown",
   "id": "11b477f0-5700-47cd-b870-8d8fecd7e036",
   "metadata": {},
   "source": [
    "- `data.loc['axis_label', ['column_name1', 'column_name2']]` Select the values from row `axis_label` and the columns specified.\n",
    "- `data.iloc[2, [3, 0, 1]]` Select the values from row `2` and the columns specified.\n",
    "- `data.iloc[2]` Select the values from row `2`, and all columns\n",
    "- `data.iloc[[1, 2], [3, 0, 1]]` Select the values from rows `1, 2` and from columns specified. "
   ]
  },
  {
   "cell_type": "markdown",
   "id": "ce86407a-fbf7-4e50-875e-b33f6dc027fa",
   "metadata": {},
   "source": [
    "Both indexing functions work with slices in addition to single labels or lists of labels. \n",
    "- `data.loc[:'row_3', 'col_2']` Select all rows up to `row_3`, select values from `col_2`"
   ]
  },
  {
   "cell_type": "markdown",
   "id": "dcd91c74-fa44-4f41-add7-854b01d50e7b",
   "metadata": {},
   "source": [
    "Indexing options with DF:\n",
    "- `df[val]`\n",
    "- `df.loc[val]`\n",
    "- `df.loc[:,val]`\n",
    "- `df.loc[val1, val2]`\n",
    "- `df.iloc[where]`\n",
    "- `df.iloc[:, where]`\n",
    "- `df.iloc[where_i, where_j]`\n",
    "- `df.at[label_i, label_j]`\n",
    "- `df.iat[i, j]`\n",
    "- `reindex` method\n",
    "- `get_value`, `set_value` methods"
   ]
  },
  {
   "cell_type": "markdown",
   "id": "960bcd61-1c88-470c-a601-fdccda407f17",
   "metadata": {},
   "source": [
    "## Integer Indexes"
   ]
  },
  {
   "cell_type": "markdown",
   "id": "bb1b20d8-2889-494e-9ae2-57d71b06170e",
   "metadata": {},
   "source": [
    "..."
   ]
  },
  {
   "cell_type": "markdown",
   "id": "f0f05434-e694-4fc5-a812-2f9993c61ff5",
   "metadata": {},
   "source": [
    "## Arithmetic and Data Alignment "
   ]
  },
  {
   "cell_type": "markdown",
   "id": "638ecfbe-a655-4357-ae45-5e80e1a8bfaf",
   "metadata": {},
   "source": [
    "An important pandas feature for some applications is the behavior of arithmetic between objects with different indexes. \n",
    "- When you are adding together objects, if any index pairs are not the same, the resulting index in the result will have a value that is the union of the index pairs. (Similar to an automatic outer join).\n",
    "- In other words, it will contain `NaN` (missing values) even though one of them had a value for that index. The nonexistence of this index in the other object causes this. "
   ]
  },
  {
   "cell_type": "markdown",
   "id": "ebe21167-06f3-4dac-aac4-95d03fb6457f",
   "metadata": {},
   "source": [
    "In the case of a DataFrame, alignment is performed on both the rows and the columns. As you can imagine, this can introduce alot of missing values `NaN`. "
   ]
  },
  {
   "cell_type": "markdown",
   "id": "fe2ce86a-c399-4f43-82a9-a499e630a321",
   "metadata": {},
   "source": [
    " ### Arithmetic methods with Fill Values "
   ]
  },
  {
   "cell_type": "markdown",
   "id": "81aa6f17-c806-4713-82c1-40ad00d06a9c",
   "metadata": {},
   "source": [
    "As a result, we can choose to fill these missing values `NaN` with a value (such as 0), when an axis label is found in one object but not the other. \n",
    "- To do this, use the `.add` method on the first DF, and specify the fill value as an argument.\n",
    "- `df1.add(df2, fill_value=0)`\n",
    "- This can also be done when using the `reindex` method. "
   ]
  },
  {
   "cell_type": "markdown",
   "id": "7ca7f265-a6ee-4c47-911c-30bd351ff71f",
   "metadata": {},
   "source": [
    "Flexible arithmetic methods: \n",
    "- `add`, `radd`\n",
    "- `sub`, `rsub`\n",
    "- `div`, `rdiv`\n",
    "- `floordiv`, `rfloordiv`\n",
    "- `mul`, `rmul`\n",
    "- `pow`, `rpow`"
   ]
  },
  {
   "cell_type": "markdown",
   "id": "3cd1f1f6-1a5c-44a4-b121-0abcbdd8cb77",
   "metadata": {},
   "source": [
    "### Operations between DF's and Series "
   ]
  },
  {
   "cell_type": "markdown",
   "id": "8cf7ef5b-652e-4256-9a40-1e8f74f24b53",
   "metadata": {},
   "source": [
    "As a motivating example, consider the subtraction between a 2d array and one of its rows. \n",
    "- `arr = np.arange(12.).reshape((3,4))`\n",
    "- `arr - arr[0]`\n",
    "In this example the subtraction is performed once for each row. This is referred to as **broadcasting**. Operations between a DF and a Series are similar."
   ]
  },
  {
   "cell_type": "markdown",
   "id": "a9258648-3f1c-4e6d-b478-0dba1c21d453",
   "metadata": {},
   "source": [
    "DF - Series: \n",
    "- `series = frame.iloc[0]`\n",
    "- By default arithmetic between DF and Series matches the index of the series on the DF's columns, broadcasting down the rows.\n",
    "- In other words, each row of the DF subtracts the Series. (df_row1 - Series), (df_row2 - Series), etc.\n",
    "- **Broadcasting** down the rows\n",
    "- If an index is not found in one or the other (DF or Series index), the objects will be reindexed to form the union.\n",
    "- Note that this means if the data is not in both, it will turn to a missing value."
   ]
  },
  {
   "cell_type": "markdown",
   "id": "2d4beecf-b6a9-40f7-a49c-766783626c2c",
   "metadata": {},
   "source": [
    "Broadcasting over the columns\n",
    "- You have to use one of the arithmetic methods for this. Ex. `.sub`\n",
    "- `series_1 = data_frame['col2']`\n",
    "- `data_frame.sub(series_1, axes='index')`\n",
    "- In this case, the axis number that we pass is the axis we want to **match on**. "
   ]
  },
  {
   "cell_type": "code",
   "execution_count": 25,
   "id": "038393d8-7cce-403c-a99d-38e274d872ab",
   "metadata": {},
   "outputs": [
    {
     "data": {
      "text/html": [
       "<div>\n",
       "<style scoped>\n",
       "    .dataframe tbody tr th:only-of-type {\n",
       "        vertical-align: middle;\n",
       "    }\n",
       "\n",
       "    .dataframe tbody tr th {\n",
       "        vertical-align: top;\n",
       "    }\n",
       "\n",
       "    .dataframe thead th {\n",
       "        text-align: right;\n",
       "    }\n",
       "</style>\n",
       "<table border=\"1\" class=\"dataframe\">\n",
       "  <thead>\n",
       "    <tr style=\"text-align: right;\">\n",
       "      <th></th>\n",
       "      <th>d</th>\n",
       "      <th>e</th>\n",
       "      <th>f</th>\n",
       "      <th>g</th>\n",
       "    </tr>\n",
       "  </thead>\n",
       "  <tbody>\n",
       "    <tr>\n",
       "      <th>a</th>\n",
       "      <td>0</td>\n",
       "      <td>1</td>\n",
       "      <td>2</td>\n",
       "      <td>3</td>\n",
       "    </tr>\n",
       "    <tr>\n",
       "      <th>b</th>\n",
       "      <td>4</td>\n",
       "      <td>5</td>\n",
       "      <td>6</td>\n",
       "      <td>7</td>\n",
       "    </tr>\n",
       "    <tr>\n",
       "      <th>c</th>\n",
       "      <td>8</td>\n",
       "      <td>9</td>\n",
       "      <td>10</td>\n",
       "      <td>11</td>\n",
       "    </tr>\n",
       "  </tbody>\n",
       "</table>\n",
       "</div>"
      ],
      "text/plain": [
       "   d  e   f   g\n",
       "a  0  1   2   3\n",
       "b  4  5   6   7\n",
       "c  8  9  10  11"
      ]
     },
     "execution_count": 25,
     "metadata": {},
     "output_type": "execute_result"
    }
   ],
   "source": [
    "data_frame_1 = pd.DataFrame(np.arange(12).reshape((3, 4)), index = ['a','b','c'], columns=['d','e','f','g'])\n",
    "data_frame_1"
   ]
  },
  {
   "cell_type": "code",
   "execution_count": 27,
   "id": "d1344604-3352-4223-9c8a-1ce7803ff91f",
   "metadata": {},
   "outputs": [
    {
     "data": {
      "text/plain": [
       "a    0\n",
       "b    4\n",
       "c    8\n",
       "Name: d, dtype: int64"
      ]
     },
     "execution_count": 27,
     "metadata": {},
     "output_type": "execute_result"
    }
   ],
   "source": [
    "series_1 = data_frame_1['d']\n",
    "series_1\n"
   ]
  },
  {
   "cell_type": "code",
   "execution_count": 32,
   "id": "3f406e8f-77c0-41b0-aabd-f99c9ca6475f",
   "metadata": {},
   "outputs": [
    {
     "data": {
      "text/html": [
       "<div>\n",
       "<style scoped>\n",
       "    .dataframe tbody tr th:only-of-type {\n",
       "        vertical-align: middle;\n",
       "    }\n",
       "\n",
       "    .dataframe tbody tr th {\n",
       "        vertical-align: top;\n",
       "    }\n",
       "\n",
       "    .dataframe thead th {\n",
       "        text-align: right;\n",
       "    }\n",
       "</style>\n",
       "<table border=\"1\" class=\"dataframe\">\n",
       "  <thead>\n",
       "    <tr style=\"text-align: right;\">\n",
       "      <th></th>\n",
       "      <th>d</th>\n",
       "      <th>e</th>\n",
       "      <th>f</th>\n",
       "      <th>g</th>\n",
       "    </tr>\n",
       "  </thead>\n",
       "  <tbody>\n",
       "    <tr>\n",
       "      <th>a</th>\n",
       "      <td>0</td>\n",
       "      <td>1</td>\n",
       "      <td>2</td>\n",
       "      <td>3</td>\n",
       "    </tr>\n",
       "    <tr>\n",
       "      <th>b</th>\n",
       "      <td>0</td>\n",
       "      <td>1</td>\n",
       "      <td>2</td>\n",
       "      <td>3</td>\n",
       "    </tr>\n",
       "    <tr>\n",
       "      <th>c</th>\n",
       "      <td>0</td>\n",
       "      <td>1</td>\n",
       "      <td>2</td>\n",
       "      <td>3</td>\n",
       "    </tr>\n",
       "  </tbody>\n",
       "</table>\n",
       "</div>"
      ],
      "text/plain": [
       "   d  e  f  g\n",
       "a  0  1  2  3\n",
       "b  0  1  2  3\n",
       "c  0  1  2  3"
      ]
     },
     "execution_count": 32,
     "metadata": {},
     "output_type": "execute_result"
    }
   ],
   "source": [
    "data_frame_1.sub(series_1, axis=0)"
   ]
  },
  {
   "cell_type": "markdown",
   "id": "fc210ab0-fe95-4298-8ba5-a21415f79e80",
   "metadata": {},
   "source": [
    "## Function Application and Mapping"
   ]
  },
  {
   "cell_type": "markdown",
   "id": "451b3e97-f27d-48db-9ec5-db9e452b09bf",
   "metadata": {},
   "source": [
    "NumPy `ufuncs` (universal functions) (element-wise array methods) also work with pandas objects.\n",
    "- `np.abs(frame)`\n"
   ]
  },
  {
   "cell_type": "markdown",
   "id": "bb8fdcef-7bca-49a7-8907-a4a98683319b",
   "metadata": {},
   "source": [
    "Another frequent operation is applying a function on one-dimensionsl arrays to each column or row. DataFrame's `apply` method does exactly this:\n",
    "- `f = lambda x: x.max() - x.min()` Compute the difference between the max and min of the series `x`\n",
    "- `frame.apply(f)` Apply this to the data frame -> apply this to each column.\n",
    "- The result is a series, one value (the output of `f`) for each column. the columns of `frame` are the indeces in this output series.\n",
    "- If you pass `axis='columns'` to `apply`, the function will be invoked once per row instead.\n",
    "- Now the output will be a series, the indeces of the output series will be the row indeces of `frame`, and the values will be the scalar value output of `f`."
   ]
  },
  {
   "cell_type": "markdown",
   "id": "580fccd8-66bf-4442-8f5c-a5715410b6a1",
   "metadata": {},
   "source": [
    "Many of the most common array statistics (like `sum`, `mean`) are DF methods, so using apply is not necessary. "
   ]
  },
  {
   "cell_type": "markdown",
   "id": "54a21322-88af-4f94-9b73-0f7171838358",
   "metadata": {},
   "source": [
    "Note, the function passed to `apply` method does not have to output a scalar value. It can return a series with multiple values. Note this changes the output significantly, depending on `function`. "
   ]
  },
  {
   "cell_type": "markdown",
   "id": "bb9915e6-ca60-4f9d-9530-7a0eb7af835d",
   "metadata": {},
   "source": [
    "Element-wise python functions can be used as well. \n",
    "- Series has a `map` method for applying an element-wise function.\n",
    "- `frame['column1'].map(function)`"
   ]
  },
  {
   "cell_type": "markdown",
   "id": "903b711b-2cec-4a99-a552-e0ff91255104",
   "metadata": {},
   "source": [
    "## Sorting and Ranking "
   ]
  },
  {
   "cell_type": "markdown",
   "id": "18b630f0-d555-4bb1-8e66-ff66eb8280ab",
   "metadata": {},
   "source": [
    "Sorting lexicographically by row or column indes, use the `sort_index` method, which returns a **new sorted object.** "
   ]
  },
  {
   "cell_type": "markdown",
   "id": "55afb11e-6a5c-4d7e-aa95-ac739d8f42d4",
   "metadata": {},
   "source": [
    "- `series.sort_index()`"
   ]
  },
  {
   "cell_type": "markdown",
   "id": "00202914-0a71-4540-9b7d-3456f267f34f",
   "metadata": {},
   "source": [
    "With a Df, you can sort by index on either axis. \n",
    "- `frame.sort_index(axis=0)`\n",
    "- Ascending order by default. Pass `ascending` argument to change this (bool).\n",
    "- Not passing axis arg results in row sorting."
   ]
  },
  {
   "cell_type": "markdown",
   "id": "18267e9a-8263-4b92-9885-57c21aaec112",
   "metadata": {},
   "source": [
    "Sorting a series by its values: \n",
    "- `series.sort_values()`\n",
    "- any missing (`NaN`) values are pushed to the end. "
   ]
  },
  {
   "cell_type": "markdown",
   "id": "3002ce3f-22d5-46fd-84dd-9249177a8c59",
   "metadata": {},
   "source": [
    " When sorting a DF, you can use the data in one or more columns as the sort keys. To do so, pass one or more column names to the `by` option of `sort_values`.\n",
    " - `data_frame.sort_values(by='column3')` Sorts the whole data frame according to column 3.\n",
    " - you can also pass more than one column to the `by` argument in a list `[]` syntax. "
   ]
  },
  {
   "cell_type": "markdown",
   "id": "8c5dfd75-1445-46eb-9aad-bdf2e5db799b",
   "metadata": {},
   "source": [
    "**Ranking** assigns ranks from 1 though the total number of valid data points in an array. \n",
    "- By default, the `rank method breaks ties by assigning each group the mean rank.\n",
    "- `data_frame.rank`\n",
    "- `series.rank`\n",
    "- ranks can also be assigned according to the order in which they are observed in the data.\n",
    "- Use the `method = 'first'` argument \n",
    "- You can also rank in descending order: `series.rank(ascending=False, method='max)` Here `method='max'` breaks ties using the maximum rank for of the whole group being ranked.\n",
    "- DF's can compute ranks over the rows or over the columns.\n",
    "- `data_frame.rank(axis='columns')` This will rank each column. "
   ]
  },
  {
   "cell_type": "markdown",
   "id": "e8cf697d-f899-449c-8103-6f02293d4afa",
   "metadata": {},
   "source": [
    "Tie-breaking methods with rank:\n",
    "- `average`\n",
    "- `min`\n",
    "- `max`\n",
    "- `first`\n",
    "- `dense`"
   ]
  },
  {
   "cell_type": "markdown",
   "id": "1dfc65ec-b7c6-4dcc-8fe0-4134fb5375f3",
   "metadata": {},
   "source": [
    "## Axis Indexeswith Duplicate Labels "
   ]
  },
  {
   "cell_type": "markdown",
   "id": "102d4257-5d52-42c5-9070-a52fcc26dc0f",
   "metadata": {},
   "source": [
    "Unique axis labels is not mandatory. \n",
    "- `series.is_unique` attribute can tell us whether its labels are unique or not. Returns bool"
   ]
  },
  {
   "cell_type": "markdown",
   "id": "7c9d7bda-3efb-48bb-bce6-d87ef19b686c",
   "metadata": {},
   "source": [
    "Data Selection behaves differently with duplicates. Indexing a label with multiple entries returns a series, while single entries return a scalar value. \n",
    "- In other words, if the index of the row **is not** a duplicate, it will return a single scalar value for that column\n",
    "- If the index of the row **is** a duplicate, it will return a series.\n",
    "- Just to reiterate, the output type from indexing can vary based on whether a label is repeated or not.\n",
    "- The same logic applies to DF's as well. "
   ]
  },
  {
   "cell_type": "markdown",
   "id": "5e26b406-3468-4d8c-b625-8714dc1e4446",
   "metadata": {},
   "source": [
    "# 5.3 Summarizing and Computing Descriptive Statistics "
   ]
  },
  {
   "cell_type": "markdown",
   "id": "7546cd8b-9e5a-41ca-ba7e-ea22b4e34543",
   "metadata": {},
   "source": [
    "Pandas objects are equipped with a set of common mathematical and statistical methods. They have similar methods found on NumPy arrays for handling missing data. \n",
    "- NA values are excluded unless the entire slice is NA, which can be disabled with `skipna` option.\n",
    "\n",
    "Common reduction / summary statistics methods include:\n",
    "- `axis` The axis to reduce over. 0 for DF rows, and 1 for cols\n",
    "- `skipna`\n",
    "- `level`\n",
    "- `idxmax` returns the index value of the max\n",
    "- `idxmin` ..\n",
    "\n",
    "Accumulations: \n",
    "- `data_frame.cumsum()`"
   ]
  },
  {
   "cell_type": "markdown",
   "id": "c12c7e4d-d58a-4cdc-81de-5dcd5dbf39e5",
   "metadata": {},
   "source": [
    "`describe` is not like these, it produces multiple summary stats in one shot. Try it on both numerical and non-numerical data. "
   ]
  },
  {
   "cell_type": "markdown",
   "id": "05f444c0-43de-4c7d-bb13-1500f2d80925",
   "metadata": {},
   "source": [
    "Descriptive and Summary Statistics: \n",
    "- `count`\n",
    "- `describe`\n",
    "- `min, max`\n",
    "- `argmin, argmax`\n",
    "- `idxmin, idxmax`\n",
    "- `quantile`\n",
    "- `sum`\n",
    "- `mean`\n",
    "- `median`\n",
    "- `mad`\n",
    "- `prod`\n",
    "- `var`\n",
    "- `std`\n",
    "- `skew`\n",
    "- `kurt`\n",
    "- `cumsum`\n",
    "- `cummin, cummax`\n",
    "- `cumprod`\n",
    "- `diff`\n",
    "- `pct_change`"
   ]
  },
  {
   "cell_type": "markdown",
   "id": "83b279c9-0349-44ce-b651-aee381140564",
   "metadata": {},
   "source": [
    "## Correlation and Covariance"
   ]
  },
  {
   "cell_type": "markdown",
   "id": "588af33d-75fa-40c5-b14b-317c49e22f9f",
   "metadata": {},
   "source": [
    "**Some** summary statistics like covariannce are computed from pairs of arguments. "
   ]
  },
  {
   "cell_type": "markdown",
   "id": "cd81552d-7d48-4c6e-a491-b927ee499431",
   "metadata": {},
   "source": [
    "The data that we will be working with has column labels as stock tickers (such as 'AAPL', 'GOOG'), the column indeces are dates (time series data) and the values are prices. "
   ]
  },
  {
   "cell_type": "markdown",
   "id": "5919a676-1aa2-4afe-ba15-942ad6289de1",
   "metadata": {},
   "source": [
    " Let's comput the percent change of the prices\n",
    " - `result = data_frame.pct_change()`\n",
    " - `result.tail()`\n",
    "\n",
    "The `corr` method of the series computes the correlation of the overlapping, non-NA, aligned-by-index values in two Series. `cov` does the same but for the covariance.\n",
    "- `result['column1'].corr(result['column2'])`\n",
    "- `result['column4'].cov(result['column5'])`\n",
    "\n",
    "If the columns are valid python attributes, we can select them with the following syntax \n",
    "- `result.column1.corr(column2)`\n",
    "\n",
    "Using these methods for DatFrames retuens a full correlation or covariance matrix as a DF. \n",
    "- Using DF's `corrwith()` method, we can compute **pairwise correlations** between a DF's columns or rows with another Series or DF.\n",
    "- `result.corrwith(result.column1))`\n",
    "- Passing a DF computes the correlations of **matching column names**.\n",
    "- Passing `axis='columns` does things row-by-row instead.\n",
    "- **In all cases, the data points are aligned by lavel before the correlation is computed.**"
   ]
  },
  {
   "cell_type": "markdown",
   "id": "a182c160-5f62-4231-86dd-ff665679dd71",
   "metadata": {},
   "source": [
    "## Unique Values, Value Counts, and Membership"
   ]
  },
  {
   "cell_type": "markdown",
   "id": "d2cb78a1-9f33-4c22-a58f-caeb5228a004",
   "metadata": {},
   "source": [
    "A class of related methods that extracts information about the values contained in a 1d series. \n",
    "- `series.unique()` gives us an array of the unique values in a series. They are not sorted, but can be with the `.sort()` method.\n",
    "- Since the `.unique()` method gives us an array, if you want to save it, assign it to a variable when calling it.\n",
    "- `series.value_counts()` computes a series containing value frequencies, sorted by value in descending order.\n",
    "- `pd.value_counts()` is also available as a top-level pandas method that can be used with any `array` or sequence\n",
    "- `isin` performs a vectorized set membership check and can be useful in filtering a datasetdown to a subset of values in a Series or column in a DF. The way in which it can be useful is by creating a boolean **mask**.\n",
    "- `mask = series.isin(['value1', 'value2'])`\n",
    "- Make a subset using the mask: `subset = series[mask]` "
   ]
  },
  {
   "cell_type": "markdown",
   "id": "0862c249-a6ab-477c-ba31-d315807ccd73",
   "metadata": {},
   "source": [
    "Unique value counts and set membership methods:\n",
    "- `isin`\n",
    "- `get_indexer`\n",
    "- `unique`\n",
    "- `value_counts`\n"
   ]
  },
  {
   "cell_type": "markdown",
   "id": "2737182a-91ec-4abc-8574-bc9300c14949",
   "metadata": {},
   "source": [
    "Question: What does the output of this look like"
   ]
  },
  {
   "cell_type": "code",
   "execution_count": 4,
   "id": "361fa338-7d21-4bef-b858-96268b6a1979",
   "metadata": {},
   "outputs": [
    {
     "data": {
      "text/html": [
       "<div>\n",
       "<style scoped>\n",
       "    .dataframe tbody tr th:only-of-type {\n",
       "        vertical-align: middle;\n",
       "    }\n",
       "\n",
       "    .dataframe tbody tr th {\n",
       "        vertical-align: top;\n",
       "    }\n",
       "\n",
       "    .dataframe thead th {\n",
       "        text-align: right;\n",
       "    }\n",
       "</style>\n",
       "<table border=\"1\" class=\"dataframe\">\n",
       "  <thead>\n",
       "    <tr style=\"text-align: right;\">\n",
       "      <th></th>\n",
       "      <th>Q1</th>\n",
       "      <th>Q2</th>\n",
       "      <th>Q3</th>\n",
       "    </tr>\n",
       "  </thead>\n",
       "  <tbody>\n",
       "    <tr>\n",
       "      <th>0</th>\n",
       "      <td>1</td>\n",
       "      <td>2</td>\n",
       "      <td>1</td>\n",
       "    </tr>\n",
       "    <tr>\n",
       "      <th>1</th>\n",
       "      <td>3</td>\n",
       "      <td>3</td>\n",
       "      <td>5</td>\n",
       "    </tr>\n",
       "    <tr>\n",
       "      <th>2</th>\n",
       "      <td>4</td>\n",
       "      <td>1</td>\n",
       "      <td>2</td>\n",
       "    </tr>\n",
       "    <tr>\n",
       "      <th>3</th>\n",
       "      <td>3</td>\n",
       "      <td>2</td>\n",
       "      <td>4</td>\n",
       "    </tr>\n",
       "    <tr>\n",
       "      <th>4</th>\n",
       "      <td>4</td>\n",
       "      <td>3</td>\n",
       "      <td>4</td>\n",
       "    </tr>\n",
       "  </tbody>\n",
       "</table>\n",
       "</div>"
      ],
      "text/plain": [
       "   Q1  Q2  Q3\n",
       "0   1   2   1\n",
       "1   3   3   5\n",
       "2   4   1   2\n",
       "3   3   2   4\n",
       "4   4   3   4"
      ]
     },
     "execution_count": 4,
     "metadata": {},
     "output_type": "execute_result"
    }
   ],
   "source": [
    "data = pd.DataFrame({'Q1': [1,3,4,3,4],\n",
    "                     'Q2': [2,3,1,2,3],\n",
    "                     'Q3': [1,5,2,4,4]})\n",
    "data"
   ]
  },
  {
   "cell_type": "markdown",
   "id": "bbe1d4fc-d644-427a-a0d3-06f136be6b71",
   "metadata": {},
   "source": [
    "- `result = data.apply(pd.value_counts).fillna(0)`"
   ]
  },
  {
   "cell_type": "markdown",
   "id": "aea5e025-c077-4a0d-9830-92ee99da0f50",
   "metadata": {},
   "source": [
    "Well, the `.apply` function applies the function to each column of the df. So we have `value_counts` being applied to each column. \n"
   ]
  },
  {
   "cell_type": "code",
   "execution_count": 15,
   "id": "8b33f714-320e-4d33-b5d2-f48aea475fb7",
   "metadata": {},
   "outputs": [
    {
     "name": "stderr",
     "output_type": "stream",
     "text": [
      "/tmp/ipykernel_7009/2724425074.py:1: FutureWarning: pandas.value_counts is deprecated and will be removed in a future version. Use pd.Series(obj).value_counts() instead.\n",
      "  data.apply(pd.value_counts)\n"
     ]
    },
    {
     "data": {
      "text/html": [
       "<div>\n",
       "<style scoped>\n",
       "    .dataframe tbody tr th:only-of-type {\n",
       "        vertical-align: middle;\n",
       "    }\n",
       "\n",
       "    .dataframe tbody tr th {\n",
       "        vertical-align: top;\n",
       "    }\n",
       "\n",
       "    .dataframe thead th {\n",
       "        text-align: right;\n",
       "    }\n",
       "</style>\n",
       "<table border=\"1\" class=\"dataframe\">\n",
       "  <thead>\n",
       "    <tr style=\"text-align: right;\">\n",
       "      <th></th>\n",
       "      <th>Q1</th>\n",
       "      <th>Q2</th>\n",
       "      <th>Q3</th>\n",
       "    </tr>\n",
       "  </thead>\n",
       "  <tbody>\n",
       "    <tr>\n",
       "      <th>1</th>\n",
       "      <td>1.0</td>\n",
       "      <td>1.0</td>\n",
       "      <td>1.0</td>\n",
       "    </tr>\n",
       "    <tr>\n",
       "      <th>2</th>\n",
       "      <td>NaN</td>\n",
       "      <td>2.0</td>\n",
       "      <td>1.0</td>\n",
       "    </tr>\n",
       "    <tr>\n",
       "      <th>3</th>\n",
       "      <td>2.0</td>\n",
       "      <td>2.0</td>\n",
       "      <td>NaN</td>\n",
       "    </tr>\n",
       "    <tr>\n",
       "      <th>4</th>\n",
       "      <td>2.0</td>\n",
       "      <td>NaN</td>\n",
       "      <td>2.0</td>\n",
       "    </tr>\n",
       "    <tr>\n",
       "      <th>5</th>\n",
       "      <td>NaN</td>\n",
       "      <td>NaN</td>\n",
       "      <td>1.0</td>\n",
       "    </tr>\n",
       "  </tbody>\n",
       "</table>\n",
       "</div>"
      ],
      "text/plain": [
       "    Q1   Q2   Q3\n",
       "1  1.0  1.0  1.0\n",
       "2  NaN  2.0  1.0\n",
       "3  2.0  2.0  NaN\n",
       "4  2.0  NaN  2.0\n",
       "5  NaN  NaN  1.0"
      ]
     },
     "execution_count": 15,
     "metadata": {},
     "output_type": "execute_result"
    }
   ],
   "source": [
    "data.apply(pd.value_counts)"
   ]
  },
  {
   "cell_type": "code",
   "execution_count": null,
   "id": "759c16b8-fca1-45ee-921d-8a6370c312d8",
   "metadata": {},
   "outputs": [],
   "source": []
  },
  {
   "cell_type": "code",
   "execution_count": null,
   "id": "d3279945-7f3e-49ea-968a-cc08c3202032",
   "metadata": {},
   "outputs": [],
   "source": []
  },
  {
   "cell_type": "code",
   "execution_count": null,
   "id": "7527d83b-5fd9-457c-a377-1384aaae6116",
   "metadata": {},
   "outputs": [],
   "source": []
  },
  {
   "cell_type": "code",
   "execution_count": null,
   "id": "1021feac-a6ff-4016-a0e0-43cdb5b00bda",
   "metadata": {},
   "outputs": [],
   "source": []
  },
  {
   "cell_type": "code",
   "execution_count": null,
   "id": "268287c5-6728-49a9-a6b2-2cbb6df48986",
   "metadata": {},
   "outputs": [],
   "source": []
  },
  {
   "cell_type": "code",
   "execution_count": null,
   "id": "4fa2c997-4a12-43e3-92bb-2173078e49d5",
   "metadata": {},
   "outputs": [],
   "source": []
  },
  {
   "cell_type": "code",
   "execution_count": null,
   "id": "7374465a-6494-43b2-875a-145da4d5ff96",
   "metadata": {},
   "outputs": [],
   "source": []
  },
  {
   "cell_type": "code",
   "execution_count": null,
   "id": "f48a662f-8048-4120-b9aa-b2fe8ae5e1e5",
   "metadata": {},
   "outputs": [],
   "source": []
  },
  {
   "cell_type": "code",
   "execution_count": null,
   "id": "438f6a89-ecb6-4f8e-8d7c-31860ed77fbc",
   "metadata": {},
   "outputs": [],
   "source": []
  },
  {
   "cell_type": "code",
   "execution_count": null,
   "id": "e42c7278-8fb3-4a84-85e5-3a066b25343a",
   "metadata": {},
   "outputs": [],
   "source": []
  },
  {
   "cell_type": "code",
   "execution_count": null,
   "id": "f5aedff5-b241-44a8-9517-d73cd4341200",
   "metadata": {},
   "outputs": [],
   "source": []
  },
  {
   "cell_type": "code",
   "execution_count": null,
   "id": "faf0b874-a09e-4b53-a916-6cda8e09e32d",
   "metadata": {},
   "outputs": [],
   "source": []
  },
  {
   "cell_type": "code",
   "execution_count": null,
   "id": "06a8e982-0410-47cc-9385-1c2bc536ac69",
   "metadata": {},
   "outputs": [],
   "source": []
  },
  {
   "cell_type": "code",
   "execution_count": null,
   "id": "5a38ec2b-3807-4a39-a362-10e1522fcf53",
   "metadata": {},
   "outputs": [],
   "source": []
  },
  {
   "cell_type": "code",
   "execution_count": null,
   "id": "9cfbae1c-6619-4ab3-b034-ce36691b7947",
   "metadata": {},
   "outputs": [],
   "source": []
  },
  {
   "cell_type": "code",
   "execution_count": null,
   "id": "96c396ae-e1fe-4ed1-a6fd-a62548814eb5",
   "metadata": {},
   "outputs": [],
   "source": []
  },
  {
   "cell_type": "code",
   "execution_count": null,
   "id": "13574a57-7e86-4d26-9220-a2cc25167e99",
   "metadata": {},
   "outputs": [],
   "source": []
  },
  {
   "cell_type": "code",
   "execution_count": null,
   "id": "9138b35e-a533-49e6-990a-94412e23fb63",
   "metadata": {},
   "outputs": [],
   "source": []
  },
  {
   "cell_type": "code",
   "execution_count": null,
   "id": "81adacdb-2abc-4d5a-a996-d42aee8397aa",
   "metadata": {},
   "outputs": [],
   "source": []
  }
 ],
 "metadata": {
  "kernelspec": {
   "display_name": "Python 3 (ipykernel)",
   "language": "python",
   "name": "python3"
  },
  "language_info": {
   "codemirror_mode": {
    "name": "ipython",
    "version": 3
   },
   "file_extension": ".py",
   "mimetype": "text/x-python",
   "name": "python",
   "nbconvert_exporter": "python",
   "pygments_lexer": "ipython3",
   "version": "3.12.3"
  }
 },
 "nbformat": 4,
 "nbformat_minor": 5
}
